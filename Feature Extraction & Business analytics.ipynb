{
 "cells": [
  {
   "cell_type": "markdown",
   "id": "2247f4f4",
   "metadata": {},
   "source": [
    "# **Bussiness Analytics**"
   ]
  },
  {
   "cell_type": "markdown",
   "id": "1b7c7e8c",
   "metadata": {},
   "source": [
    "### Impact of missing defect\n",
    "Cost of weld defects\n",
    "In a properly functioning welding operation, costs are typically broken down like this:\n",
    "\n",
    "Labor: 85 % <br />\n",
    "Filler metals: 6 % <br />\n",
    "Raw materials: 4 %<br />\n",
    "Shielding gas: 3 %<br />\n",
    "Electric power: 2 %<br />\n",
    "When a missed or defective weld goes undetected, these costs escalate at every stage in the welding operation and beyond. There are six key stages to consider the impact of a missed weld. \n",
    "\n",
    "**Stage one: weld cell**\n",
    "\n",
    "Identifying a missed or defective weld in the weld cell is ideal and smaller parts are generally simpler and less expensive to inspect and resolve than with larger components. \n",
    "Operators can usually add a missed weld easily — and at minimal cost. Weld defects may be slightly more difficult to address since the weld must be removed and reworked. This typically costs two to three times that of the original fabrication. \n",
    "\n",
    "**Stage two: subsequent weld cell**\n",
    "\n",
    "In operations with sub-assembly requirements, there may be additional weld cells to complete part production. Missed or defective welds found here have to be returned to the first weld cell if the operator does not have the equipment or qualifications to make adjustments. \n",
    "\n",
    "If the part is large, the company could accumulate downtime and additional costs for moving it. For lean, “just in time” welding operations, returning a part to the weld cell could create a bottleneck while the operator is forced to wait on a part. \n",
    "\n",
    "**Stage three: paint booth**\n",
    "\n",
    "Missed or defective welds identified after painting require the paint to be removed and the part returned to the original weld cell. These redundancies result in cost for labor and rework and for the paint. For larger components requiring painting all at once, that cost could be significant.\n",
    "\n",
    "**Stage four: final product assembly**\n",
    "\n",
    "If missed or defective welds reach this stage, the part will need to undergo three steps: disassembly, paint removal and fabrication. A dedicated employee with a mobile welding cart could resolve the problem or a welding operator from the weld cell could make the repair. Both add to downtime and labor costs, and a mobile welding cart requires a capital investment for equipment that may only be used periodically.\n",
    "\n",
    "**Stage five: distributor or customer identification**\n",
    "\n",
    "If a distributor identifies a missed or defective weld, a company could accumulate costs to remove the product and deliver a new one. Those costs could be substantial for something like a piece of heavy equipment. Deploying a mobile welding unit or having a qualified distributor contact make repairs may be an option, but a costly one. \n",
    "If a customer detects a problem with the finished product, it can lead to warranty claims and require removal and replacement of the product. \n",
    "\n",
    "It may also cause a company to lose contracts and put their brand reputation at risk if missed or defective welds occur frequently. \n",
    "\n",
    "**Stage six: liability claim**\n",
    "\n",
    "Property damage or bodily injury is the most significant consequence of a missed or defective weld — and one that far exceeds any financial ramifications, although those still exist. Liability claims can generate significant expenses and too many could lead to future loss of business and profits. Again, these effects are always secondary to a catastrophic event, but companies must consider them as due course of operating a successful business.\n",
    "\n",
    "\n",
    "So its best in to stop these effects at the earliest possible stages to avoid compounding of the losses and in turn save on capital for the company."
   ]
  },
  {
   "cell_type": "code",
   "execution_count": 1,
   "id": "84ca38a5",
   "metadata": {},
   "outputs": [
    {
     "data": {
      "text/html": [
       "        <script type=\"text/javascript\">\n",
       "        window.PlotlyConfig = {MathJaxConfig: 'local'};\n",
       "        if (window.MathJax) {MathJax.Hub.Config({SVG: {font: \"STIX-Web\"}});}\n",
       "        if (typeof require !== 'undefined') {\n",
       "        require.undef(\"plotly\");\n",
       "        requirejs.config({\n",
       "            paths: {\n",
       "                'plotly': ['https://cdn.plot.ly/plotly-2.11.1.min']\n",
       "            }\n",
       "        });\n",
       "        require(['plotly'], function(Plotly) {\n",
       "            window._Plotly = Plotly;\n",
       "        });\n",
       "        }\n",
       "        </script>\n",
       "        "
      ]
     },
     "metadata": {},
     "output_type": "display_data"
    }
   ],
   "source": [
    "#importing Libraries\n",
    "import matplotlib.pyplot as plt\n",
    "import seaborn as sns \n",
    "import numpy as np\n",
    "import pandas as pd\n",
    "import numpy as np\n",
    "import random as rnd\n",
    "from sklearn.metrics import confusion_matrix\n",
    "import seaborn as sns\n",
    "import matplotlib.gridspec as gridspec\n",
    "from sklearn.preprocessing import StandardScaler\n",
    "from numpy import genfromtxt\n",
    "from scipy.stats import multivariate_normal\n",
    "from sklearn.metrics import f1_score\n",
    "from sklearn.metrics import recall_score , average_precision_score\n",
    "from sklearn.metrics import precision_score, precision_recall_curve\n",
    "%matplotlib inline\n",
    "import plotly.graph_objs as go\n",
    "from plotly.offline import download_plotlyjs,init_notebook_mode,plot,iplot\n",
    "init_notebook_mode(connected=True)\n",
    "from sklearn.ensemble import RandomForestClassifier, AdaBoostClassifier, GradientBoostingClassifier, ExtraTreesClassifier, VotingClassifier\n",
    "from sklearn.ensemble import RandomForestRegressor\n",
    "from sklearn.discriminant_analysis import LinearDiscriminantAnalysis\n",
    "from sklearn.linear_model import LogisticRegression\n",
    "from sklearn.neighbors import KNeighborsClassifier\n",
    "from sklearn.tree import DecisionTreeClassifier\n",
    "from sklearn.neural_network import MLPClassifier\n",
    "from sklearn.svm import SVC\n",
    "from sklearn.model_selection import GridSearchCV, cross_val_score, StratifiedKFold, learning_curve"
   ]
  },
  {
   "cell_type": "markdown",
   "id": "fe6c4c6a",
   "metadata": {},
   "source": [
    "### Data Loading and Preprocessing"
   ]
  },
  {
   "cell_type": "code",
   "execution_count": 2,
   "id": "bcad7524",
   "metadata": {
    "scrolled": false
   },
   "outputs": [
    {
     "name": "stderr",
     "output_type": "stream",
     "text": [
      "/var/folders/56/8qxbxkps1g73zstry__01qrc0000gn/T/ipykernel_42318/1742374449.py:2: DtypeWarning:\n",
      "\n",
      "Columns (0,2,3,6,7,8,9,10,11,22,27,32,37,42,47,52,57,62,67,72,77,82,87) have mixed types. Specify dtype option on import or set low_memory=False.\n",
      "\n"
     ]
    }
   ],
   "source": [
    "# we have changed the dataset name for our convinience\n",
    "train = pd.read_csv(\"/Users/raunakpandey/tensorflow-test/weldright/Submission/NEWDATA.csv\")"
   ]
  },
  {
   "cell_type": "code",
   "execution_count": 3,
   "id": "5355b30a",
   "metadata": {},
   "outputs": [
    {
     "data": {
      "text/html": [
       "<div>\n",
       "<style scoped>\n",
       "    .dataframe tbody tr th:only-of-type {\n",
       "        vertical-align: middle;\n",
       "    }\n",
       "\n",
       "    .dataframe tbody tr th {\n",
       "        vertical-align: top;\n",
       "    }\n",
       "\n",
       "    .dataframe thead th {\n",
       "        text-align: right;\n",
       "    }\n",
       "</style>\n",
       "<table border=\"1\" class=\"dataframe\">\n",
       "  <thead>\n",
       "    <tr style=\"text-align: right;\">\n",
       "      <th></th>\n",
       "      <th>Employee Code</th>\n",
       "      <th>Machine</th>\n",
       "      <th>Production</th>\n",
       "      <th>Order Operation No</th>\n",
       "      <th>Date</th>\n",
       "      <th>Time</th>\n",
       "      <th>Current</th>\n",
       "      <th>Humidity</th>\n",
       "      <th>Temperature</th>\n",
       "      <th>Flow</th>\n",
       "      <th>...</th>\n",
       "      <th>Unnamed: 78</th>\n",
       "      <th>Unnamed: 79</th>\n",
       "      <th>Unnamed: 80</th>\n",
       "      <th>Unnamed: 81</th>\n",
       "      <th>Unnamed: 82</th>\n",
       "      <th>Unnamed: 83</th>\n",
       "      <th>Unnamed: 84</th>\n",
       "      <th>Unnamed: 85</th>\n",
       "      <th>Unnamed: 86</th>\n",
       "      <th>Unnamed: 87</th>\n",
       "    </tr>\n",
       "  </thead>\n",
       "  <tbody>\n",
       "    <tr>\n",
       "      <th>0</th>\n",
       "      <td>(Office id of employee)</td>\n",
       "      <td>(Welding machine name)</td>\n",
       "      <td>(Project order number)</td>\n",
       "      <td>(This captures the activity to be performed by...</td>\n",
       "      <td>(date of activity)</td>\n",
       "      <td>(Timestamp for the activity)</td>\n",
       "      <td>(In Ampere)</td>\n",
       "      <td>(Relative humidity in %)</td>\n",
       "      <td>(in degree celsius)</td>\n",
       "      <td>(in liters per min (LPM))</td>\n",
       "      <td>...</td>\n",
       "      <td>NaN</td>\n",
       "      <td>NaN</td>\n",
       "      <td>NaN</td>\n",
       "      <td>NaN</td>\n",
       "      <td>NaN</td>\n",
       "      <td>NaN</td>\n",
       "      <td>NaN</td>\n",
       "      <td>NaN</td>\n",
       "      <td>NaN</td>\n",
       "      <td>NaN</td>\n",
       "    </tr>\n",
       "    <tr>\n",
       "      <th>1</th>\n",
       "      <td>383138</td>\n",
       "      <td>TWLD23</td>\n",
       "      <td>E10002436</td>\n",
       "      <td>40</td>\n",
       "      <td>22-08-2022</td>\n",
       "      <td>10:44:10:129</td>\n",
       "      <td>27.85</td>\n",
       "      <td>84</td>\n",
       "      <td>24</td>\n",
       "      <td>3.12</td>\n",
       "      <td>...</td>\n",
       "      <td>NaN</td>\n",
       "      <td>NaN</td>\n",
       "      <td>NaN</td>\n",
       "      <td>NaN</td>\n",
       "      <td>NaN</td>\n",
       "      <td>NaN</td>\n",
       "      <td>NaN</td>\n",
       "      <td>NaN</td>\n",
       "      <td>NaN</td>\n",
       "      <td>NaN</td>\n",
       "    </tr>\n",
       "    <tr>\n",
       "      <th>2</th>\n",
       "      <td>383138</td>\n",
       "      <td>TWLD23</td>\n",
       "      <td>E10002436</td>\n",
       "      <td>40</td>\n",
       "      <td>22-08-2022</td>\n",
       "      <td>10:44:10:630</td>\n",
       "      <td>27.38</td>\n",
       "      <td>84</td>\n",
       "      <td>24</td>\n",
       "      <td>3.08</td>\n",
       "      <td>...</td>\n",
       "      <td>NaN</td>\n",
       "      <td>NaN</td>\n",
       "      <td>NaN</td>\n",
       "      <td>NaN</td>\n",
       "      <td>NaN</td>\n",
       "      <td>NaN</td>\n",
       "      <td>NaN</td>\n",
       "      <td>NaN</td>\n",
       "      <td>NaN</td>\n",
       "      <td>NaN</td>\n",
       "    </tr>\n",
       "    <tr>\n",
       "      <th>3</th>\n",
       "      <td>383138</td>\n",
       "      <td>TWLD23</td>\n",
       "      <td>E10002436</td>\n",
       "      <td>40</td>\n",
       "      <td>22-08-2022</td>\n",
       "      <td>10:44:11:127</td>\n",
       "      <td>26.89</td>\n",
       "      <td>84</td>\n",
       "      <td>24</td>\n",
       "      <td>3.08</td>\n",
       "      <td>...</td>\n",
       "      <td>NaN</td>\n",
       "      <td>NaN</td>\n",
       "      <td>NaN</td>\n",
       "      <td>NaN</td>\n",
       "      <td>NaN</td>\n",
       "      <td>NaN</td>\n",
       "      <td>NaN</td>\n",
       "      <td>NaN</td>\n",
       "      <td>NaN</td>\n",
       "      <td>NaN</td>\n",
       "    </tr>\n",
       "    <tr>\n",
       "      <th>4</th>\n",
       "      <td>383138</td>\n",
       "      <td>TWLD23</td>\n",
       "      <td>E10002436</td>\n",
       "      <td>40</td>\n",
       "      <td>22-08-2022</td>\n",
       "      <td>10:44:11:630</td>\n",
       "      <td>27.86</td>\n",
       "      <td>84</td>\n",
       "      <td>24</td>\n",
       "      <td>3.05</td>\n",
       "      <td>...</td>\n",
       "      <td>NaN</td>\n",
       "      <td>NaN</td>\n",
       "      <td>NaN</td>\n",
       "      <td>NaN</td>\n",
       "      <td>NaN</td>\n",
       "      <td>NaN</td>\n",
       "      <td>NaN</td>\n",
       "      <td>NaN</td>\n",
       "      <td>NaN</td>\n",
       "      <td>NaN</td>\n",
       "    </tr>\n",
       "  </tbody>\n",
       "</table>\n",
       "<p>5 rows × 88 columns</p>\n",
       "</div>"
      ],
      "text/plain": [
       "             Employee Code                 Machine              Production  \\\n",
       "0  (Office id of employee)  (Welding machine name)  (Project order number)   \n",
       "1                   383138                  TWLD23               E10002436   \n",
       "2                   383138                  TWLD23               E10002436   \n",
       "3                   383138                  TWLD23               E10002436   \n",
       "4                   383138                  TWLD23               E10002436   \n",
       "\n",
       "                                  Order Operation No                Date  \\\n",
       "0  (This captures the activity to be performed by...  (date of activity)   \n",
       "1                                                 40          22-08-2022   \n",
       "2                                                 40          22-08-2022   \n",
       "3                                                 40          22-08-2022   \n",
       "4                                                 40          22-08-2022   \n",
       "\n",
       "                           Time      Current                  Humidity  \\\n",
       "0  (Timestamp for the activity)  (In Ampere)  (Relative humidity in %)   \n",
       "1                  10:44:10:129        27.85                        84   \n",
       "2                  10:44:10:630        27.38                        84   \n",
       "3                  10:44:11:127        26.89                        84   \n",
       "4                  10:44:11:630        27.86                        84   \n",
       "\n",
       "           Temperature                       Flow  ... Unnamed: 78  \\\n",
       "0  (in degree celsius)  (in liters per min (LPM))  ...         NaN   \n",
       "1                   24                       3.12  ...         NaN   \n",
       "2                   24                       3.08  ...         NaN   \n",
       "3                   24                       3.08  ...         NaN   \n",
       "4                   24                       3.05  ...         NaN   \n",
       "\n",
       "  Unnamed: 79 Unnamed: 80  Unnamed: 81  Unnamed: 82  Unnamed: 83  Unnamed: 84  \\\n",
       "0         NaN         NaN          NaN          NaN          NaN          NaN   \n",
       "1         NaN         NaN          NaN          NaN          NaN          NaN   \n",
       "2         NaN         NaN          NaN          NaN          NaN          NaN   \n",
       "3         NaN         NaN          NaN          NaN          NaN          NaN   \n",
       "4         NaN         NaN          NaN          NaN          NaN          NaN   \n",
       "\n",
       "   Unnamed: 85  Unnamed: 86  Unnamed: 87  \n",
       "0          NaN          NaN          NaN  \n",
       "1          NaN          NaN          NaN  \n",
       "2          NaN          NaN          NaN  \n",
       "3          NaN          NaN          NaN  \n",
       "4          NaN          NaN          NaN  \n",
       "\n",
       "[5 rows x 88 columns]"
      ]
     },
     "execution_count": 3,
     "metadata": {},
     "output_type": "execute_result"
    }
   ],
   "source": [
    "train.head()"
   ]
  },
  {
   "cell_type": "code",
   "execution_count": 4,
   "id": "e72b61a0",
   "metadata": {},
   "outputs": [],
   "source": [
    "train=train.drop([0])\n",
    "#dropping the first row since it only contains a description of the columns and doesnt help while operating on the data"
   ]
  },
  {
   "cell_type": "code",
   "execution_count": 5,
   "id": "a7a91c25",
   "metadata": {},
   "outputs": [],
   "source": [
    "train.drop(train.iloc[:, 13:88], inplace=True, axis=1)\n",
    "#removing the noise containing rows filled with Nan values from the data for further processes"
   ]
  },
  {
   "cell_type": "code",
   "execution_count": 6,
   "id": "6eea0305",
   "metadata": {},
   "outputs": [
    {
     "data": {
      "text/html": [
       "<div>\n",
       "<style scoped>\n",
       "    .dataframe tbody tr th:only-of-type {\n",
       "        vertical-align: middle;\n",
       "    }\n",
       "\n",
       "    .dataframe tbody tr th {\n",
       "        vertical-align: top;\n",
       "    }\n",
       "\n",
       "    .dataframe thead th {\n",
       "        text-align: right;\n",
       "    }\n",
       "</style>\n",
       "<table border=\"1\" class=\"dataframe\">\n",
       "  <thead>\n",
       "    <tr style=\"text-align: right;\">\n",
       "      <th></th>\n",
       "      <th>Employee Code</th>\n",
       "      <th>Machine</th>\n",
       "      <th>Production</th>\n",
       "      <th>Order Operation No</th>\n",
       "      <th>Date</th>\n",
       "      <th>Time</th>\n",
       "      <th>Current</th>\n",
       "      <th>Humidity</th>\n",
       "      <th>Temperature</th>\n",
       "      <th>Flow</th>\n",
       "      <th>Job Temp</th>\n",
       "      <th>Voltage</th>\n",
       "      <th>Defect</th>\n",
       "    </tr>\n",
       "  </thead>\n",
       "  <tbody>\n",
       "    <tr>\n",
       "      <th>1</th>\n",
       "      <td>383138</td>\n",
       "      <td>TWLD23</td>\n",
       "      <td>E10002436</td>\n",
       "      <td>40</td>\n",
       "      <td>22-08-2022</td>\n",
       "      <td>10:44:10:129</td>\n",
       "      <td>27.85</td>\n",
       "      <td>84</td>\n",
       "      <td>24</td>\n",
       "      <td>3.12</td>\n",
       "      <td>30.1</td>\n",
       "      <td>9.122</td>\n",
       "      <td>No Defect</td>\n",
       "    </tr>\n",
       "    <tr>\n",
       "      <th>2</th>\n",
       "      <td>383138</td>\n",
       "      <td>TWLD23</td>\n",
       "      <td>E10002436</td>\n",
       "      <td>40</td>\n",
       "      <td>22-08-2022</td>\n",
       "      <td>10:44:10:630</td>\n",
       "      <td>27.38</td>\n",
       "      <td>84</td>\n",
       "      <td>24</td>\n",
       "      <td>3.08</td>\n",
       "      <td>30.1</td>\n",
       "      <td>9.129</td>\n",
       "      <td>No Defect</td>\n",
       "    </tr>\n",
       "    <tr>\n",
       "      <th>3</th>\n",
       "      <td>383138</td>\n",
       "      <td>TWLD23</td>\n",
       "      <td>E10002436</td>\n",
       "      <td>40</td>\n",
       "      <td>22-08-2022</td>\n",
       "      <td>10:44:11:127</td>\n",
       "      <td>26.89</td>\n",
       "      <td>84</td>\n",
       "      <td>24</td>\n",
       "      <td>3.08</td>\n",
       "      <td>29.3</td>\n",
       "      <td>9.17</td>\n",
       "      <td>No Defect</td>\n",
       "    </tr>\n",
       "    <tr>\n",
       "      <th>4</th>\n",
       "      <td>383138</td>\n",
       "      <td>TWLD23</td>\n",
       "      <td>E10002436</td>\n",
       "      <td>40</td>\n",
       "      <td>22-08-2022</td>\n",
       "      <td>10:44:11:630</td>\n",
       "      <td>27.86</td>\n",
       "      <td>84</td>\n",
       "      <td>24</td>\n",
       "      <td>3.05</td>\n",
       "      <td>29.3</td>\n",
       "      <td>9.104</td>\n",
       "      <td>No Defect</td>\n",
       "    </tr>\n",
       "    <tr>\n",
       "      <th>5</th>\n",
       "      <td>383138</td>\n",
       "      <td>TWLD23</td>\n",
       "      <td>E10002436</td>\n",
       "      <td>40</td>\n",
       "      <td>22-08-2022</td>\n",
       "      <td>10:44:12:132</td>\n",
       "      <td>27.81</td>\n",
       "      <td>84</td>\n",
       "      <td>24</td>\n",
       "      <td>3.05</td>\n",
       "      <td>29.3</td>\n",
       "      <td>9.045</td>\n",
       "      <td>No Defect</td>\n",
       "    </tr>\n",
       "  </tbody>\n",
       "</table>\n",
       "</div>"
      ],
      "text/plain": [
       "  Employee Code Machine Production Order Operation No        Date  \\\n",
       "1        383138  TWLD23  E10002436                 40  22-08-2022   \n",
       "2        383138  TWLD23  E10002436                 40  22-08-2022   \n",
       "3        383138  TWLD23  E10002436                 40  22-08-2022   \n",
       "4        383138  TWLD23  E10002436                 40  22-08-2022   \n",
       "5        383138  TWLD23  E10002436                 40  22-08-2022   \n",
       "\n",
       "           Time Current Humidity Temperature  Flow Job Temp Voltage     Defect  \n",
       "1  10:44:10:129   27.85       84          24  3.12     30.1   9.122  No Defect  \n",
       "2  10:44:10:630   27.38       84          24  3.08     30.1   9.129  No Defect  \n",
       "3  10:44:11:127   26.89       84          24  3.08     29.3    9.17  No Defect  \n",
       "4  10:44:11:630   27.86       84          24  3.05     29.3   9.104  No Defect  \n",
       "5  10:44:12:132   27.81       84          24  3.05     29.3   9.045  No Defect  "
      ]
     },
     "execution_count": 6,
     "metadata": {},
     "output_type": "execute_result"
    }
   ],
   "source": [
    "train.head()"
   ]
  },
  {
   "cell_type": "code",
   "execution_count": 7,
   "id": "d4afaa53",
   "metadata": {},
   "outputs": [
    {
     "data": {
      "text/plain": [
       "Current               3\n",
       "Employee Code         0\n",
       "Machine               0\n",
       "Production            0\n",
       "Order Operation No    0\n",
       "Date                  0\n",
       "Time                  0\n",
       "Humidity              0\n",
       "Temperature           0\n",
       "Flow                  0\n",
       "Job Temp              0\n",
       "Voltage               0\n",
       "Defect                0\n",
       "dtype: int64"
      ]
     },
     "execution_count": 7,
     "metadata": {},
     "output_type": "execute_result"
    }
   ],
   "source": [
    "train.isnull().sum().sort_values(ascending = False)"
   ]
  },
  {
   "cell_type": "code",
   "execution_count": 8,
   "id": "addf220b",
   "metadata": {},
   "outputs": [
    {
     "data": {
      "text/plain": [
       "TWLD23    827534\n",
       "Name: Machine, dtype: int64"
      ]
     },
     "execution_count": 8,
     "metadata": {},
     "output_type": "execute_result"
    }
   ],
   "source": [
    "train['Machine'].value_counts()"
   ]
  },
  {
   "cell_type": "code",
   "execution_count": 9,
   "id": "22b06f7d",
   "metadata": {},
   "outputs": [
    {
     "data": {
      "text/plain": [
       "array(['TWLD23'], dtype=object)"
      ]
     },
     "execution_count": 9,
     "metadata": {},
     "output_type": "execute_result"
    }
   ],
   "source": [
    "train['Machine'].unique()"
   ]
  },
  {
   "cell_type": "markdown",
   "id": "efb5c8d8",
   "metadata": {},
   "source": [
    "#### Only one kind of machine has been used in the process so it cannot be associated with the cause of the defects in the welding process."
   ]
  },
  {
   "cell_type": "code",
   "execution_count": 10,
   "id": "d5f1b487",
   "metadata": {},
   "outputs": [
    {
     "data": {
      "text/plain": [
       "array(['E10002436', 'Test coopan', '-15003217', -15003217, -150033027,\n",
       "       15003062, '15003062', 'E15003220', 'E15002881', 'E50006711',\n",
       "       'E15003200', 'E15003202', 'E15003056', 'E15002963', 'E10002437',\n",
       "       'E15003219', 'E15003201', 'E15002965', 'E15002966', '#NAME?', '-'],\n",
       "      dtype=object)"
      ]
     },
     "execution_count": 10,
     "metadata": {},
     "output_type": "execute_result"
    }
   ],
   "source": [
    "train['Production'].unique()"
   ]
  },
  {
   "cell_type": "code",
   "execution_count": 11,
   "id": "775c6923",
   "metadata": {},
   "outputs": [],
   "source": [
    "#define values\n",
    "values = ['Test coopan','#NAME?','-']\n",
    "\n",
    "#drop rows that contain any value in the list\n",
    "train = train[train.Production.isin(values) == False]"
   ]
  },
  {
   "cell_type": "code",
   "execution_count": 12,
   "id": "38a94980",
   "metadata": {},
   "outputs": [
    {
     "data": {
      "text/plain": [
       "array(['E10002436', '-15003217', -15003217, -150033027, 15003062,\n",
       "       '15003062', 'E15003220', 'E15002881', 'E50006711', 'E15003200',\n",
       "       'E15003202', 'E15003056', 'E15002963', 'E10002437', 'E15003219',\n",
       "       'E15003201', 'E15002965', 'E15002966'], dtype=object)"
      ]
     },
     "execution_count": 12,
     "metadata": {},
     "output_type": "execute_result"
    }
   ],
   "source": [
    "train['Production'].unique()"
   ]
  },
  {
   "cell_type": "code",
   "execution_count": 13,
   "id": "cd04818d",
   "metadata": {},
   "outputs": [],
   "source": [
    "old_values = ['E10002436','-15003217', -15003217, -150033027,\n",
    "       15003062, '15003062', 'E15003220', 'E15002881', 'E50006711',\n",
    "       'E15003200', 'E15003202', 'E15003056', 'E15002963', 'E10002437',\n",
    "       'E15003219', 'E15003201', 'E15002965', 'E15002966']\n",
    "new_values = ['E10002436', 'E15003217','E15003217','E150033027','E15003062','E15003062',\n",
    "             'E15003220','E15002881', 'E50006711','E15003200', 'E15003202', 'E15003056', 'E15002963', 'E10002437',\n",
    "            'E15003219', 'E15003201', 'E15002965', 'E15002966']\n",
    "\n",
    "train['Production']=train.Production.replace(old_values, new_values)"
   ]
  },
  {
   "cell_type": "code",
   "execution_count": 14,
   "id": "e5dc2db8",
   "metadata": {},
   "outputs": [
    {
     "data": {
      "text/plain": [
       "array(['E10002436', 'E15003217', 'E150033027', 'E15003062', 'E15003220',\n",
       "       'E15002881', 'E50006711', 'E15003200', 'E15003202', 'E15003056',\n",
       "       'E15002963', 'E10002437', 'E15003219', 'E15003201', 'E15002965',\n",
       "       'E15002966'], dtype=object)"
      ]
     },
     "execution_count": 14,
     "metadata": {},
     "output_type": "execute_result"
    }
   ],
   "source": [
    "train['Production'].unique()"
   ]
  },
  {
   "cell_type": "markdown",
   "id": "0a1e8c16",
   "metadata": {},
   "source": [
    "#### We have cleaned the data in the production methods column now leaving us with 16 different production processes to analyse further."
   ]
  },
  {
   "cell_type": "code",
   "execution_count": 15,
   "id": "608c3a42",
   "metadata": {},
   "outputs": [
    {
     "data": {
      "text/plain": [
       "array(['383138', '0', '394269', 394269, 383138, 0, 97346, 394965, 391342,\n",
       "       394365, 382617], dtype=object)"
      ]
     },
     "execution_count": 15,
     "metadata": {},
     "output_type": "execute_result"
    }
   ],
   "source": [
    "train['Employee Code'].unique()"
   ]
  },
  {
   "cell_type": "code",
   "execution_count": 16,
   "id": "dbc7ded6",
   "metadata": {},
   "outputs": [
    {
     "data": {
      "text/plain": [
       "array(['22-08-2022', '23-08-2022', '24-08-2022', '26-08-2022',\n",
       "       '27-08-2022', '29-08-2022', '30-08-2022', '01-09-2022',\n",
       "       '02-09-2022', '03-09-2022', '05-09-2022', '06-09-2022',\n",
       "       '07-09-2022', '08-09-2022', '09-09-2022', '10-09-2022',\n",
       "       '12-09-2022'], dtype=object)"
      ]
     },
     "execution_count": 16,
     "metadata": {},
     "output_type": "execute_result"
    }
   ],
   "source": [
    "train['Date'].unique()"
   ]
  },
  {
   "cell_type": "code",
   "execution_count": 17,
   "id": "a3773413",
   "metadata": {},
   "outputs": [],
   "source": [
    "train.dropna(inplace=True)"
   ]
  },
  {
   "cell_type": "code",
   "execution_count": 18,
   "id": "f2c3d4f3",
   "metadata": {},
   "outputs": [],
   "source": [
    "train.drop(['Machine'], axis=1,inplace=True)\n",
    "\n",
    "\n",
    "\n",
    "#train['Order Operation No'] = train['Order Operation No'].astype(int)\n",
    "train['Current'] = train['Current'].astype(float)\n",
    "train['Humidity'] = train['Humidity'].astype(float)\n",
    "train['Temperature'] = train['Temperature'].astype(float)\n",
    "train['Flow'] = train['Flow'].astype(float)\n",
    "train['Job Temp'] = train['Job Temp'].astype(float)\n",
    "train['Voltage'] = train['Voltage'].astype(float)\n",
    "train['Defect'] = train['Defect'].astype(str)\n",
    "train['Date'] = train['Date'].astype(str)"
   ]
  },
  {
   "cell_type": "code",
   "execution_count": 19,
   "id": "dff1b4b3",
   "metadata": {},
   "outputs": [],
   "source": [
    "train['date'] = train['Date'].str[:2]\n",
    "train['month']=train.Date.str.slice(3,5)\n",
    "train.drop(['Date'], axis=1,inplace=True)"
   ]
  },
  {
   "cell_type": "code",
   "execution_count": 20,
   "id": "bfc77ceb",
   "metadata": {},
   "outputs": [],
   "source": [
    "train['Defectinitials'] = train['Defect'].str[:2]"
   ]
  },
  {
   "cell_type": "code",
   "execution_count": 21,
   "id": "78b98a20",
   "metadata": {},
   "outputs": [
    {
     "data": {
      "text/plain": [
       "array(['No', 'Po', 'Tu'], dtype=object)"
      ]
     },
     "execution_count": 21,
     "metadata": {},
     "output_type": "execute_result"
    }
   ],
   "source": [
    "train['Defectinitials'].unique()"
   ]
  },
  {
   "cell_type": "code",
   "execution_count": 22,
   "id": "9bf65ca7",
   "metadata": {},
   "outputs": [
    {
     "data": {
      "text/plain": [
       "No    473439\n",
       "Tu      2745\n",
       "Po       694\n",
       "Name: Defectinitials, dtype: int64"
      ]
     },
     "execution_count": 22,
     "metadata": {},
     "output_type": "execute_result"
    }
   ],
   "source": [
    "train['Defectinitials'].value_counts()"
   ]
  },
  {
   "cell_type": "code",
   "execution_count": 23,
   "id": "67147e80",
   "metadata": {},
   "outputs": [
    {
     "data": {
      "text/plain": [
       "240     276330\n",
       "180      64165\n",
       "180-     53238\n",
       "40       39068\n",
       "240      20413\n",
       "30       15473\n",
       "40        8191\n",
       "Name: Order Operation No, dtype: int64"
      ]
     },
     "execution_count": 23,
     "metadata": {},
     "output_type": "execute_result"
    }
   ],
   "source": [
    "train['Order Operation No'].value_counts()"
   ]
  },
  {
   "cell_type": "code",
   "execution_count": 24,
   "id": "f09e44c9",
   "metadata": {},
   "outputs": [],
   "source": [
    "old_values = ['Tu', 'Po']\n",
    "new_values = ['Tu', 'Tu']\n",
    "\n",
    "train['Defectinitials']=train.Defectinitials.replace(old_values, new_values)"
   ]
  },
  {
   "cell_type": "markdown",
   "id": "b72b0765",
   "metadata": {},
   "source": [
    "#### Since we only wish to analyse if there is a defect or not irrespective of its type, we will group both the defects under the same name for current analysis."
   ]
  },
  {
   "cell_type": "code",
   "execution_count": 25,
   "id": "ebafa536",
   "metadata": {},
   "outputs": [
    {
     "data": {
      "text/plain": [
       "array(['No', 'Tu'], dtype=object)"
      ]
     },
     "execution_count": 25,
     "metadata": {},
     "output_type": "execute_result"
    }
   ],
   "source": [
    "train['Defectinitials'].unique()"
   ]
  },
  {
   "cell_type": "code",
   "execution_count": 26,
   "id": "f1f05e00",
   "metadata": {},
   "outputs": [],
   "source": [
    "train.rename(columns={'Order Operation No': 'operationnumber',}, inplace=True)"
   ]
  },
  {
   "cell_type": "code",
   "execution_count": 27,
   "id": "1063783c",
   "metadata": {},
   "outputs": [
    {
     "data": {
      "text/plain": [
       "array(['40', 40, '180-', '240', 240, 30, 180], dtype=object)"
      ]
     },
     "execution_count": 27,
     "metadata": {},
     "output_type": "execute_result"
    }
   ],
   "source": [
    "train['operationnumber'].unique()"
   ]
  },
  {
   "cell_type": "code",
   "execution_count": 28,
   "id": "cca75787",
   "metadata": {},
   "outputs": [],
   "source": [
    "train.rename(columns={'Employee Code': 'employeecode',}, inplace=True)"
   ]
  },
  {
   "cell_type": "code",
   "execution_count": 29,
   "id": "d3f7955c",
   "metadata": {},
   "outputs": [],
   "source": [
    "old_values = ['382617']\n",
    "new_values = [382617]\n",
    "\n",
    "train['employeecode']=train.employeecode.replace(old_values, new_values)"
   ]
  },
  {
   "cell_type": "code",
   "execution_count": 30,
   "id": "abf2f68a",
   "metadata": {},
   "outputs": [],
   "source": [
    "train['employeecode'] = train['employeecode'].astype(int)"
   ]
  },
  {
   "cell_type": "code",
   "execution_count": 31,
   "id": "714124a5",
   "metadata": {},
   "outputs": [],
   "source": [
    "EmpCode=train['employeecode'].unique()"
   ]
  },
  {
   "cell_type": "code",
   "execution_count": 32,
   "id": "11b2eeed",
   "metadata": {},
   "outputs": [],
   "source": [
    "old_values = ['240', '-240','-','130','1','180-']\n",
    "new_values = [240,240,0,130,1,180]\n",
    "\n",
    "train['operationnumber']=train.operationnumber.replace(old_values, new_values)"
   ]
  },
  {
   "cell_type": "code",
   "execution_count": 33,
   "id": "933fc2e7",
   "metadata": {},
   "outputs": [
    {
     "data": {
      "text/plain": [
       "array(['40', 40, 180, 240, 30], dtype=object)"
      ]
     },
     "execution_count": 33,
     "metadata": {},
     "output_type": "execute_result"
    }
   ],
   "source": [
    "train['operationnumber'].unique()"
   ]
  },
  {
   "cell_type": "code",
   "execution_count": 34,
   "id": "cce3d41b",
   "metadata": {},
   "outputs": [],
   "source": [
    "train['operationnumber'] = train['operationnumber'].astype(int)"
   ]
  },
  {
   "cell_type": "code",
   "execution_count": 35,
   "id": "827c4ec1",
   "metadata": {},
   "outputs": [],
   "source": [
    "from sklearn.preprocessing import LabelEncoder\n",
    "labelencoder = LabelEncoder()\n",
    "train['Defect'] = labelencoder.fit_transform(train['Defectinitials'])"
   ]
  },
  {
   "cell_type": "markdown",
   "id": "a799db3c",
   "metadata": {},
   "source": [
    "#### Encoding the defectinitials column for prediction of defect"
   ]
  },
  {
   "cell_type": "code",
   "execution_count": 36,
   "id": "b24c480c",
   "metadata": {},
   "outputs": [
    {
     "data": {
      "text/html": [
       "<div>\n",
       "<style scoped>\n",
       "    .dataframe tbody tr th:only-of-type {\n",
       "        vertical-align: middle;\n",
       "    }\n",
       "\n",
       "    .dataframe tbody tr th {\n",
       "        vertical-align: top;\n",
       "    }\n",
       "\n",
       "    .dataframe thead th {\n",
       "        text-align: right;\n",
       "    }\n",
       "</style>\n",
       "<table border=\"1\" class=\"dataframe\">\n",
       "  <thead>\n",
       "    <tr style=\"text-align: right;\">\n",
       "      <th></th>\n",
       "      <th>employeecode</th>\n",
       "      <th>Production</th>\n",
       "      <th>operationnumber</th>\n",
       "      <th>Time</th>\n",
       "      <th>Current</th>\n",
       "      <th>Humidity</th>\n",
       "      <th>Temperature</th>\n",
       "      <th>Flow</th>\n",
       "      <th>Job Temp</th>\n",
       "      <th>Voltage</th>\n",
       "      <th>Defect</th>\n",
       "      <th>date</th>\n",
       "      <th>month</th>\n",
       "      <th>Defectinitials</th>\n",
       "    </tr>\n",
       "  </thead>\n",
       "  <tbody>\n",
       "    <tr>\n",
       "      <th>1</th>\n",
       "      <td>383138</td>\n",
       "      <td>E10002436</td>\n",
       "      <td>40</td>\n",
       "      <td>10:44:10:129</td>\n",
       "      <td>27.85</td>\n",
       "      <td>84.0</td>\n",
       "      <td>24.0</td>\n",
       "      <td>3.12</td>\n",
       "      <td>30.1</td>\n",
       "      <td>9.122</td>\n",
       "      <td>0</td>\n",
       "      <td>22</td>\n",
       "      <td>08</td>\n",
       "      <td>No</td>\n",
       "    </tr>\n",
       "    <tr>\n",
       "      <th>2</th>\n",
       "      <td>383138</td>\n",
       "      <td>E10002436</td>\n",
       "      <td>40</td>\n",
       "      <td>10:44:10:630</td>\n",
       "      <td>27.38</td>\n",
       "      <td>84.0</td>\n",
       "      <td>24.0</td>\n",
       "      <td>3.08</td>\n",
       "      <td>30.1</td>\n",
       "      <td>9.129</td>\n",
       "      <td>0</td>\n",
       "      <td>22</td>\n",
       "      <td>08</td>\n",
       "      <td>No</td>\n",
       "    </tr>\n",
       "    <tr>\n",
       "      <th>3</th>\n",
       "      <td>383138</td>\n",
       "      <td>E10002436</td>\n",
       "      <td>40</td>\n",
       "      <td>10:44:11:127</td>\n",
       "      <td>26.89</td>\n",
       "      <td>84.0</td>\n",
       "      <td>24.0</td>\n",
       "      <td>3.08</td>\n",
       "      <td>29.3</td>\n",
       "      <td>9.170</td>\n",
       "      <td>0</td>\n",
       "      <td>22</td>\n",
       "      <td>08</td>\n",
       "      <td>No</td>\n",
       "    </tr>\n",
       "    <tr>\n",
       "      <th>4</th>\n",
       "      <td>383138</td>\n",
       "      <td>E10002436</td>\n",
       "      <td>40</td>\n",
       "      <td>10:44:11:630</td>\n",
       "      <td>27.86</td>\n",
       "      <td>84.0</td>\n",
       "      <td>24.0</td>\n",
       "      <td>3.05</td>\n",
       "      <td>29.3</td>\n",
       "      <td>9.104</td>\n",
       "      <td>0</td>\n",
       "      <td>22</td>\n",
       "      <td>08</td>\n",
       "      <td>No</td>\n",
       "    </tr>\n",
       "    <tr>\n",
       "      <th>5</th>\n",
       "      <td>383138</td>\n",
       "      <td>E10002436</td>\n",
       "      <td>40</td>\n",
       "      <td>10:44:12:132</td>\n",
       "      <td>27.81</td>\n",
       "      <td>84.0</td>\n",
       "      <td>24.0</td>\n",
       "      <td>3.05</td>\n",
       "      <td>29.3</td>\n",
       "      <td>9.045</td>\n",
       "      <td>0</td>\n",
       "      <td>22</td>\n",
       "      <td>08</td>\n",
       "      <td>No</td>\n",
       "    </tr>\n",
       "  </tbody>\n",
       "</table>\n",
       "</div>"
      ],
      "text/plain": [
       "   employeecode Production  operationnumber          Time  Current  Humidity  \\\n",
       "1        383138  E10002436               40  10:44:10:129    27.85      84.0   \n",
       "2        383138  E10002436               40  10:44:10:630    27.38      84.0   \n",
       "3        383138  E10002436               40  10:44:11:127    26.89      84.0   \n",
       "4        383138  E10002436               40  10:44:11:630    27.86      84.0   \n",
       "5        383138  E10002436               40  10:44:12:132    27.81      84.0   \n",
       "\n",
       "   Temperature  Flow  Job Temp  Voltage  Defect date month Defectinitials  \n",
       "1         24.0  3.12      30.1    9.122       0   22    08             No  \n",
       "2         24.0  3.08      30.1    9.129       0   22    08             No  \n",
       "3         24.0  3.08      29.3    9.170       0   22    08             No  \n",
       "4         24.0  3.05      29.3    9.104       0   22    08             No  \n",
       "5         24.0  3.05      29.3    9.045       0   22    08             No  "
      ]
     },
     "execution_count": 36,
     "metadata": {},
     "output_type": "execute_result"
    }
   ],
   "source": [
    "train.head()"
   ]
  },
  {
   "cell_type": "code",
   "execution_count": 37,
   "id": "2b8bf8e1",
   "metadata": {},
   "outputs": [],
   "source": [
    "train.drop(['Defectinitials'], axis=1,inplace=True)"
   ]
  },
  {
   "cell_type": "markdown",
   "id": "25ed6ca3",
   "metadata": {},
   "source": [
    "### Final,Clean Data"
   ]
  },
  {
   "cell_type": "code",
   "execution_count": 38,
   "id": "949f22a0",
   "metadata": {
    "scrolled": false
   },
   "outputs": [
    {
     "data": {
      "text/html": [
       "<div>\n",
       "<style scoped>\n",
       "    .dataframe tbody tr th:only-of-type {\n",
       "        vertical-align: middle;\n",
       "    }\n",
       "\n",
       "    .dataframe tbody tr th {\n",
       "        vertical-align: top;\n",
       "    }\n",
       "\n",
       "    .dataframe thead th {\n",
       "        text-align: right;\n",
       "    }\n",
       "</style>\n",
       "<table border=\"1\" class=\"dataframe\">\n",
       "  <thead>\n",
       "    <tr style=\"text-align: right;\">\n",
       "      <th></th>\n",
       "      <th>employeecode</th>\n",
       "      <th>Production</th>\n",
       "      <th>operationnumber</th>\n",
       "      <th>Time</th>\n",
       "      <th>Current</th>\n",
       "      <th>Humidity</th>\n",
       "      <th>Temperature</th>\n",
       "      <th>Flow</th>\n",
       "      <th>Job Temp</th>\n",
       "      <th>Voltage</th>\n",
       "      <th>Defect</th>\n",
       "      <th>date</th>\n",
       "      <th>month</th>\n",
       "    </tr>\n",
       "  </thead>\n",
       "  <tbody>\n",
       "    <tr>\n",
       "      <th>1</th>\n",
       "      <td>383138</td>\n",
       "      <td>E10002436</td>\n",
       "      <td>40</td>\n",
       "      <td>10:44:10:129</td>\n",
       "      <td>27.85</td>\n",
       "      <td>84.0</td>\n",
       "      <td>24.0</td>\n",
       "      <td>3.12</td>\n",
       "      <td>30.1</td>\n",
       "      <td>9.122</td>\n",
       "      <td>0</td>\n",
       "      <td>22</td>\n",
       "      <td>08</td>\n",
       "    </tr>\n",
       "    <tr>\n",
       "      <th>2</th>\n",
       "      <td>383138</td>\n",
       "      <td>E10002436</td>\n",
       "      <td>40</td>\n",
       "      <td>10:44:10:630</td>\n",
       "      <td>27.38</td>\n",
       "      <td>84.0</td>\n",
       "      <td>24.0</td>\n",
       "      <td>3.08</td>\n",
       "      <td>30.1</td>\n",
       "      <td>9.129</td>\n",
       "      <td>0</td>\n",
       "      <td>22</td>\n",
       "      <td>08</td>\n",
       "    </tr>\n",
       "    <tr>\n",
       "      <th>3</th>\n",
       "      <td>383138</td>\n",
       "      <td>E10002436</td>\n",
       "      <td>40</td>\n",
       "      <td>10:44:11:127</td>\n",
       "      <td>26.89</td>\n",
       "      <td>84.0</td>\n",
       "      <td>24.0</td>\n",
       "      <td>3.08</td>\n",
       "      <td>29.3</td>\n",
       "      <td>9.170</td>\n",
       "      <td>0</td>\n",
       "      <td>22</td>\n",
       "      <td>08</td>\n",
       "    </tr>\n",
       "    <tr>\n",
       "      <th>4</th>\n",
       "      <td>383138</td>\n",
       "      <td>E10002436</td>\n",
       "      <td>40</td>\n",
       "      <td>10:44:11:630</td>\n",
       "      <td>27.86</td>\n",
       "      <td>84.0</td>\n",
       "      <td>24.0</td>\n",
       "      <td>3.05</td>\n",
       "      <td>29.3</td>\n",
       "      <td>9.104</td>\n",
       "      <td>0</td>\n",
       "      <td>22</td>\n",
       "      <td>08</td>\n",
       "    </tr>\n",
       "    <tr>\n",
       "      <th>5</th>\n",
       "      <td>383138</td>\n",
       "      <td>E10002436</td>\n",
       "      <td>40</td>\n",
       "      <td>10:44:12:132</td>\n",
       "      <td>27.81</td>\n",
       "      <td>84.0</td>\n",
       "      <td>24.0</td>\n",
       "      <td>3.05</td>\n",
       "      <td>29.3</td>\n",
       "      <td>9.045</td>\n",
       "      <td>0</td>\n",
       "      <td>22</td>\n",
       "      <td>08</td>\n",
       "    </tr>\n",
       "  </tbody>\n",
       "</table>\n",
       "</div>"
      ],
      "text/plain": [
       "   employeecode Production  operationnumber          Time  Current  Humidity  \\\n",
       "1        383138  E10002436               40  10:44:10:129    27.85      84.0   \n",
       "2        383138  E10002436               40  10:44:10:630    27.38      84.0   \n",
       "3        383138  E10002436               40  10:44:11:127    26.89      84.0   \n",
       "4        383138  E10002436               40  10:44:11:630    27.86      84.0   \n",
       "5        383138  E10002436               40  10:44:12:132    27.81      84.0   \n",
       "\n",
       "   Temperature  Flow  Job Temp  Voltage  Defect date month  \n",
       "1         24.0  3.12      30.1    9.122       0   22    08  \n",
       "2         24.0  3.08      30.1    9.129       0   22    08  \n",
       "3         24.0  3.08      29.3    9.170       0   22    08  \n",
       "4         24.0  3.05      29.3    9.104       0   22    08  \n",
       "5         24.0  3.05      29.3    9.045       0   22    08  "
      ]
     },
     "execution_count": 38,
     "metadata": {},
     "output_type": "execute_result"
    }
   ],
   "source": [
    "train.head()"
   ]
  },
  {
   "cell_type": "markdown",
   "id": "9af144ad",
   "metadata": {},
   "source": [
    "### Creation of dataframes on basis of whether the operation is defective or not"
   ]
  },
  {
   "cell_type": "code",
   "execution_count": 39,
   "id": "b08e1483",
   "metadata": {},
   "outputs": [],
   "source": [
    "trainy=train[train['Defect']==1]\n",
    "trainn=train[train['Defect']==0]"
   ]
  },
  {
   "cell_type": "code",
   "execution_count": 40,
   "id": "408a7abe",
   "metadata": {},
   "outputs": [
    {
     "data": {
      "text/html": [
       "<div>\n",
       "<style scoped>\n",
       "    .dataframe tbody tr th:only-of-type {\n",
       "        vertical-align: middle;\n",
       "    }\n",
       "\n",
       "    .dataframe tbody tr th {\n",
       "        vertical-align: top;\n",
       "    }\n",
       "\n",
       "    .dataframe thead th {\n",
       "        text-align: right;\n",
       "    }\n",
       "</style>\n",
       "<table border=\"1\" class=\"dataframe\">\n",
       "  <thead>\n",
       "    <tr style=\"text-align: right;\">\n",
       "      <th></th>\n",
       "      <th>employeecode</th>\n",
       "      <th>Production</th>\n",
       "      <th>operationnumber</th>\n",
       "      <th>Time</th>\n",
       "      <th>Current</th>\n",
       "      <th>Humidity</th>\n",
       "      <th>Temperature</th>\n",
       "      <th>Flow</th>\n",
       "      <th>Job Temp</th>\n",
       "      <th>Voltage</th>\n",
       "      <th>Defect</th>\n",
       "      <th>date</th>\n",
       "      <th>month</th>\n",
       "    </tr>\n",
       "  </thead>\n",
       "  <tbody>\n",
       "    <tr>\n",
       "      <th>346</th>\n",
       "      <td>383138</td>\n",
       "      <td>E10002436</td>\n",
       "      <td>40</td>\n",
       "      <td>10:47:12:977</td>\n",
       "      <td>-0.31</td>\n",
       "      <td>84.0</td>\n",
       "      <td>24.0</td>\n",
       "      <td>3.23</td>\n",
       "      <td>102.3</td>\n",
       "      <td>0.000</td>\n",
       "      <td>1</td>\n",
       "      <td>22</td>\n",
       "      <td>08</td>\n",
       "    </tr>\n",
       "    <tr>\n",
       "      <th>794</th>\n",
       "      <td>0</td>\n",
       "      <td>E10002436</td>\n",
       "      <td>40</td>\n",
       "      <td>16:46:31:308</td>\n",
       "      <td>25.18</td>\n",
       "      <td>73.0</td>\n",
       "      <td>23.0</td>\n",
       "      <td>4.42</td>\n",
       "      <td>28.3</td>\n",
       "      <td>8.637</td>\n",
       "      <td>1</td>\n",
       "      <td>22</td>\n",
       "      <td>08</td>\n",
       "    </tr>\n",
       "    <tr>\n",
       "      <th>1925</th>\n",
       "      <td>0</td>\n",
       "      <td>E10002436</td>\n",
       "      <td>40</td>\n",
       "      <td>17:24:15:557</td>\n",
       "      <td>0.19</td>\n",
       "      <td>79.0</td>\n",
       "      <td>22.0</td>\n",
       "      <td>4.56</td>\n",
       "      <td>28.3</td>\n",
       "      <td>0.000</td>\n",
       "      <td>1</td>\n",
       "      <td>22</td>\n",
       "      <td>08</td>\n",
       "    </tr>\n",
       "    <tr>\n",
       "      <th>2254</th>\n",
       "      <td>0</td>\n",
       "      <td>E10002436</td>\n",
       "      <td>40</td>\n",
       "      <td>17:27:12:609</td>\n",
       "      <td>24.19</td>\n",
       "      <td>79.0</td>\n",
       "      <td>22.0</td>\n",
       "      <td>4.38</td>\n",
       "      <td>27.1</td>\n",
       "      <td>9.646</td>\n",
       "      <td>1</td>\n",
       "      <td>22</td>\n",
       "      <td>08</td>\n",
       "    </tr>\n",
       "    <tr>\n",
       "      <th>2255</th>\n",
       "      <td>0</td>\n",
       "      <td>E10002436</td>\n",
       "      <td>40</td>\n",
       "      <td>17:27:13:127</td>\n",
       "      <td>24.55</td>\n",
       "      <td>79.0</td>\n",
       "      <td>22.0</td>\n",
       "      <td>4.38</td>\n",
       "      <td>27.1</td>\n",
       "      <td>9.096</td>\n",
       "      <td>1</td>\n",
       "      <td>22</td>\n",
       "      <td>08</td>\n",
       "    </tr>\n",
       "  </tbody>\n",
       "</table>\n",
       "</div>"
      ],
      "text/plain": [
       "      employeecode Production  operationnumber          Time  Current  \\\n",
       "346         383138  E10002436               40  10:47:12:977    -0.31   \n",
       "794              0  E10002436               40  16:46:31:308    25.18   \n",
       "1925             0  E10002436               40  17:24:15:557     0.19   \n",
       "2254             0  E10002436               40  17:27:12:609    24.19   \n",
       "2255             0  E10002436               40  17:27:13:127    24.55   \n",
       "\n",
       "      Humidity  Temperature  Flow  Job Temp  Voltage  Defect date month  \n",
       "346       84.0         24.0  3.23     102.3    0.000       1   22    08  \n",
       "794       73.0         23.0  4.42      28.3    8.637       1   22    08  \n",
       "1925      79.0         22.0  4.56      28.3    0.000       1   22    08  \n",
       "2254      79.0         22.0  4.38      27.1    9.646       1   22    08  \n",
       "2255      79.0         22.0  4.38      27.1    9.096       1   22    08  "
      ]
     },
     "execution_count": 40,
     "metadata": {},
     "output_type": "execute_result"
    }
   ],
   "source": [
    "trainy.head()"
   ]
  },
  {
   "cell_type": "code",
   "execution_count": 41,
   "id": "ca948060",
   "metadata": {},
   "outputs": [
    {
     "data": {
      "text/html": [
       "<div>\n",
       "<style scoped>\n",
       "    .dataframe tbody tr th:only-of-type {\n",
       "        vertical-align: middle;\n",
       "    }\n",
       "\n",
       "    .dataframe tbody tr th {\n",
       "        vertical-align: top;\n",
       "    }\n",
       "\n",
       "    .dataframe thead th {\n",
       "        text-align: right;\n",
       "    }\n",
       "</style>\n",
       "<table border=\"1\" class=\"dataframe\">\n",
       "  <thead>\n",
       "    <tr style=\"text-align: right;\">\n",
       "      <th></th>\n",
       "      <th>employeecode</th>\n",
       "      <th>Production</th>\n",
       "      <th>operationnumber</th>\n",
       "      <th>Time</th>\n",
       "      <th>Current</th>\n",
       "      <th>Humidity</th>\n",
       "      <th>Temperature</th>\n",
       "      <th>Flow</th>\n",
       "      <th>Job Temp</th>\n",
       "      <th>Voltage</th>\n",
       "      <th>Defect</th>\n",
       "      <th>date</th>\n",
       "      <th>month</th>\n",
       "    </tr>\n",
       "  </thead>\n",
       "  <tbody>\n",
       "    <tr>\n",
       "      <th>1</th>\n",
       "      <td>383138</td>\n",
       "      <td>E10002436</td>\n",
       "      <td>40</td>\n",
       "      <td>10:44:10:129</td>\n",
       "      <td>27.85</td>\n",
       "      <td>84.0</td>\n",
       "      <td>24.0</td>\n",
       "      <td>3.12</td>\n",
       "      <td>30.1</td>\n",
       "      <td>9.122</td>\n",
       "      <td>0</td>\n",
       "      <td>22</td>\n",
       "      <td>08</td>\n",
       "    </tr>\n",
       "    <tr>\n",
       "      <th>2</th>\n",
       "      <td>383138</td>\n",
       "      <td>E10002436</td>\n",
       "      <td>40</td>\n",
       "      <td>10:44:10:630</td>\n",
       "      <td>27.38</td>\n",
       "      <td>84.0</td>\n",
       "      <td>24.0</td>\n",
       "      <td>3.08</td>\n",
       "      <td>30.1</td>\n",
       "      <td>9.129</td>\n",
       "      <td>0</td>\n",
       "      <td>22</td>\n",
       "      <td>08</td>\n",
       "    </tr>\n",
       "    <tr>\n",
       "      <th>3</th>\n",
       "      <td>383138</td>\n",
       "      <td>E10002436</td>\n",
       "      <td>40</td>\n",
       "      <td>10:44:11:127</td>\n",
       "      <td>26.89</td>\n",
       "      <td>84.0</td>\n",
       "      <td>24.0</td>\n",
       "      <td>3.08</td>\n",
       "      <td>29.3</td>\n",
       "      <td>9.170</td>\n",
       "      <td>0</td>\n",
       "      <td>22</td>\n",
       "      <td>08</td>\n",
       "    </tr>\n",
       "    <tr>\n",
       "      <th>4</th>\n",
       "      <td>383138</td>\n",
       "      <td>E10002436</td>\n",
       "      <td>40</td>\n",
       "      <td>10:44:11:630</td>\n",
       "      <td>27.86</td>\n",
       "      <td>84.0</td>\n",
       "      <td>24.0</td>\n",
       "      <td>3.05</td>\n",
       "      <td>29.3</td>\n",
       "      <td>9.104</td>\n",
       "      <td>0</td>\n",
       "      <td>22</td>\n",
       "      <td>08</td>\n",
       "    </tr>\n",
       "    <tr>\n",
       "      <th>5</th>\n",
       "      <td>383138</td>\n",
       "      <td>E10002436</td>\n",
       "      <td>40</td>\n",
       "      <td>10:44:12:132</td>\n",
       "      <td>27.81</td>\n",
       "      <td>84.0</td>\n",
       "      <td>24.0</td>\n",
       "      <td>3.05</td>\n",
       "      <td>29.3</td>\n",
       "      <td>9.045</td>\n",
       "      <td>0</td>\n",
       "      <td>22</td>\n",
       "      <td>08</td>\n",
       "    </tr>\n",
       "  </tbody>\n",
       "</table>\n",
       "</div>"
      ],
      "text/plain": [
       "   employeecode Production  operationnumber          Time  Current  Humidity  \\\n",
       "1        383138  E10002436               40  10:44:10:129    27.85      84.0   \n",
       "2        383138  E10002436               40  10:44:10:630    27.38      84.0   \n",
       "3        383138  E10002436               40  10:44:11:127    26.89      84.0   \n",
       "4        383138  E10002436               40  10:44:11:630    27.86      84.0   \n",
       "5        383138  E10002436               40  10:44:12:132    27.81      84.0   \n",
       "\n",
       "   Temperature  Flow  Job Temp  Voltage  Defect date month  \n",
       "1         24.0  3.12      30.1    9.122       0   22    08  \n",
       "2         24.0  3.08      30.1    9.129       0   22    08  \n",
       "3         24.0  3.08      29.3    9.170       0   22    08  \n",
       "4         24.0  3.05      29.3    9.104       0   22    08  \n",
       "5         24.0  3.05      29.3    9.045       0   22    08  "
      ]
     },
     "execution_count": 41,
     "metadata": {},
     "output_type": "execute_result"
    }
   ],
   "source": [
    "trainn.head()"
   ]
  },
  {
   "cell_type": "markdown",
   "id": "ddd842ab",
   "metadata": {},
   "source": [
    "## Employee Efficiency\n",
    "### Analysing the data of defects employee wise to find the efficiency of the individual employers  "
   ]
  },
  {
   "cell_type": "code",
   "execution_count": 42,
   "id": "d8a1efa9",
   "metadata": {},
   "outputs": [],
   "source": [
    "grouped=train.groupby('employeecode')\n",
    "employee_efficiency=grouped['Defect'].value_counts()"
   ]
  },
  {
   "cell_type": "code",
   "execution_count": 43,
   "id": "417a1d62",
   "metadata": {},
   "outputs": [
    {
     "data": {
      "text/plain": [
       "employeecode  Defect\n",
       "0             0          11696\n",
       "              1             15\n",
       "97346         0          93405\n",
       "              1            683\n",
       "382617        0          33537\n",
       "              1            349\n",
       "383138        0          27239\n",
       "              1             56\n",
       "391342        0         156477\n",
       "              1           1314\n",
       "394269        0          74597\n",
       "              1            516\n",
       "394365        0          23740\n",
       "              1            182\n",
       "394965        0          52748\n",
       "              1            324\n",
       "Name: Defect, dtype: int64"
      ]
     },
     "execution_count": 43,
     "metadata": {},
     "output_type": "execute_result"
    }
   ],
   "source": [
    "employee_efficiency"
   ]
  },
  {
   "cell_type": "code",
   "execution_count": 44,
   "id": "1985b766",
   "metadata": {},
   "outputs": [],
   "source": [
    "grouped=train.groupby('operationnumber')\n",
    "operation_efficiency=grouped['Defect'].value_counts()"
   ]
  },
  {
   "cell_type": "code",
   "execution_count": 45,
   "id": "1d8f8532",
   "metadata": {},
   "outputs": [
    {
     "data": {
      "text/plain": [
       "operationnumber  Defect\n",
       "30               0          15441\n",
       "                 1             32\n",
       "40               0          47060\n",
       "                 1            199\n",
       "180              0         116512\n",
       "                 1            891\n",
       "240              0         294426\n",
       "                 1           2317\n",
       "Name: Defect, dtype: int64"
      ]
     },
     "execution_count": 45,
     "metadata": {},
     "output_type": "execute_result"
    }
   ],
   "source": [
    "operation_efficiency"
   ]
  },
  {
   "cell_type": "code",
   "execution_count": 46,
   "id": "63d532dc",
   "metadata": {},
   "outputs": [],
   "source": [
    "grouped=train.groupby('Production')\n",
    "Production_efficiency=grouped['Defect'].value_counts()"
   ]
  },
  {
   "cell_type": "code",
   "execution_count": 47,
   "id": "3466e034",
   "metadata": {},
   "outputs": [
    {
     "data": {
      "text/plain": [
       "Production  Defect\n",
       "E10002436   0         26312\n",
       "            1           160\n",
       "E10002437   0         20748\n",
       "            1            39\n",
       "E15002881   0         45780\n",
       "            1           455\n",
       "E15002963   0         14838\n",
       "            1           141\n",
       "E15002965   0          9978\n",
       "            1           175\n",
       "E15002966   0         43886\n",
       "            1           303\n",
       "E15003056   0         10492\n",
       "            1           125\n",
       "E15003062   0         22593\n",
       "            1           299\n",
       "E15003200   0         40601\n",
       "            1           289\n",
       "E15003201   0         24251\n",
       "            1           160\n",
       "E15003202   0         49333\n",
       "            1           274\n",
       "E15003217   0         52846\n",
       "            1           392\n",
       "E15003219   0         28923\n",
       "            1           214\n",
       "E15003220   0         24477\n",
       "            1            49\n",
       "E150033027  0         42940\n",
       "            1           332\n",
       "E50006711   0         15441\n",
       "            1            32\n",
       "Name: Defect, dtype: int64"
      ]
     },
     "execution_count": 47,
     "metadata": {},
     "output_type": "execute_result"
    }
   ],
   "source": [
    "Production_efficiency"
   ]
  },
  {
   "cell_type": "code",
   "execution_count": 48,
   "id": "c59ec879",
   "metadata": {},
   "outputs": [],
   "source": [
    "EmployeeEff = employee_efficiency.to_frame()"
   ]
  },
  {
   "cell_type": "code",
   "execution_count": 49,
   "id": "9be0c335",
   "metadata": {},
   "outputs": [
    {
     "data": {
      "text/html": [
       "<div>\n",
       "<style scoped>\n",
       "    .dataframe tbody tr th:only-of-type {\n",
       "        vertical-align: middle;\n",
       "    }\n",
       "\n",
       "    .dataframe tbody tr th {\n",
       "        vertical-align: top;\n",
       "    }\n",
       "\n",
       "    .dataframe thead th {\n",
       "        text-align: right;\n",
       "    }\n",
       "</style>\n",
       "<table border=\"1\" class=\"dataframe\">\n",
       "  <thead>\n",
       "    <tr style=\"text-align: right;\">\n",
       "      <th></th>\n",
       "      <th></th>\n",
       "      <th>Defect</th>\n",
       "    </tr>\n",
       "    <tr>\n",
       "      <th>employeecode</th>\n",
       "      <th>Defect</th>\n",
       "      <th></th>\n",
       "    </tr>\n",
       "  </thead>\n",
       "  <tbody>\n",
       "    <tr>\n",
       "      <th rowspan=\"2\" valign=\"top\">0</th>\n",
       "      <th>0</th>\n",
       "      <td>11696</td>\n",
       "    </tr>\n",
       "    <tr>\n",
       "      <th>1</th>\n",
       "      <td>15</td>\n",
       "    </tr>\n",
       "    <tr>\n",
       "      <th rowspan=\"2\" valign=\"top\">97346</th>\n",
       "      <th>0</th>\n",
       "      <td>93405</td>\n",
       "    </tr>\n",
       "    <tr>\n",
       "      <th>1</th>\n",
       "      <td>683</td>\n",
       "    </tr>\n",
       "    <tr>\n",
       "      <th rowspan=\"2\" valign=\"top\">382617</th>\n",
       "      <th>0</th>\n",
       "      <td>33537</td>\n",
       "    </tr>\n",
       "    <tr>\n",
       "      <th>1</th>\n",
       "      <td>349</td>\n",
       "    </tr>\n",
       "    <tr>\n",
       "      <th rowspan=\"2\" valign=\"top\">383138</th>\n",
       "      <th>0</th>\n",
       "      <td>27239</td>\n",
       "    </tr>\n",
       "    <tr>\n",
       "      <th>1</th>\n",
       "      <td>56</td>\n",
       "    </tr>\n",
       "    <tr>\n",
       "      <th rowspan=\"2\" valign=\"top\">391342</th>\n",
       "      <th>0</th>\n",
       "      <td>156477</td>\n",
       "    </tr>\n",
       "    <tr>\n",
       "      <th>1</th>\n",
       "      <td>1314</td>\n",
       "    </tr>\n",
       "    <tr>\n",
       "      <th rowspan=\"2\" valign=\"top\">394269</th>\n",
       "      <th>0</th>\n",
       "      <td>74597</td>\n",
       "    </tr>\n",
       "    <tr>\n",
       "      <th>1</th>\n",
       "      <td>516</td>\n",
       "    </tr>\n",
       "    <tr>\n",
       "      <th rowspan=\"2\" valign=\"top\">394365</th>\n",
       "      <th>0</th>\n",
       "      <td>23740</td>\n",
       "    </tr>\n",
       "    <tr>\n",
       "      <th>1</th>\n",
       "      <td>182</td>\n",
       "    </tr>\n",
       "    <tr>\n",
       "      <th rowspan=\"2\" valign=\"top\">394965</th>\n",
       "      <th>0</th>\n",
       "      <td>52748</td>\n",
       "    </tr>\n",
       "    <tr>\n",
       "      <th>1</th>\n",
       "      <td>324</td>\n",
       "    </tr>\n",
       "  </tbody>\n",
       "</table>\n",
       "</div>"
      ],
      "text/plain": [
       "                     Defect\n",
       "employeecode Defect        \n",
       "0            0        11696\n",
       "             1           15\n",
       "97346        0        93405\n",
       "             1          683\n",
       "382617       0        33537\n",
       "             1          349\n",
       "383138       0        27239\n",
       "             1           56\n",
       "391342       0       156477\n",
       "             1         1314\n",
       "394269       0        74597\n",
       "             1          516\n",
       "394365       0        23740\n",
       "             1          182\n",
       "394965       0        52748\n",
       "             1          324"
      ]
     },
     "execution_count": 49,
     "metadata": {},
     "output_type": "execute_result"
    }
   ],
   "source": [
    "EmployeeEff.head(50)"
   ]
  },
  {
   "cell_type": "code",
   "execution_count": 50,
   "id": "bea9a94c",
   "metadata": {},
   "outputs": [],
   "source": [
    "EmployeeEff.columns = EmployeeEff.columns.str.replace('Defect', 'DefectNum')"
   ]
  },
  {
   "cell_type": "code",
   "execution_count": 51,
   "id": "900bebf0",
   "metadata": {},
   "outputs": [],
   "source": [
    "EmpCode=[0, 382617, 383138, 391342 , 394269, 394365, 394965, 97346]"
   ]
  },
  {
   "cell_type": "code",
   "execution_count": 52,
   "id": "1a85927b",
   "metadata": {},
   "outputs": [
    {
     "name": "stdout",
     "output_type": "stream",
     "text": [
      "Employee Number  0 has efficiency 0.9987191529331397\n",
      "Employee Number  382617 has efficiency 0.9979483421872137\n",
      "Employee Number  383138 has efficiency 0.9927408383640847\n",
      "Employee Number  391342 has efficiency 0.9916725288514554\n",
      "Employee Number  394269 has efficiency 0.9931303502722565\n",
      "Employee Number  394365 has efficiency 0.9938950859210129\n",
      "Employee Number  394965 has efficiency 0.9897007613763796\n",
      "Employee Number  97346 has efficiency 0.9923919404732046\n"
     ]
    }
   ],
   "source": [
    "j=0\n",
    "for i in {0, 382617, 383138, 391342 , 394269, 394365, 394965, 97346}:\n",
    "    result=EmployeeEff['DefectNum'][i][0].sum()/(EmployeeEff['DefectNum'][i][0].sum()+EmployeeEff['DefectNum'][i][1].sum())\n",
    "    print(\"Employee Number \",EmpCode[j],\"has efficiency\" ,result )\n",
    "    j=j+1"
   ]
  },
  {
   "cell_type": "code",
   "execution_count": 53,
   "id": "4b31528f",
   "metadata": {},
   "outputs": [
    {
     "data": {
      "text/plain": [
       "<AxesSubplot:xlabel='employeecode,Defect'>"
      ]
     },
     "execution_count": 53,
     "metadata": {},
     "output_type": "execute_result"
    },
    {
     "data": {
      "image/png": "[encoded data removed]",
      "text/plain": [
       "<Figure size 432x288 with 1 Axes>"
      ]
     },
     "metadata": {
      "needs_background": "light"
     },
     "output_type": "display_data"
    }
   ],
   "source": [
    "trainy.groupby(['employeecode'])['Defect'].value_counts().plot(kind = \"bar\")"
   ]
  },
  {
   "cell_type": "code",
   "execution_count": 54,
   "id": "887d0c6e",
   "metadata": {},
   "outputs": [
    {
     "data": {
      "text/plain": [
       "<AxesSubplot:xlabel='employeecode,Defect'>"
      ]
     },
     "execution_count": 54,
     "metadata": {},
     "output_type": "execute_result"
    },
    {
     "data": {
      "image/png": "[encoded data removed]",
      "text/plain": [
       "<Figure size 432x288 with 1 Axes>"
      ]
     },
     "metadata": {
      "needs_background": "light"
     },
     "output_type": "display_data"
    }
   ],
   "source": [
    "trainn.groupby(['employeecode'])['Defect'].value_counts().plot(kind = \"bar\")"
   ]
  },
  {
   "cell_type": "markdown",
   "id": "588fa8c2",
   "metadata": {},
   "source": [
    "## Conclusion\n",
    "Employee number 382617 has efficiency 0.9897007613763796 <br />\n",
    "Employee number 0 has efficiency 0.9987191529331397"
   ]
  },
  {
   "cell_type": "markdown",
   "id": "8941e975",
   "metadata": {},
   "source": [
    "Employee number 382617 has the least amount of welds in the time period and at the same time has the worse efficiency,\n",
    "the best path for the company during the current recession would be to **lay off** the employee number 382617.\n",
    "With 0.98 efficiency ;over a month where an employee welded 40,000 times on average he would contribute to **440** defects alone compared to the **top three performers** who combined would produce **400** defects only."
   ]
  },
  {
   "cell_type": "markdown",
   "id": "a9ef0727",
   "metadata": {},
   "source": [
    "## Analysis of Operations"
   ]
  },
  {
   "cell_type": "code",
   "execution_count": 55,
   "id": "f97a6130",
   "metadata": {},
   "outputs": [],
   "source": [
    "OpEff = operation_efficiency.to_frame()"
   ]
  },
  {
   "cell_type": "code",
   "execution_count": 56,
   "id": "fad92512",
   "metadata": {},
   "outputs": [
    {
     "data": {
      "text/html": [
       "<div>\n",
       "<style scoped>\n",
       "    .dataframe tbody tr th:only-of-type {\n",
       "        vertical-align: middle;\n",
       "    }\n",
       "\n",
       "    .dataframe tbody tr th {\n",
       "        vertical-align: top;\n",
       "    }\n",
       "\n",
       "    .dataframe thead th {\n",
       "        text-align: right;\n",
       "    }\n",
       "</style>\n",
       "<table border=\"1\" class=\"dataframe\">\n",
       "  <thead>\n",
       "    <tr style=\"text-align: right;\">\n",
       "      <th></th>\n",
       "      <th></th>\n",
       "      <th>Defect</th>\n",
       "    </tr>\n",
       "    <tr>\n",
       "      <th>operationnumber</th>\n",
       "      <th>Defect</th>\n",
       "      <th></th>\n",
       "    </tr>\n",
       "  </thead>\n",
       "  <tbody>\n",
       "    <tr>\n",
       "      <th rowspan=\"2\" valign=\"top\">30</th>\n",
       "      <th>0</th>\n",
       "      <td>15441</td>\n",
       "    </tr>\n",
       "    <tr>\n",
       "      <th>1</th>\n",
       "      <td>32</td>\n",
       "    </tr>\n",
       "    <tr>\n",
       "      <th rowspan=\"2\" valign=\"top\">40</th>\n",
       "      <th>0</th>\n",
       "      <td>47060</td>\n",
       "    </tr>\n",
       "    <tr>\n",
       "      <th>1</th>\n",
       "      <td>199</td>\n",
       "    </tr>\n",
       "    <tr>\n",
       "      <th rowspan=\"2\" valign=\"top\">180</th>\n",
       "      <th>0</th>\n",
       "      <td>116512</td>\n",
       "    </tr>\n",
       "    <tr>\n",
       "      <th>1</th>\n",
       "      <td>891</td>\n",
       "    </tr>\n",
       "    <tr>\n",
       "      <th rowspan=\"2\" valign=\"top\">240</th>\n",
       "      <th>0</th>\n",
       "      <td>294426</td>\n",
       "    </tr>\n",
       "    <tr>\n",
       "      <th>1</th>\n",
       "      <td>2317</td>\n",
       "    </tr>\n",
       "  </tbody>\n",
       "</table>\n",
       "</div>"
      ],
      "text/plain": [
       "                        Defect\n",
       "operationnumber Defect        \n",
       "30              0        15441\n",
       "                1           32\n",
       "40              0        47060\n",
       "                1          199\n",
       "180             0       116512\n",
       "                1          891\n",
       "240             0       294426\n",
       "                1         2317"
      ]
     },
     "execution_count": 56,
     "metadata": {},
     "output_type": "execute_result"
    }
   ],
   "source": [
    "OpEff.head(50)"
   ]
  },
  {
   "cell_type": "code",
   "execution_count": 57,
   "id": "463de18f",
   "metadata": {},
   "outputs": [],
   "source": [
    "OpEff.columns = OpEff.columns.str.replace('Defect', 'DefectNum')"
   ]
  },
  {
   "cell_type": "code",
   "execution_count": 58,
   "id": "ad440c51",
   "metadata": {},
   "outputs": [],
   "source": [
    "OpNum=[30,40,180,240]"
   ]
  },
  {
   "cell_type": "code",
   "execution_count": 59,
   "id": "1eb28dad",
   "metadata": {
    "scrolled": true
   },
   "outputs": [
    {
     "name": "stdout",
     "output_type": "stream",
     "text": [
      "Operation Number  30 has efficiency 0.9957891618527688\n",
      "Operation Number  40 has efficiency 0.9921918966917501\n",
      "Operation Number  180 has efficiency 0.9924107561135576\n",
      "Operation Number  240 has efficiency 0.997931881341692\n"
     ]
    }
   ],
   "source": [
    "j=0\n",
    "for i in {30,40,180,240}:\n",
    "    result=OpEff['DefectNum'][i][0].sum()/(OpEff['DefectNum'][i][0].sum()+OpEff['DefectNum'][i][1].sum())\n",
    "    print(\"Operation Number \",OpNum[j],\"has efficiency\" ,result )\n",
    "    j=j+1"
   ]
  },
  {
   "cell_type": "code",
   "execution_count": 60,
   "id": "89a36bf6",
   "metadata": {},
   "outputs": [
    {
     "data": {
      "text/plain": [
       "<AxesSubplot:xlabel='operationnumber,Defect'>"
      ]
     },
     "execution_count": 60,
     "metadata": {},
     "output_type": "execute_result"
    },
    {
     "data": {
      "image/png": "[encoded data removed]",
      "text/plain": [
       "<Figure size 432x288 with 1 Axes>"
      ]
     },
     "metadata": {
      "needs_background": "light"
     },
     "output_type": "display_data"
    }
   ],
   "source": [
    "trainy.groupby(['operationnumber'])['Defect'].value_counts().plot(kind = \"bar\")"
   ]
  },
  {
   "cell_type": "code",
   "execution_count": 61,
   "id": "a36198fd",
   "metadata": {},
   "outputs": [
    {
     "data": {
      "text/plain": [
       "<AxesSubplot:xlabel='operationnumber,Defect'>"
      ]
     },
     "execution_count": 61,
     "metadata": {},
     "output_type": "execute_result"
    },
    {
     "data": {
      "image/png": "[encoded data removed]",
      "text/plain": [
       "<Figure size 432x288 with 1 Axes>"
      ]
     },
     "metadata": {
      "needs_background": "light"
     },
     "output_type": "display_data"
    }
   ],
   "source": [
    "trainn.groupby(['operationnumber'])['Defect'].value_counts().plot(kind = \"bar\")"
   ]
  },
  {
   "cell_type": "markdown",
   "id": "c390df80",
   "metadata": {},
   "source": [
    "## Conclusion\n",
    "Operation Number  180 has efficiency 0.9924107561135576; which is worse.<br/>\n",
    "Operation Number  240 has efficiency 0.997931881341692; which is best.<br/>"
   ]
  },
  {
   "cell_type": "markdown",
   "id": "38c36ba1",
   "metadata": {},
   "source": [
    "As the number of operations increase the defects increase. Opeartion Number 40 has least efficiency although this might be attributed to the complexity of the operation to be performed"
   ]
  },
  {
   "cell_type": "markdown",
   "id": "665929a2",
   "metadata": {},
   "source": [
    "<br />"
   ]
  },
  {
   "cell_type": "markdown",
   "id": "f631e195",
   "metadata": {},
   "source": [
    "## Analysis of Production Codes"
   ]
  },
  {
   "cell_type": "code",
   "execution_count": 62,
   "id": "3ddb535a",
   "metadata": {},
   "outputs": [],
   "source": [
    "ProdEff = Production_efficiency.to_frame()"
   ]
  },
  {
   "cell_type": "code",
   "execution_count": 63,
   "id": "4c8c9d1c",
   "metadata": {},
   "outputs": [
    {
     "data": {
      "text/html": [
       "<div>\n",
       "<style scoped>\n",
       "    .dataframe tbody tr th:only-of-type {\n",
       "        vertical-align: middle;\n",
       "    }\n",
       "\n",
       "    .dataframe tbody tr th {\n",
       "        vertical-align: top;\n",
       "    }\n",
       "\n",
       "    .dataframe thead th {\n",
       "        text-align: right;\n",
       "    }\n",
       "</style>\n",
       "<table border=\"1\" class=\"dataframe\">\n",
       "  <thead>\n",
       "    <tr style=\"text-align: right;\">\n",
       "      <th></th>\n",
       "      <th></th>\n",
       "      <th>Defect</th>\n",
       "    </tr>\n",
       "    <tr>\n",
       "      <th>Production</th>\n",
       "      <th>Defect</th>\n",
       "      <th></th>\n",
       "    </tr>\n",
       "  </thead>\n",
       "  <tbody>\n",
       "    <tr>\n",
       "      <th rowspan=\"2\" valign=\"top\">E10002436</th>\n",
       "      <th>0</th>\n",
       "      <td>26312</td>\n",
       "    </tr>\n",
       "    <tr>\n",
       "      <th>1</th>\n",
       "      <td>160</td>\n",
       "    </tr>\n",
       "    <tr>\n",
       "      <th rowspan=\"2\" valign=\"top\">E10002437</th>\n",
       "      <th>0</th>\n",
       "      <td>20748</td>\n",
       "    </tr>\n",
       "    <tr>\n",
       "      <th>1</th>\n",
       "      <td>39</td>\n",
       "    </tr>\n",
       "    <tr>\n",
       "      <th rowspan=\"2\" valign=\"top\">E15002881</th>\n",
       "      <th>0</th>\n",
       "      <td>45780</td>\n",
       "    </tr>\n",
       "    <tr>\n",
       "      <th>1</th>\n",
       "      <td>455</td>\n",
       "    </tr>\n",
       "    <tr>\n",
       "      <th rowspan=\"2\" valign=\"top\">E15002963</th>\n",
       "      <th>0</th>\n",
       "      <td>14838</td>\n",
       "    </tr>\n",
       "    <tr>\n",
       "      <th>1</th>\n",
       "      <td>141</td>\n",
       "    </tr>\n",
       "    <tr>\n",
       "      <th rowspan=\"2\" valign=\"top\">E15002965</th>\n",
       "      <th>0</th>\n",
       "      <td>9978</td>\n",
       "    </tr>\n",
       "    <tr>\n",
       "      <th>1</th>\n",
       "      <td>175</td>\n",
       "    </tr>\n",
       "    <tr>\n",
       "      <th rowspan=\"2\" valign=\"top\">E15002966</th>\n",
       "      <th>0</th>\n",
       "      <td>43886</td>\n",
       "    </tr>\n",
       "    <tr>\n",
       "      <th>1</th>\n",
       "      <td>303</td>\n",
       "    </tr>\n",
       "    <tr>\n",
       "      <th rowspan=\"2\" valign=\"top\">E15003056</th>\n",
       "      <th>0</th>\n",
       "      <td>10492</td>\n",
       "    </tr>\n",
       "    <tr>\n",
       "      <th>1</th>\n",
       "      <td>125</td>\n",
       "    </tr>\n",
       "    <tr>\n",
       "      <th rowspan=\"2\" valign=\"top\">E15003062</th>\n",
       "      <th>0</th>\n",
       "      <td>22593</td>\n",
       "    </tr>\n",
       "    <tr>\n",
       "      <th>1</th>\n",
       "      <td>299</td>\n",
       "    </tr>\n",
       "    <tr>\n",
       "      <th rowspan=\"2\" valign=\"top\">E15003200</th>\n",
       "      <th>0</th>\n",
       "      <td>40601</td>\n",
       "    </tr>\n",
       "    <tr>\n",
       "      <th>1</th>\n",
       "      <td>289</td>\n",
       "    </tr>\n",
       "    <tr>\n",
       "      <th rowspan=\"2\" valign=\"top\">E15003201</th>\n",
       "      <th>0</th>\n",
       "      <td>24251</td>\n",
       "    </tr>\n",
       "    <tr>\n",
       "      <th>1</th>\n",
       "      <td>160</td>\n",
       "    </tr>\n",
       "    <tr>\n",
       "      <th rowspan=\"2\" valign=\"top\">E15003202</th>\n",
       "      <th>0</th>\n",
       "      <td>49333</td>\n",
       "    </tr>\n",
       "    <tr>\n",
       "      <th>1</th>\n",
       "      <td>274</td>\n",
       "    </tr>\n",
       "    <tr>\n",
       "      <th rowspan=\"2\" valign=\"top\">E15003217</th>\n",
       "      <th>0</th>\n",
       "      <td>52846</td>\n",
       "    </tr>\n",
       "    <tr>\n",
       "      <th>1</th>\n",
       "      <td>392</td>\n",
       "    </tr>\n",
       "    <tr>\n",
       "      <th rowspan=\"2\" valign=\"top\">E15003219</th>\n",
       "      <th>0</th>\n",
       "      <td>28923</td>\n",
       "    </tr>\n",
       "    <tr>\n",
       "      <th>1</th>\n",
       "      <td>214</td>\n",
       "    </tr>\n",
       "    <tr>\n",
       "      <th rowspan=\"2\" valign=\"top\">E15003220</th>\n",
       "      <th>0</th>\n",
       "      <td>24477</td>\n",
       "    </tr>\n",
       "    <tr>\n",
       "      <th>1</th>\n",
       "      <td>49</td>\n",
       "    </tr>\n",
       "    <tr>\n",
       "      <th rowspan=\"2\" valign=\"top\">E150033027</th>\n",
       "      <th>0</th>\n",
       "      <td>42940</td>\n",
       "    </tr>\n",
       "    <tr>\n",
       "      <th>1</th>\n",
       "      <td>332</td>\n",
       "    </tr>\n",
       "    <tr>\n",
       "      <th rowspan=\"2\" valign=\"top\">E50006711</th>\n",
       "      <th>0</th>\n",
       "      <td>15441</td>\n",
       "    </tr>\n",
       "    <tr>\n",
       "      <th>1</th>\n",
       "      <td>32</td>\n",
       "    </tr>\n",
       "  </tbody>\n",
       "</table>\n",
       "</div>"
      ],
      "text/plain": [
       "                   Defect\n",
       "Production Defect        \n",
       "E10002436  0        26312\n",
       "           1          160\n",
       "E10002437  0        20748\n",
       "           1           39\n",
       "E15002881  0        45780\n",
       "           1          455\n",
       "E15002963  0        14838\n",
       "           1          141\n",
       "E15002965  0         9978\n",
       "           1          175\n",
       "E15002966  0        43886\n",
       "           1          303\n",
       "E15003056  0        10492\n",
       "           1          125\n",
       "E15003062  0        22593\n",
       "           1          299\n",
       "E15003200  0        40601\n",
       "           1          289\n",
       "E15003201  0        24251\n",
       "           1          160\n",
       "E15003202  0        49333\n",
       "           1          274\n",
       "E15003217  0        52846\n",
       "           1          392\n",
       "E15003219  0        28923\n",
       "           1          214\n",
       "E15003220  0        24477\n",
       "           1           49\n",
       "E150033027 0        42940\n",
       "           1          332\n",
       "E50006711  0        15441\n",
       "           1           32"
      ]
     },
     "execution_count": 63,
     "metadata": {},
     "output_type": "execute_result"
    }
   ],
   "source": [
    "ProdEff.head(50)"
   ]
  },
  {
   "cell_type": "code",
   "execution_count": 64,
   "id": "13f5f1bf",
   "metadata": {},
   "outputs": [],
   "source": [
    "ProdEff.columns = ProdEff.columns.str.replace('Defect', 'DefectNum')"
   ]
  },
  {
   "cell_type": "code",
   "execution_count": 65,
   "id": "9f509389",
   "metadata": {},
   "outputs": [],
   "source": [
    "ProdNum=['E10002436','E10002437','E15002881','E15002963 ', 'E15002965'  ,'E15002966'  ,'E15003056'  ,\n",
    "        'E15003062'   ,'E15003200'   ,'E15003201'   ,'E15003202'   ,'E15003217'   ,'E15003219'   ,'E15003220'   ,\n",
    "         'E150033027'  ,'E50006711' ]"
   ]
  },
  {
   "cell_type": "code",
   "execution_count": 66,
   "id": "efd31cf9",
   "metadata": {},
   "outputs": [
    {
     "name": "stdout",
     "output_type": "stream",
     "text": [
      "Production Number  E10002436 has efficiency 0.9827637151580814\n",
      "Production Number  E10002437 has efficiency 0.9901589704769115\n",
      "Production Number  E15002881 has efficiency 0.9882264293114816\n",
      "Production Number  E15002963  has efficiency 0.99812382739212\n",
      "Production Number  E15002965 has efficiency 0.992636838348548\n",
      "Production Number  E15002966 has efficiency 0.9905868215501702\n",
      "Production Number  E15003056 has efficiency 0.9931430899092535\n",
      "Production Number  E15003062 has efficiency 0.9926553866218211\n",
      "Production Number  E15003200 has efficiency 0.997931881341692\n",
      "Production Number  E15003201 has efficiency 0.9944765859656903\n",
      "Production Number  E15003202 has efficiency 0.9934455778132809\n",
      "Production Number  E15003217 has efficiency 0.986938668530491\n",
      "Production Number  E15003219 has efficiency 0.9923276021445738\n",
      "Production Number  E15003220 has efficiency 0.9980021201989725\n",
      "Production Number  E150033027 has efficiency 0.9929322572756175\n",
      "Production Number  E50006711 has efficiency 0.9939558779087337\n"
     ]
    }
   ],
   "source": [
    "j=0\n",
    "for i in {'E10002436','E10002437','E15002881',\n",
    "'E15002963',  \n",
    "'E15002965'   ,\n",
    "'E15002966'  ,\n",
    "'E15003056'  ,\n",
    "'E15003062'   ,\n",
    "'E15003200'   ,\n",
    "'E15003201'   ,\n",
    "'E15003202'   ,\n",
    "'E15003217'   ,\n",
    "'E15003219'   ,\n",
    "'E15003220'   ,\n",
    "'E150033027'  ,\n",
    "'E50006711'}:\n",
    "    result=ProdEff['DefectNum'][i][0].sum()/(ProdEff['DefectNum'][i][0].sum()+ProdEff['DefectNum'][i][1].sum())\n",
    "    print(\"Production Number \",ProdNum[j],\"has efficiency\" ,result )\n",
    "    j=j+1"
   ]
  },
  {
   "cell_type": "code",
   "execution_count": 67,
   "id": "8f0f0017",
   "metadata": {
    "scrolled": true
   },
   "outputs": [
    {
     "data": {
      "text/plain": [
       "<AxesSubplot:xlabel='Production,Defect'>"
      ]
     },
     "execution_count": 67,
     "metadata": {},
     "output_type": "execute_result"
    },
    {
     "data": {
      "image/png": "[encoded data removed]",
      "text/plain": [
       "<Figure size 432x288 with 1 Axes>"
      ]
     },
     "metadata": {
      "needs_background": "light"
     },
     "output_type": "display_data"
    }
   ],
   "source": [
    "trainy.groupby(['Production'])['Defect'].value_counts().plot(kind = \"bar\")"
   ]
  },
  {
   "cell_type": "code",
   "execution_count": 68,
   "id": "075d24e7",
   "metadata": {},
   "outputs": [
    {
     "data": {
      "text/plain": [
       "<AxesSubplot:xlabel='Production,Defect'>"
      ]
     },
     "execution_count": 68,
     "metadata": {},
     "output_type": "execute_result"
    },
    {
     "data": {
      "image/png": "[encoded data removed]",
      "text/plain": [
       "<Figure size 432x288 with 1 Axes>"
      ]
     },
     "metadata": {
      "needs_background": "light"
     },
     "output_type": "display_data"
    }
   ],
   "source": [
    "trainn.groupby(['Production'])['Defect'].value_counts().plot(kind = \"bar\")"
   ]
  },
  {
   "cell_type": "markdown",
   "id": "7b06cfb1",
   "metadata": {},
   "source": [
    "## Conclusion\n",
    "Production Number  E15002965 has efficiency 0.9827637151580814; which is worse while <br />\n",
    "Production Number  E15002963  has efficiency 0.99812382739212; which is best"
   ]
  },
  {
   "cell_type": "markdown",
   "id": "d35d78ca",
   "metadata": {},
   "source": [
    "## Time Series Analysis"
   ]
  },
  {
   "cell_type": "markdown",
   "id": "ea5eca64",
   "metadata": {},
   "source": [
    "#### Analysing the number of defects in individual time slots in every day to find out if there are any optimal slots for minimising total defects"
   ]
  },
  {
   "cell_type": "code",
   "execution_count": 69,
   "id": "5f90a2f2",
   "metadata": {},
   "outputs": [],
   "source": [
    "train3=train.copy()"
   ]
  },
  {
   "cell_type": "code",
   "execution_count": 70,
   "id": "d538782f",
   "metadata": {},
   "outputs": [],
   "source": [
    "train3[\"times\"] = pd.to_datetime(train3[\"Time\"].apply(lambda x: \":\".join( \"0\"*(2-len(str(s))) + str(s) for s in x.split(\":\")[:-1]) ) , format=\"%H:%M:%S\")\n",
    "#converting our data to timeseries format to work with it more easily and generate deeper insights"
   ]
  },
  {
   "cell_type": "code",
   "execution_count": 71,
   "id": "f3ff08ec",
   "metadata": {},
   "outputs": [
    {
     "data": {
      "text/plain": [
       "1        1900-01-01 10:44:10\n",
       "2        1900-01-01 10:44:10\n",
       "3        1900-01-01 10:44:11\n",
       "4        1900-01-01 10:44:11\n",
       "5        1900-01-01 10:44:12\n",
       "                 ...        \n",
       "568323   1900-01-01 09:09:07\n",
       "568324   1900-01-01 09:09:07\n",
       "568325   1900-01-01 09:09:08\n",
       "568326   1900-01-01 09:09:08\n",
       "568327   1900-01-01 09:09:09\n",
       "Name: times, Length: 476878, dtype: datetime64[ns]"
      ]
     },
     "execution_count": 71,
     "metadata": {},
     "output_type": "execute_result"
    }
   ],
   "source": [
    "train3[\"times\"]"
   ]
  },
  {
   "cell_type": "markdown",
   "id": "14dcac9b",
   "metadata": {},
   "source": [
    "### Binning our data into slots of 1 hour each between 7:00 and 23:00 for analysing trends "
   ]
  },
  {
   "cell_type": "code",
   "execution_count": 72,
   "id": "373db4c3",
   "metadata": {},
   "outputs": [],
   "source": [
    "bins = [ i for i in range(7, 24, 1)]\n",
    "\n",
    "# labels = ['07:00-09:59', '10:00-12:59', '13:00-15:59', '16:00-18:59', '19:00-21:59', '22:00-23:59']\n",
    "# labels = ['00:00-05:59', '06:00-11:59', '12:00-17:59', '18:00-23:59']\n",
    "\n",
    "# add the bins to the dataframe\n",
    "train3[\"timebin\"] = pd.cut(train3[\"times\"].dt.hour, bins, right=False)"
   ]
  },
  {
   "cell_type": "code",
   "execution_count": 73,
   "id": "9997bad6",
   "metadata": {},
   "outputs": [
    {
     "name": "stdout",
     "output_type": "stream",
     "text": [
      "[('1-09', timebin\n",
      "[7, 8)       5\n",
      "[8, 9)      11\n",
      "[9, 10)     11\n",
      "[10, 11)     0\n",
      "[11, 12)     0\n",
      "[12, 13)     0\n",
      "[13, 14)     0\n",
      "[14, 15)     2\n",
      "[15, 16)    31\n",
      "[16, 17)    21\n",
      "[17, 18)    64\n",
      "[18, 19)    64\n",
      "[19, 20)     6\n",
      "[20, 21)    24\n",
      "[21, 22)     0\n",
      "[22, 23)     0\n",
      "Name: Defect, dtype: int64), ('2-09', timebin\n",
      "[7, 8)       0\n",
      "[8, 9)       0\n",
      "[9, 10)      1\n",
      "[10, 11)    35\n",
      "[11, 12)    13\n",
      "[12, 13)     3\n",
      "[13, 14)     9\n",
      "[14, 15)     2\n",
      "[15, 16)     0\n",
      "[16, 17)     0\n",
      "[17, 18)     0\n",
      "[18, 19)     0\n",
      "[19, 20)     0\n",
      "[20, 21)     0\n",
      "[21, 22)     0\n",
      "[22, 23)     0\n",
      "Name: Defect, dtype: int64), ('3-09', timebin\n",
      "[7, 8)      13\n",
      "[8, 9)      28\n",
      "[9, 10)      0\n",
      "[10, 11)    19\n",
      "[11, 12)    23\n",
      "[12, 13)    25\n",
      "[13, 14)    24\n",
      "[14, 15)    50\n",
      "[15, 16)     2\n",
      "[16, 17)     3\n",
      "[17, 18)     3\n",
      "[18, 19)     4\n",
      "[19, 20)     0\n",
      "[20, 21)     0\n",
      "[21, 22)     0\n",
      "[22, 23)     0\n",
      "Name: Defect, dtype: int64), ('5-09', timebin\n",
      "[7, 8)       0\n",
      "[8, 9)      10\n",
      "[9, 10)      8\n",
      "[10, 11)     4\n",
      "[11, 12)     2\n",
      "[12, 13)     0\n",
      "[13, 14)     1\n",
      "[14, 15)     7\n",
      "[15, 16)     9\n",
      "[16, 17)    52\n",
      "[17, 18)    36\n",
      "[18, 19)    21\n",
      "[19, 20)     3\n",
      "[20, 21)     3\n",
      "[21, 22)     0\n",
      "[22, 23)    14\n",
      "Name: Defect, dtype: int64), ('6-09', timebin\n",
      "[7, 8)      13\n",
      "[8, 9)      20\n",
      "[9, 10)      6\n",
      "[10, 11)    20\n",
      "[11, 12)    22\n",
      "[12, 13)     9\n",
      "[13, 14)    21\n",
      "[14, 15)    33\n",
      "[15, 16)     6\n",
      "[16, 17)    31\n",
      "[17, 18)    19\n",
      "[18, 19)    35\n",
      "[19, 20)     0\n",
      "[20, 21)    15\n",
      "[21, 22)    16\n",
      "[22, 23)    27\n",
      "Name: Defect, dtype: int64), ('7-09', timebin\n",
      "[7, 8)       1\n",
      "[8, 9)      14\n",
      "[9, 10)     25\n",
      "[10, 11)     9\n",
      "[11, 12)    35\n",
      "[12, 13)     1\n",
      "[13, 14)    14\n",
      "[14, 15)    23\n",
      "[15, 16)    24\n",
      "[16, 17)    60\n",
      "[17, 18)    40\n",
      "[18, 19)    24\n",
      "[19, 20)     3\n",
      "[20, 21)    43\n",
      "[21, 22)    39\n",
      "[22, 23)    32\n",
      "Name: Defect, dtype: int64), ('8-09', timebin\n",
      "[7, 8)       4\n",
      "[8, 9)      12\n",
      "[9, 10)      6\n",
      "[10, 11)     0\n",
      "[11, 12)     0\n",
      "[12, 13)     0\n",
      "[13, 14)     0\n",
      "[14, 15)     1\n",
      "[15, 16)     7\n",
      "[16, 17)    37\n",
      "[17, 18)    23\n",
      "[18, 19)    40\n",
      "[19, 20)     4\n",
      "[20, 21)    46\n",
      "[21, 22)    41\n",
      "[22, 23)    16\n",
      "Name: Defect, dtype: int64), ('9-09', timebin\n",
      "[7, 8)       4\n",
      "[8, 9)       3\n",
      "[9, 10)      2\n",
      "[10, 11)     3\n",
      "[11, 12)     0\n",
      "[12, 13)     2\n",
      "[13, 14)     1\n",
      "[14, 15)     1\n",
      "[15, 16)    18\n",
      "[16, 17)    26\n",
      "[17, 18)    19\n",
      "[18, 19)    34\n",
      "[19, 20)     3\n",
      "[20, 21)    35\n",
      "[21, 22)     8\n",
      "[22, 23)    17\n",
      "Name: Defect, dtype: int64), ('10-09', timebin\n",
      "[7, 8)      41\n",
      "[8, 9)      49\n",
      "[9, 10)     41\n",
      "[10, 11)    44\n",
      "[11, 12)     0\n",
      "[12, 13)    32\n",
      "[13, 14)    71\n",
      "[14, 15)    39\n",
      "[15, 16)     5\n",
      "[16, 17)    16\n",
      "[17, 18)    23\n",
      "[18, 19)    21\n",
      "[19, 20)     3\n",
      "[20, 21)    11\n",
      "[21, 22)     0\n",
      "[22, 23)    13\n",
      "Name: Defect, dtype: int64), ('12-09', timebin\n",
      "[7, 8)      17\n",
      "[8, 9)      22\n",
      "[9, 10)     23\n",
      "[10, 11)     2\n",
      "[11, 12)     1\n",
      "[12, 13)     0\n",
      "[13, 14)     0\n",
      "[14, 15)     0\n",
      "[15, 16)     0\n",
      "[16, 17)     0\n",
      "[17, 18)     0\n",
      "[18, 19)     0\n",
      "[19, 20)     0\n",
      "[20, 21)     0\n",
      "[21, 22)     0\n",
      "[22, 23)     0\n",
      "Name: Defect, dtype: int64), ('22-08', timebin\n",
      "[7, 8)      0\n",
      "[8, 9)      4\n",
      "[9, 10)     0\n",
      "[10, 11)    1\n",
      "[11, 12)    0\n",
      "[12, 13)    0\n",
      "[13, 14)    0\n",
      "[14, 15)    0\n",
      "[15, 16)    0\n",
      "[16, 17)    1\n",
      "[17, 18)    6\n",
      "[18, 19)    7\n",
      "[19, 20)    1\n",
      "[20, 21)    9\n",
      "[21, 22)    2\n",
      "[22, 23)    1\n",
      "Name: Defect, dtype: int64), ('23-08', timebin\n",
      "[7, 8)      0\n",
      "[8, 9)      1\n",
      "[9, 10)     0\n",
      "[10, 11)    0\n",
      "[11, 12)    0\n",
      "[12, 13)    0\n",
      "[13, 14)    0\n",
      "[14, 15)    0\n",
      "[15, 16)    0\n",
      "[16, 17)    0\n",
      "[17, 18)    0\n",
      "[18, 19)    0\n",
      "[19, 20)    0\n",
      "[20, 21)    0\n",
      "[21, 22)    0\n",
      "[22, 23)    0\n",
      "Name: Defect, dtype: int64), ('24-08', timebin\n",
      "[7, 8)      0\n",
      "[8, 9)      0\n",
      "[9, 10)     0\n",
      "[10, 11)    0\n",
      "[11, 12)    0\n",
      "[12, 13)    0\n",
      "[13, 14)    0\n",
      "[14, 15)    0\n",
      "[15, 16)    0\n",
      "[16, 17)    0\n",
      "[17, 18)    0\n",
      "[18, 19)    0\n",
      "[19, 20)    0\n",
      "[20, 21)    0\n",
      "[21, 22)    0\n",
      "[22, 23)    0\n",
      "Name: Defect, dtype: int64), ('26-08', timebin\n",
      "[7, 8)      22\n",
      "[8, 9)      37\n",
      "[9, 10)     32\n",
      "[10, 11)    69\n",
      "[11, 12)    10\n",
      "[12, 13)    23\n",
      "[13, 14)    46\n",
      "[14, 15)     2\n",
      "[15, 16)     0\n",
      "[16, 17)    22\n",
      "[17, 18)     8\n",
      "[18, 19)     6\n",
      "[19, 20)     9\n",
      "[20, 21)    11\n",
      "[21, 22)     6\n",
      "[22, 23)     3\n",
      "Name: Defect, dtype: int64), ('27-08', timebin\n",
      "[7, 8)      18\n",
      "[8, 9)      30\n",
      "[9, 10)     25\n",
      "[10, 11)    35\n",
      "[11, 12)     8\n",
      "[12, 13)    15\n",
      "[13, 14)    32\n",
      "[14, 15)     0\n",
      "[15, 16)     0\n",
      "[16, 17)    10\n",
      "[17, 18)     8\n",
      "[18, 19)    12\n",
      "[19, 20)     7\n",
      "[20, 21)     7\n",
      "[21, 22)     5\n",
      "[22, 23)     0\n",
      "Name: Defect, dtype: int64), ('29-08', timebin\n",
      "[7, 8)       8\n",
      "[8, 9)      59\n",
      "[9, 10)     20\n",
      "[10, 11)     6\n",
      "[11, 12)    13\n",
      "[12, 13)    31\n",
      "[13, 14)    36\n",
      "[14, 15)    25\n",
      "[15, 16)     0\n",
      "[16, 17)     0\n",
      "[17, 18)    26\n",
      "[18, 19)    51\n",
      "[19, 20)    18\n",
      "[20, 21)    78\n",
      "[21, 22)    30\n",
      "[22, 23)    61\n",
      "Name: Defect, dtype: int64), ('30-08', timebin\n",
      "[7, 8)       0\n",
      "[8, 9)       0\n",
      "[9, 10)      0\n",
      "[10, 11)    19\n",
      "[11, 12)    12\n",
      "[12, 13)     3\n",
      "[13, 14)     0\n",
      "[14, 15)     0\n",
      "[15, 16)     0\n",
      "[16, 17)     0\n",
      "[17, 18)     2\n",
      "[18, 19)     5\n",
      "[19, 20)     0\n",
      "[20, 21)     5\n",
      "[21, 22)     0\n",
      "[22, 23)     4\n",
      "Name: Defect, dtype: int64)]\n"
     ]
    }
   ],
   "source": [
    "import seaborn as sns\n",
    "\n",
    "dategb = train3.groupby(\"date\") #[\"timebin\"].agg(\"sum\")\n",
    "dgb = []\n",
    "dataa = []\n",
    "for g in dategb.groups:\n",
    "    g_temp = dategb.get_group(g).groupby(\"timebin\")[\"Defect\"].agg('sum')\n",
    "    month = dategb.get_group(g)[\"month\"].iloc[0]\n",
    "    dgb.append((str(int(g))+'-'+str(month),g_temp))\n",
    "print(dgb)\n",
    "sorted_dgb = sorted(dgb, key=lambda x: int(x[0].split(\"-\")[-1])*35 + int(x[0].split(\"-\")[0]))\n",
    "for d in sorted_dgb:\n",
    "    dataa.append(d[1])"
   ]
  },
  {
   "cell_type": "markdown",
   "id": "5c33b0c8",
   "metadata": {},
   "source": [
    "### Insight\n",
    "On average 16:00 - 19:00 has more defects every day.\n",
    "On further calculations its found out that this time period contributed to 60-150 more defects daily as compared to any other time period. \n"
   ]
  },
  {
   "cell_type": "code",
   "execution_count": 74,
   "id": "ba4ca3a1",
   "metadata": {},
   "outputs": [
    {
     "name": "stdout",
     "output_type": "stream",
     "text": [
      "[2, 1, 2, 2, 2, 2, 2, 2, 2, 1, 3, 2, 1, 2, 2, 2, 2]\n"
     ]
    }
   ],
   "source": [
    "dategb = train3.groupby(\"date\") \n",
    "demgb = []\n",
    "for g in dategb.groups:\n",
    "    demgb.append(len(set(dategb.get_group(g)[\"employeecode\"])))\n",
    "    \n",
    "print(demgb)"
   ]
  },
  {
   "cell_type": "markdown",
   "id": "cfc1b149",
   "metadata": {},
   "source": [
    "### A heatmap depicting the correlation between number of defects and the time bins"
   ]
  },
  {
   "cell_type": "code",
   "execution_count": 75,
   "id": "131472cf",
   "metadata": {},
   "outputs": [
    {
     "data": {
      "text/plain": [
       "<AxesSubplot:>"
      ]
     },
     "execution_count": 75,
     "metadata": {},
     "output_type": "execute_result"
    },
    {
     "data": {
      "image/png": "[encoded data removed]",
      "text/plain": [
       "<Figure size 1440x720 with 2 Axes>"
      ]
     },
     "metadata": {
      "needs_background": "light"
     },
     "output_type": "display_data"
    }
   ],
   "source": [
    "import matplotlib.pyplot as plt\n",
    "\n",
    "fig, ax = plt.subplots(figsize=(20,10))   \n",
    "sns.heatmap(dataa,ax=ax)"
   ]
  },
  {
   "cell_type": "markdown",
   "id": "00f49268",
   "metadata": {},
   "source": [
    "## Conclusion:\n",
    "**From the above heatmap we can infer that there is an abrupt increase in the number of defects in the time slots between 16:00-19:00hrs. This might be due to a number of reasons such as non optimum conditions for welding, machine fatigue during the time or poor employee performance during the time. The company can look into it and dig deeper to find out the actual reason and in turn greatly cut down on the losses due to welding in these time slots.**"
   ]
  },
  {
   "cell_type": "markdown",
   "id": "e200bf1b",
   "metadata": {},
   "source": [
    "## Return on Investment"
   ]
  },
  {
   "cell_type": "code",
   "execution_count": 76,
   "id": "692309ea",
   "metadata": {},
   "outputs": [
    {
     "name": "stderr",
     "output_type": "stream",
     "text": [
      "/var/folders/56/8qxbxkps1g73zstry__01qrc0000gn/T/ipykernel_42318/3213961699.py:1: SettingWithCopyWarning:\n",
      "\n",
      "\n",
      "A value is trying to be set on a copy of a slice from a DataFrame.\n",
      "Try using .loc[row_indexer,col_indexer] = value instead\n",
      "\n",
      "See the caveats in the documentation: https://pandas.pydata.org/pandas-docs/stable/user_guide/indexing.html#returning-a-view-versus-a-copy\n",
      "\n"
     ]
    }
   ],
   "source": [
    "trainn['Power']=abs(trainn['Voltage']*trainn['Current'])"
   ]
  },
  {
   "cell_type": "code",
   "execution_count": 77,
   "id": "ee31baed",
   "metadata": {},
   "outputs": [
    {
     "name": "stderr",
     "output_type": "stream",
     "text": [
      "/var/folders/56/8qxbxkps1g73zstry__01qrc0000gn/T/ipykernel_42318/3753376997.py:1: SettingWithCopyWarning:\n",
      "\n",
      "\n",
      "A value is trying to be set on a copy of a slice from a DataFrame.\n",
      "Try using .loc[row_indexer,col_indexer] = value instead\n",
      "\n",
      "See the caveats in the documentation: https://pandas.pydata.org/pandas-docs/stable/user_guide/indexing.html#returning-a-view-versus-a-copy\n",
      "\n"
     ]
    }
   ],
   "source": [
    "trainy['Power']=abs(trainy['Voltage']*trainy['Current'])"
   ]
  },
  {
   "cell_type": "code",
   "execution_count": 78,
   "id": "1f962d6e",
   "metadata": {},
   "outputs": [
    {
     "data": {
      "text/plain": [
       "34046045.22554001"
      ]
     },
     "execution_count": 78,
     "metadata": {},
     "output_type": "execute_result"
    }
   ],
   "source": [
    "trainn['Power'].sum()"
   ]
  },
  {
   "cell_type": "code",
   "execution_count": 79,
   "id": "b93fb935",
   "metadata": {},
   "outputs": [
    {
     "data": {
      "text/plain": [
       "578142.35524"
      ]
     },
     "execution_count": 79,
     "metadata": {},
     "output_type": "execute_result"
    }
   ],
   "source": [
    "trainy['Power'].sum()"
   ]
  },
  {
   "cell_type": "markdown",
   "id": "44ff0fcd",
   "metadata": {},
   "source": [
    "Thus, 1.669% of power is consumed in production of defective pieces, thus an equal percentage of power cost.Similarly, labour cost and raw materials are wasted.Now, since this model predicts 60 percent of defects , the return on investment in this model is going to be decent over a large time frame and large factory data."
   ]
  },
  {
   "cell_type": "markdown",
   "id": "4b6e1e47",
   "metadata": {},
   "source": [
    "The company can see the following benefits if it chooses to go forward with our suggestions:\n",
    "1. **Labour**:According to our calculations Employee Number 382617 is the least efficient; so much so that his defective work alone is more than that of the top three performers combined.<br/>\n",
    "One replacing him with worker who is as efficient as average of top three performers the the company is expected to save 300-400 defects. Thus reducing the chance of catastrophic failure.<br/>\n",
    "2. We found that most defects occur in the time period of **4PM to 7PM**. The company can use this insight to reduce defects during this time and this can\n",
    "save upto 60 defects4 over a day.<br/>\n",
    "So summing up after these insights the company saves 60 defects a day and 300-400 defects on the basis of employees.\n",
    "So over a month (60*30+300=2100) that is more than **50% of defects** can be reduced."
   ]
  },
  {
   "cell_type": "markdown",
   "id": "662ff6bf",
   "metadata": {},
   "source": [
    "# Overall Conclusion:\n",
    "*Through our analysis of the given dataset we have identifed a few key trends and possible reasons that might be contributing to an increase in number of welding defects in the overall process. If we could dig deeper and analyse more data relevant to these buckets of issues, it is very likely we can improve upon welder performance and in turn reduce the number of defects.*"
   ]
  }
 ],
 "metadata": {
  "kernelspec": {
   "display_name": "Python 3 (ipykernel)",
   "language": "python",
   "name": "python3"
  },
  "language_info": {
   "codemirror_mode": {
    "name": "ipython",
    "version": 3
   },
   "file_extension": ".py",
   "mimetype": "text/x-python",
   "name": "python",
   "nbconvert_exporter": "python",
   "pygments_lexer": "ipython3",
   "version": "3.8.13"
  }
 },
 "nbformat": 4,
 "nbformat_minor": 5
}
