{
 "cells": [
  {
   "cell_type": "markdown",
   "id": "fb64f9fa",
   "metadata": {},
   "source": [
    "# Model"
   ]
  },
  {
   "cell_type": "code",
   "execution_count": 1,
   "id": "5e83a4be",
   "metadata": {},
   "outputs": [
    {
     "data": {
      "text/html": [
       "        <script type=\"text/javascript\">\n",
       "        window.PlotlyConfig = {MathJaxConfig: 'local'};\n",
       "        if (window.MathJax) {MathJax.Hub.Config({SVG: {font: \"STIX-Web\"}});}\n",
       "        if (typeof require !== 'undefined') {\n",
       "        require.undef(\"plotly\");\n",
       "        requirejs.config({\n",
       "            paths: {\n",
       "                'plotly': ['https://cdn.plot.ly/plotly-2.11.1.min']\n",
       "            }\n",
       "        });\n",
       "        require(['plotly'], function(Plotly) {\n",
       "            window._Plotly = Plotly;\n",
       "        });\n",
       "        }\n",
       "        </script>\n",
       "        "
      ]
     },
     "metadata": {},
     "output_type": "display_data"
    }
   ],
   "source": [
    "#importing libraries\n",
    "import matplotlib.pyplot as plt\n",
    "import seaborn as sns \n",
    "import numpy as np\n",
    "import pandas as pd\n",
    "import numpy as np\n",
    "import random as rnd\n",
    "from sklearn.metrics import confusion_matrix\n",
    "import seaborn as sns\n",
    "import matplotlib.gridspec as gridspec\n",
    "from sklearn.preprocessing import StandardScaler\n",
    "from numpy import genfromtxt\n",
    "from scipy.stats import multivariate_normal\n",
    "from sklearn.metrics import f1_score\n",
    "from sklearn.metrics import recall_score , average_precision_score\n",
    "from sklearn.metrics import precision_score, precision_recall_curve\n",
    "%matplotlib inline\n",
    "import plotly.graph_objs as go\n",
    "from plotly.offline import download_plotlyjs,init_notebook_mode,plot,iplot\n",
    "init_notebook_mode(connected=True)\n",
    "from sklearn.ensemble import RandomForestClassifier, AdaBoostClassifier, GradientBoostingClassifier, ExtraTreesClassifier, VotingClassifier\n",
    "from sklearn.ensemble import RandomForestRegressor\n",
    "from sklearn.discriminant_analysis import LinearDiscriminantAnalysis\n",
    "from sklearn.linear_model import LogisticRegression\n",
    "from sklearn.neighbors import KNeighborsClassifier\n",
    "from sklearn.tree import DecisionTreeClassifier\n",
    "from sklearn.neural_network import MLPClassifier\n",
    "from sklearn.svm import SVC\n",
    "from sklearn.model_selection import GridSearchCV, cross_val_score, StratifiedKFold, learning_curve"
   ]
  },
  {
   "cell_type": "markdown",
   "id": "b6b0b420",
   "metadata": {},
   "source": [
    "## Data Cleaning & Loading"
   ]
  },
  {
   "cell_type": "code",
   "execution_count": 2,
   "id": "bcad7524",
   "metadata": {
    "scrolled": true
   },
   "outputs": [
    {
     "name": "stderr",
     "output_type": "stream",
     "text": [
      "/var/folders/56/8qxbxkps1g73zstry__01qrc0000gn/T/ipykernel_42115/1863539859.py:1: DtypeWarning:\n",
      "\n",
      "Columns (0,2,3,6,7,8,9,10,11,22,27,32,37,42,47,52,57,62,67,72,77,82,87) have mixed types. Specify dtype option on import or set low_memory=False.\n",
      "\n"
     ]
    }
   ],
   "source": [
    "#we changes the name of the data set for our convinience\n",
    "train = pd.read_csv(\"/Users/raunakpandey/tensorflow-test/weldright/Submission/NEWDATA.csv\")"
   ]
  },
  {
   "cell_type": "code",
   "execution_count": 3,
   "id": "5355b30a",
   "metadata": {},
   "outputs": [
    {
     "data": {
      "text/html": [
       "<div>\n",
       "<style scoped>\n",
       "    .dataframe tbody tr th:only-of-type {\n",
       "        vertical-align: middle;\n",
       "    }\n",
       "\n",
       "    .dataframe tbody tr th {\n",
       "        vertical-align: top;\n",
       "    }\n",
       "\n",
       "    .dataframe thead th {\n",
       "        text-align: right;\n",
       "    }\n",
       "</style>\n",
       "<table border=\"1\" class=\"dataframe\">\n",
       "  <thead>\n",
       "    <tr style=\"text-align: right;\">\n",
       "      <th></th>\n",
       "      <th>Employee Code</th>\n",
       "      <th>Machine</th>\n",
       "      <th>Production</th>\n",
       "      <th>Order Operation No</th>\n",
       "      <th>Date</th>\n",
       "      <th>Time</th>\n",
       "      <th>Current</th>\n",
       "      <th>Humidity</th>\n",
       "      <th>Temperature</th>\n",
       "      <th>Flow</th>\n",
       "      <th>...</th>\n",
       "      <th>Unnamed: 78</th>\n",
       "      <th>Unnamed: 79</th>\n",
       "      <th>Unnamed: 80</th>\n",
       "      <th>Unnamed: 81</th>\n",
       "      <th>Unnamed: 82</th>\n",
       "      <th>Unnamed: 83</th>\n",
       "      <th>Unnamed: 84</th>\n",
       "      <th>Unnamed: 85</th>\n",
       "      <th>Unnamed: 86</th>\n",
       "      <th>Unnamed: 87</th>\n",
       "    </tr>\n",
       "  </thead>\n",
       "  <tbody>\n",
       "    <tr>\n",
       "      <th>0</th>\n",
       "      <td>(Office id of employee)</td>\n",
       "      <td>(Welding machine name)</td>\n",
       "      <td>(Project order number)</td>\n",
       "      <td>(This captures the activity to be performed by...</td>\n",
       "      <td>(date of activity)</td>\n",
       "      <td>(Timestamp for the activity)</td>\n",
       "      <td>(In Ampere)</td>\n",
       "      <td>(Relative humidity in %)</td>\n",
       "      <td>(in degree celsius)</td>\n",
       "      <td>(in liters per min (LPM))</td>\n",
       "      <td>...</td>\n",
       "      <td>NaN</td>\n",
       "      <td>NaN</td>\n",
       "      <td>NaN</td>\n",
       "      <td>NaN</td>\n",
       "      <td>NaN</td>\n",
       "      <td>NaN</td>\n",
       "      <td>NaN</td>\n",
       "      <td>NaN</td>\n",
       "      <td>NaN</td>\n",
       "      <td>NaN</td>\n",
       "    </tr>\n",
       "    <tr>\n",
       "      <th>1</th>\n",
       "      <td>383138</td>\n",
       "      <td>TWLD23</td>\n",
       "      <td>E10002436</td>\n",
       "      <td>40</td>\n",
       "      <td>22-08-2022</td>\n",
       "      <td>10:44:10:129</td>\n",
       "      <td>27.85</td>\n",
       "      <td>84</td>\n",
       "      <td>24</td>\n",
       "      <td>3.12</td>\n",
       "      <td>...</td>\n",
       "      <td>NaN</td>\n",
       "      <td>NaN</td>\n",
       "      <td>NaN</td>\n",
       "      <td>NaN</td>\n",
       "      <td>NaN</td>\n",
       "      <td>NaN</td>\n",
       "      <td>NaN</td>\n",
       "      <td>NaN</td>\n",
       "      <td>NaN</td>\n",
       "      <td>NaN</td>\n",
       "    </tr>\n",
       "    <tr>\n",
       "      <th>2</th>\n",
       "      <td>383138</td>\n",
       "      <td>TWLD23</td>\n",
       "      <td>E10002436</td>\n",
       "      <td>40</td>\n",
       "      <td>22-08-2022</td>\n",
       "      <td>10:44:10:630</td>\n",
       "      <td>27.38</td>\n",
       "      <td>84</td>\n",
       "      <td>24</td>\n",
       "      <td>3.08</td>\n",
       "      <td>...</td>\n",
       "      <td>NaN</td>\n",
       "      <td>NaN</td>\n",
       "      <td>NaN</td>\n",
       "      <td>NaN</td>\n",
       "      <td>NaN</td>\n",
       "      <td>NaN</td>\n",
       "      <td>NaN</td>\n",
       "      <td>NaN</td>\n",
       "      <td>NaN</td>\n",
       "      <td>NaN</td>\n",
       "    </tr>\n",
       "    <tr>\n",
       "      <th>3</th>\n",
       "      <td>383138</td>\n",
       "      <td>TWLD23</td>\n",
       "      <td>E10002436</td>\n",
       "      <td>40</td>\n",
       "      <td>22-08-2022</td>\n",
       "      <td>10:44:11:127</td>\n",
       "      <td>26.89</td>\n",
       "      <td>84</td>\n",
       "      <td>24</td>\n",
       "      <td>3.08</td>\n",
       "      <td>...</td>\n",
       "      <td>NaN</td>\n",
       "      <td>NaN</td>\n",
       "      <td>NaN</td>\n",
       "      <td>NaN</td>\n",
       "      <td>NaN</td>\n",
       "      <td>NaN</td>\n",
       "      <td>NaN</td>\n",
       "      <td>NaN</td>\n",
       "      <td>NaN</td>\n",
       "      <td>NaN</td>\n",
       "    </tr>\n",
       "    <tr>\n",
       "      <th>4</th>\n",
       "      <td>383138</td>\n",
       "      <td>TWLD23</td>\n",
       "      <td>E10002436</td>\n",
       "      <td>40</td>\n",
       "      <td>22-08-2022</td>\n",
       "      <td>10:44:11:630</td>\n",
       "      <td>27.86</td>\n",
       "      <td>84</td>\n",
       "      <td>24</td>\n",
       "      <td>3.05</td>\n",
       "      <td>...</td>\n",
       "      <td>NaN</td>\n",
       "      <td>NaN</td>\n",
       "      <td>NaN</td>\n",
       "      <td>NaN</td>\n",
       "      <td>NaN</td>\n",
       "      <td>NaN</td>\n",
       "      <td>NaN</td>\n",
       "      <td>NaN</td>\n",
       "      <td>NaN</td>\n",
       "      <td>NaN</td>\n",
       "    </tr>\n",
       "  </tbody>\n",
       "</table>\n",
       "<p>5 rows × 88 columns</p>\n",
       "</div>"
      ],
      "text/plain": [
       "             Employee Code                 Machine              Production  \\\n",
       "0  (Office id of employee)  (Welding machine name)  (Project order number)   \n",
       "1                   383138                  TWLD23               E10002436   \n",
       "2                   383138                  TWLD23               E10002436   \n",
       "3                   383138                  TWLD23               E10002436   \n",
       "4                   383138                  TWLD23               E10002436   \n",
       "\n",
       "                                  Order Operation No                Date  \\\n",
       "0  (This captures the activity to be performed by...  (date of activity)   \n",
       "1                                                 40          22-08-2022   \n",
       "2                                                 40          22-08-2022   \n",
       "3                                                 40          22-08-2022   \n",
       "4                                                 40          22-08-2022   \n",
       "\n",
       "                           Time      Current                  Humidity  \\\n",
       "0  (Timestamp for the activity)  (In Ampere)  (Relative humidity in %)   \n",
       "1                  10:44:10:129        27.85                        84   \n",
       "2                  10:44:10:630        27.38                        84   \n",
       "3                  10:44:11:127        26.89                        84   \n",
       "4                  10:44:11:630        27.86                        84   \n",
       "\n",
       "           Temperature                       Flow  ... Unnamed: 78  \\\n",
       "0  (in degree celsius)  (in liters per min (LPM))  ...         NaN   \n",
       "1                   24                       3.12  ...         NaN   \n",
       "2                   24                       3.08  ...         NaN   \n",
       "3                   24                       3.08  ...         NaN   \n",
       "4                   24                       3.05  ...         NaN   \n",
       "\n",
       "  Unnamed: 79 Unnamed: 80  Unnamed: 81  Unnamed: 82  Unnamed: 83  Unnamed: 84  \\\n",
       "0         NaN         NaN          NaN          NaN          NaN          NaN   \n",
       "1         NaN         NaN          NaN          NaN          NaN          NaN   \n",
       "2         NaN         NaN          NaN          NaN          NaN          NaN   \n",
       "3         NaN         NaN          NaN          NaN          NaN          NaN   \n",
       "4         NaN         NaN          NaN          NaN          NaN          NaN   \n",
       "\n",
       "   Unnamed: 85  Unnamed: 86  Unnamed: 87  \n",
       "0          NaN          NaN          NaN  \n",
       "1          NaN          NaN          NaN  \n",
       "2          NaN          NaN          NaN  \n",
       "3          NaN          NaN          NaN  \n",
       "4          NaN          NaN          NaN  \n",
       "\n",
       "[5 rows x 88 columns]"
      ]
     },
     "execution_count": 3,
     "metadata": {},
     "output_type": "execute_result"
    }
   ],
   "source": [
    "train.head()"
   ]
  },
  {
   "cell_type": "code",
   "execution_count": 4,
   "id": "e72b61a0",
   "metadata": {},
   "outputs": [],
   "source": [
    "train=train.drop([0])"
   ]
  },
  {
   "cell_type": "code",
   "execution_count": 5,
   "id": "a7a91c25",
   "metadata": {},
   "outputs": [],
   "source": [
    "train.drop(train.iloc[:, 13:88], inplace=True, axis=1)"
   ]
  },
  {
   "cell_type": "code",
   "execution_count": 6,
   "id": "6eea0305",
   "metadata": {},
   "outputs": [
    {
     "data": {
      "text/html": [
       "<div>\n",
       "<style scoped>\n",
       "    .dataframe tbody tr th:only-of-type {\n",
       "        vertical-align: middle;\n",
       "    }\n",
       "\n",
       "    .dataframe tbody tr th {\n",
       "        vertical-align: top;\n",
       "    }\n",
       "\n",
       "    .dataframe thead th {\n",
       "        text-align: right;\n",
       "    }\n",
       "</style>\n",
       "<table border=\"1\" class=\"dataframe\">\n",
       "  <thead>\n",
       "    <tr style=\"text-align: right;\">\n",
       "      <th></th>\n",
       "      <th>Employee Code</th>\n",
       "      <th>Machine</th>\n",
       "      <th>Production</th>\n",
       "      <th>Order Operation No</th>\n",
       "      <th>Date</th>\n",
       "      <th>Time</th>\n",
       "      <th>Current</th>\n",
       "      <th>Humidity</th>\n",
       "      <th>Temperature</th>\n",
       "      <th>Flow</th>\n",
       "      <th>Job Temp</th>\n",
       "      <th>Voltage</th>\n",
       "      <th>Defect</th>\n",
       "    </tr>\n",
       "  </thead>\n",
       "  <tbody>\n",
       "    <tr>\n",
       "      <th>1</th>\n",
       "      <td>383138</td>\n",
       "      <td>TWLD23</td>\n",
       "      <td>E10002436</td>\n",
       "      <td>40</td>\n",
       "      <td>22-08-2022</td>\n",
       "      <td>10:44:10:129</td>\n",
       "      <td>27.85</td>\n",
       "      <td>84</td>\n",
       "      <td>24</td>\n",
       "      <td>3.12</td>\n",
       "      <td>30.1</td>\n",
       "      <td>9.122</td>\n",
       "      <td>No Defect</td>\n",
       "    </tr>\n",
       "    <tr>\n",
       "      <th>2</th>\n",
       "      <td>383138</td>\n",
       "      <td>TWLD23</td>\n",
       "      <td>E10002436</td>\n",
       "      <td>40</td>\n",
       "      <td>22-08-2022</td>\n",
       "      <td>10:44:10:630</td>\n",
       "      <td>27.38</td>\n",
       "      <td>84</td>\n",
       "      <td>24</td>\n",
       "      <td>3.08</td>\n",
       "      <td>30.1</td>\n",
       "      <td>9.129</td>\n",
       "      <td>No Defect</td>\n",
       "    </tr>\n",
       "    <tr>\n",
       "      <th>3</th>\n",
       "      <td>383138</td>\n",
       "      <td>TWLD23</td>\n",
       "      <td>E10002436</td>\n",
       "      <td>40</td>\n",
       "      <td>22-08-2022</td>\n",
       "      <td>10:44:11:127</td>\n",
       "      <td>26.89</td>\n",
       "      <td>84</td>\n",
       "      <td>24</td>\n",
       "      <td>3.08</td>\n",
       "      <td>29.3</td>\n",
       "      <td>9.17</td>\n",
       "      <td>No Defect</td>\n",
       "    </tr>\n",
       "    <tr>\n",
       "      <th>4</th>\n",
       "      <td>383138</td>\n",
       "      <td>TWLD23</td>\n",
       "      <td>E10002436</td>\n",
       "      <td>40</td>\n",
       "      <td>22-08-2022</td>\n",
       "      <td>10:44:11:630</td>\n",
       "      <td>27.86</td>\n",
       "      <td>84</td>\n",
       "      <td>24</td>\n",
       "      <td>3.05</td>\n",
       "      <td>29.3</td>\n",
       "      <td>9.104</td>\n",
       "      <td>No Defect</td>\n",
       "    </tr>\n",
       "    <tr>\n",
       "      <th>5</th>\n",
       "      <td>383138</td>\n",
       "      <td>TWLD23</td>\n",
       "      <td>E10002436</td>\n",
       "      <td>40</td>\n",
       "      <td>22-08-2022</td>\n",
       "      <td>10:44:12:132</td>\n",
       "      <td>27.81</td>\n",
       "      <td>84</td>\n",
       "      <td>24</td>\n",
       "      <td>3.05</td>\n",
       "      <td>29.3</td>\n",
       "      <td>9.045</td>\n",
       "      <td>No Defect</td>\n",
       "    </tr>\n",
       "  </tbody>\n",
       "</table>\n",
       "</div>"
      ],
      "text/plain": [
       "  Employee Code Machine Production Order Operation No        Date  \\\n",
       "1        383138  TWLD23  E10002436                 40  22-08-2022   \n",
       "2        383138  TWLD23  E10002436                 40  22-08-2022   \n",
       "3        383138  TWLD23  E10002436                 40  22-08-2022   \n",
       "4        383138  TWLD23  E10002436                 40  22-08-2022   \n",
       "5        383138  TWLD23  E10002436                 40  22-08-2022   \n",
       "\n",
       "           Time Current Humidity Temperature  Flow Job Temp Voltage     Defect  \n",
       "1  10:44:10:129   27.85       84          24  3.12     30.1   9.122  No Defect  \n",
       "2  10:44:10:630   27.38       84          24  3.08     30.1   9.129  No Defect  \n",
       "3  10:44:11:127   26.89       84          24  3.08     29.3    9.17  No Defect  \n",
       "4  10:44:11:630   27.86       84          24  3.05     29.3   9.104  No Defect  \n",
       "5  10:44:12:132   27.81       84          24  3.05     29.3   9.045  No Defect  "
      ]
     },
     "execution_count": 6,
     "metadata": {},
     "output_type": "execute_result"
    }
   ],
   "source": [
    "train.head()"
   ]
  },
  {
   "cell_type": "code",
   "execution_count": 7,
   "id": "d4afaa53",
   "metadata": {},
   "outputs": [
    {
     "data": {
      "text/plain": [
       "Current               3\n",
       "Employee Code         0\n",
       "Machine               0\n",
       "Production            0\n",
       "Order Operation No    0\n",
       "Date                  0\n",
       "Time                  0\n",
       "Humidity              0\n",
       "Temperature           0\n",
       "Flow                  0\n",
       "Job Temp              0\n",
       "Voltage               0\n",
       "Defect                0\n",
       "dtype: int64"
      ]
     },
     "execution_count": 7,
     "metadata": {},
     "output_type": "execute_result"
    }
   ],
   "source": [
    "train.isnull().sum().sort_values(ascending = False)"
   ]
  },
  {
   "cell_type": "code",
   "execution_count": 8,
   "id": "dbc7ded6",
   "metadata": {},
   "outputs": [
    {
     "data": {
      "text/plain": [
       "array(['22-08-2022', '23-08-2022', '24-08-2022', '25-08-2022',\n",
       "       '26-08-2022', '27-08-2022', '29-08-2022', '30-08-2022',\n",
       "       '01-09-2022', '02-09-2022', '03-09-2022', '05-09-2022',\n",
       "       '06-09-2022', '07-09-2022', '08-09-2022', '09-09-2022',\n",
       "       '10-09-2022', '12-09-2022', '13-09-2022', '14-09-2022',\n",
       "       '15-09-2022', '16-09-2022', '17-09-2022', '19-09-2022'],\n",
       "      dtype=object)"
      ]
     },
     "execution_count": 8,
     "metadata": {},
     "output_type": "execute_result"
    }
   ],
   "source": [
    "train['Date'].unique()"
   ]
  },
  {
   "cell_type": "code",
   "execution_count": 9,
   "id": "eeb51b05",
   "metadata": {},
   "outputs": [
    {
     "data": {
      "text/plain": [
       "array(['E10002436', 'Test coopan', '-15003217', -15003217, -150033027,\n",
       "       15003062, '15003062', 'E15003220', 'E15002881', 'E50006711',\n",
       "       'E15003200', 'E15003202', 'E15003056', 'E15002963', 'E10002437',\n",
       "       'E15003219', 'E15003201', 'E15002965', 'E15002966', '#NAME?', '-'],\n",
       "      dtype=object)"
      ]
     },
     "execution_count": 9,
     "metadata": {},
     "output_type": "execute_result"
    }
   ],
   "source": [
    "train['Production'].unique()"
   ]
  },
  {
   "cell_type": "code",
   "execution_count": 10,
   "id": "bff7349e",
   "metadata": {},
   "outputs": [],
   "source": [
    "train.drop(['Production'], axis=1,inplace=True)"
   ]
  },
  {
   "cell_type": "code",
   "execution_count": 11,
   "id": "a3773413",
   "metadata": {},
   "outputs": [],
   "source": [
    "train.dropna(inplace=True)"
   ]
  },
  {
   "cell_type": "code",
   "execution_count": 12,
   "id": "f2c3d4f3",
   "metadata": {},
   "outputs": [],
   "source": [
    "train.drop(['Machine'], axis=1,inplace=True)\n",
    "\n",
    "\n",
    "\n",
    "#train['Order Operation No'] = train['Order Operation No'].astype(int)\n",
    "train['Current'] = train['Current'].astype(float)\n",
    "train['Humidity'] = train['Humidity'].astype(float)\n",
    "train['Temperature'] = train['Temperature'].astype(float)\n",
    "train['Flow'] = train['Flow'].astype(float)\n",
    "train['Job Temp'] = train['Job Temp'].astype(float)\n",
    "train['Voltage'] = train['Voltage'].astype(float)\n",
    "train['Defect'] = train['Defect'].astype(str)\n",
    "train['Date'] = train['Date'].astype(str)"
   ]
  },
  {
   "cell_type": "code",
   "execution_count": 13,
   "id": "dff1b4b3",
   "metadata": {},
   "outputs": [],
   "source": [
    "train['date'] = train['Date'].str[:2]\n",
    "train['month']=train.Date.str.slice(3,5)\n",
    "train.drop(['Date'], axis=1,inplace=True)"
   ]
  },
  {
   "cell_type": "code",
   "execution_count": 14,
   "id": "bfc77ceb",
   "metadata": {},
   "outputs": [],
   "source": [
    "train['Defectinitials'] = train['Defect'].str[:2]"
   ]
  },
  {
   "cell_type": "code",
   "execution_count": 15,
   "id": "78b98a20",
   "metadata": {},
   "outputs": [
    {
     "data": {
      "text/plain": [
       "array(['No', 'Po', 'Tu'], dtype=object)"
      ]
     },
     "execution_count": 15,
     "metadata": {},
     "output_type": "execute_result"
    }
   ],
   "source": [
    "train['Defectinitials'].unique()"
   ]
  },
  {
   "cell_type": "code",
   "execution_count": 16,
   "id": "9bf65ca7",
   "metadata": {},
   "outputs": [
    {
     "data": {
      "text/plain": [
       "No    821778\n",
       "Tu      4610\n",
       "Po      1143\n",
       "Name: Defectinitials, dtype: int64"
      ]
     },
     "execution_count": 16,
     "metadata": {},
     "output_type": "execute_result"
    }
   ],
   "source": [
    "train['Defectinitials'].value_counts()"
   ]
  },
  {
   "cell_type": "code",
   "execution_count": 17,
   "id": "67147e80",
   "metadata": {},
   "outputs": [
    {
     "data": {
      "text/plain": [
       "240     471055\n",
       "180     128646\n",
       "1        67310\n",
       "180-     53238\n",
       "40       39068\n",
       "240      20413\n",
       "130      15868\n",
       "30       15473\n",
       "40        8191\n",
       "1         4424\n",
       "130       1790\n",
       "-240      1315\n",
       "-          740\n",
       "Name: Order Operation No, dtype: int64"
      ]
     },
     "execution_count": 17,
     "metadata": {},
     "output_type": "execute_result"
    }
   ],
   "source": [
    "train['Order Operation No'].value_counts()"
   ]
  },
  {
   "cell_type": "code",
   "execution_count": 18,
   "id": "03d58509",
   "metadata": {},
   "outputs": [],
   "source": [
    "train['porosity']=train['Defectinitials']=='Po'"
   ]
  },
  {
   "cell_type": "code",
   "execution_count": 19,
   "id": "a65735bb",
   "metadata": {},
   "outputs": [],
   "source": [
    "train['tungsten']=train['Defectinitials']=='Tu'"
   ]
  },
  {
   "cell_type": "code",
   "execution_count": 20,
   "id": "f09e44c9",
   "metadata": {},
   "outputs": [],
   "source": [
    "old_values = ['Tu', 'Po']\n",
    "new_values = ['Tu', 'Tu']\n",
    "\n",
    "train['Defectinitials']=train.Defectinitials.replace(old_values, new_values)"
   ]
  },
  {
   "cell_type": "code",
   "execution_count": 21,
   "id": "ebafa536",
   "metadata": {},
   "outputs": [
    {
     "data": {
      "text/plain": [
       "array(['No', 'Tu'], dtype=object)"
      ]
     },
     "execution_count": 21,
     "metadata": {},
     "output_type": "execute_result"
    }
   ],
   "source": [
    "train['Defectinitials'].unique()"
   ]
  },
  {
   "cell_type": "code",
   "execution_count": 22,
   "id": "f1f05e00",
   "metadata": {},
   "outputs": [],
   "source": [
    "train.rename(columns={'Order Operation No': 'operationnumber',}, inplace=True)"
   ]
  },
  {
   "cell_type": "code",
   "execution_count": 23,
   "id": "1063783c",
   "metadata": {},
   "outputs": [
    {
     "data": {
      "text/plain": [
       "array(['40', 40, 1, '1', '180-', '240', 240, 30, 180, '-240', '-', '130',\n",
       "       130], dtype=object)"
      ]
     },
     "execution_count": 23,
     "metadata": {},
     "output_type": "execute_result"
    }
   ],
   "source": [
    "train['operationnumber'].unique()"
   ]
  },
  {
   "cell_type": "code",
   "execution_count": 24,
   "id": "cca75787",
   "metadata": {},
   "outputs": [],
   "source": [
    "train.rename(columns={'Employee Code': 'employeecode',}, inplace=True)"
   ]
  },
  {
   "cell_type": "code",
   "execution_count": 25,
   "id": "d3f7955c",
   "metadata": {},
   "outputs": [],
   "source": [
    "old_values = ['382617']\n",
    "new_values = [382617]\n",
    "\n",
    "train['employeecode']=train.employeecode.replace(old_values, new_values)"
   ]
  },
  {
   "cell_type": "code",
   "execution_count": 26,
   "id": "abf2f68a",
   "metadata": {},
   "outputs": [],
   "source": [
    "train['employeecode'] = train['employeecode'].astype(float)"
   ]
  },
  {
   "cell_type": "code",
   "execution_count": 27,
   "id": "714124a5",
   "metadata": {},
   "outputs": [
    {
     "data": {
      "text/plain": [
       "array([383138.,      0., 394269.,  97346., 394965., 391342., 394365.,\n",
       "       382617., 387268.])"
      ]
     },
     "execution_count": 27,
     "metadata": {},
     "output_type": "execute_result"
    }
   ],
   "source": [
    "train['employeecode'].unique()"
   ]
  },
  {
   "cell_type": "code",
   "execution_count": 28,
   "id": "11b2eeed",
   "metadata": {},
   "outputs": [],
   "source": [
    "old_values = ['240', '-240','-','130','1','180-']\n",
    "new_values = [240,240,0,130,1,180]\n",
    "\n",
    "train['operationnumber']=train.operationnumber.replace(old_values, new_values)"
   ]
  },
  {
   "cell_type": "code",
   "execution_count": 29,
   "id": "933fc2e7",
   "metadata": {},
   "outputs": [
    {
     "data": {
      "text/plain": [
       "array(['40', 40, 1, 180, 240, 30, 0, 130], dtype=object)"
      ]
     },
     "execution_count": 29,
     "metadata": {},
     "output_type": "execute_result"
    }
   ],
   "source": [
    "train['operationnumber'].unique()"
   ]
  },
  {
   "cell_type": "code",
   "execution_count": 30,
   "id": "827c4ec1",
   "metadata": {},
   "outputs": [],
   "source": [
    "from sklearn.preprocessing import LabelEncoder\n",
    "labelencoder = LabelEncoder()\n",
    "train['Defect'] = labelencoder.fit_transform(train['Defectinitials'])\n",
    "train['porosity'] = labelencoder.fit_transform(train['porosity'])\n",
    "train['tungsten'] = labelencoder.fit_transform(train['tungsten'])"
   ]
  },
  {
   "cell_type": "code",
   "execution_count": 31,
   "id": "b24c480c",
   "metadata": {},
   "outputs": [
    {
     "data": {
      "text/html": [
       "<div>\n",
       "<style scoped>\n",
       "    .dataframe tbody tr th:only-of-type {\n",
       "        vertical-align: middle;\n",
       "    }\n",
       "\n",
       "    .dataframe tbody tr th {\n",
       "        vertical-align: top;\n",
       "    }\n",
       "\n",
       "    .dataframe thead th {\n",
       "        text-align: right;\n",
       "    }\n",
       "</style>\n",
       "<table border=\"1\" class=\"dataframe\">\n",
       "  <thead>\n",
       "    <tr style=\"text-align: right;\">\n",
       "      <th></th>\n",
       "      <th>employeecode</th>\n",
       "      <th>operationnumber</th>\n",
       "      <th>Time</th>\n",
       "      <th>Current</th>\n",
       "      <th>Humidity</th>\n",
       "      <th>Temperature</th>\n",
       "      <th>Flow</th>\n",
       "      <th>Job Temp</th>\n",
       "      <th>Voltage</th>\n",
       "      <th>Defect</th>\n",
       "      <th>date</th>\n",
       "      <th>month</th>\n",
       "      <th>Defectinitials</th>\n",
       "      <th>porosity</th>\n",
       "      <th>tungsten</th>\n",
       "    </tr>\n",
       "  </thead>\n",
       "  <tbody>\n",
       "    <tr>\n",
       "      <th>1</th>\n",
       "      <td>383138.0</td>\n",
       "      <td>40</td>\n",
       "      <td>10:44:10:129</td>\n",
       "      <td>27.85</td>\n",
       "      <td>84.0</td>\n",
       "      <td>24.0</td>\n",
       "      <td>3.12</td>\n",
       "      <td>30.1</td>\n",
       "      <td>9.122</td>\n",
       "      <td>0</td>\n",
       "      <td>22</td>\n",
       "      <td>08</td>\n",
       "      <td>No</td>\n",
       "      <td>0</td>\n",
       "      <td>0</td>\n",
       "    </tr>\n",
       "    <tr>\n",
       "      <th>2</th>\n",
       "      <td>383138.0</td>\n",
       "      <td>40</td>\n",
       "      <td>10:44:10:630</td>\n",
       "      <td>27.38</td>\n",
       "      <td>84.0</td>\n",
       "      <td>24.0</td>\n",
       "      <td>3.08</td>\n",
       "      <td>30.1</td>\n",
       "      <td>9.129</td>\n",
       "      <td>0</td>\n",
       "      <td>22</td>\n",
       "      <td>08</td>\n",
       "      <td>No</td>\n",
       "      <td>0</td>\n",
       "      <td>0</td>\n",
       "    </tr>\n",
       "    <tr>\n",
       "      <th>3</th>\n",
       "      <td>383138.0</td>\n",
       "      <td>40</td>\n",
       "      <td>10:44:11:127</td>\n",
       "      <td>26.89</td>\n",
       "      <td>84.0</td>\n",
       "      <td>24.0</td>\n",
       "      <td>3.08</td>\n",
       "      <td>29.3</td>\n",
       "      <td>9.170</td>\n",
       "      <td>0</td>\n",
       "      <td>22</td>\n",
       "      <td>08</td>\n",
       "      <td>No</td>\n",
       "      <td>0</td>\n",
       "      <td>0</td>\n",
       "    </tr>\n",
       "    <tr>\n",
       "      <th>4</th>\n",
       "      <td>383138.0</td>\n",
       "      <td>40</td>\n",
       "      <td>10:44:11:630</td>\n",
       "      <td>27.86</td>\n",
       "      <td>84.0</td>\n",
       "      <td>24.0</td>\n",
       "      <td>3.05</td>\n",
       "      <td>29.3</td>\n",
       "      <td>9.104</td>\n",
       "      <td>0</td>\n",
       "      <td>22</td>\n",
       "      <td>08</td>\n",
       "      <td>No</td>\n",
       "      <td>0</td>\n",
       "      <td>0</td>\n",
       "    </tr>\n",
       "    <tr>\n",
       "      <th>5</th>\n",
       "      <td>383138.0</td>\n",
       "      <td>40</td>\n",
       "      <td>10:44:12:132</td>\n",
       "      <td>27.81</td>\n",
       "      <td>84.0</td>\n",
       "      <td>24.0</td>\n",
       "      <td>3.05</td>\n",
       "      <td>29.3</td>\n",
       "      <td>9.045</td>\n",
       "      <td>0</td>\n",
       "      <td>22</td>\n",
       "      <td>08</td>\n",
       "      <td>No</td>\n",
       "      <td>0</td>\n",
       "      <td>0</td>\n",
       "    </tr>\n",
       "  </tbody>\n",
       "</table>\n",
       "</div>"
      ],
      "text/plain": [
       "   employeecode operationnumber          Time  Current  Humidity  Temperature  \\\n",
       "1      383138.0              40  10:44:10:129    27.85      84.0         24.0   \n",
       "2      383138.0              40  10:44:10:630    27.38      84.0         24.0   \n",
       "3      383138.0              40  10:44:11:127    26.89      84.0         24.0   \n",
       "4      383138.0              40  10:44:11:630    27.86      84.0         24.0   \n",
       "5      383138.0              40  10:44:12:132    27.81      84.0         24.0   \n",
       "\n",
       "   Flow  Job Temp  Voltage  Defect date month Defectinitials  porosity  \\\n",
       "1  3.12      30.1    9.122       0   22    08             No         0   \n",
       "2  3.08      30.1    9.129       0   22    08             No         0   \n",
       "3  3.08      29.3    9.170       0   22    08             No         0   \n",
       "4  3.05      29.3    9.104       0   22    08             No         0   \n",
       "5  3.05      29.3    9.045       0   22    08             No         0   \n",
       "\n",
       "   tungsten  \n",
       "1         0  \n",
       "2         0  \n",
       "3         0  \n",
       "4         0  \n",
       "5         0  "
      ]
     },
     "execution_count": 31,
     "metadata": {},
     "output_type": "execute_result"
    }
   ],
   "source": [
    "train.head()"
   ]
  },
  {
   "cell_type": "code",
   "execution_count": 32,
   "id": "26529529",
   "metadata": {},
   "outputs": [
    {
     "data": {
      "application/vnd.plotly.v1+json": {
       "config": {
        "linkText": "Export to plot.ly",
        "plotlyServerURL": "https://plot.ly",
        "showLink": false
       },
       "data": [
        {
         "marker": {
          "color": [
           821778,
           5753
          ],
          "colorscale": [
           [
            0,
            "#440154"
           ],
           [
            0.1111111111111111,
            "#482878"
           ],
           [
            0.2222222222222222,
            "#3e4989"
           ],
           [
            0.3333333333333333,
            "#31688e"
           ],
           [
            0.4444444444444444,
            "#26828e"
           ],
           [
            0.5555555555555556,
            "#1f9e89"
           ],
           [
            0.6666666666666666,
            "#35b779"
           ],
           [
            0.7777777777777778,
            "#6ece58"
           ],
           [
            0.8888888888888888,
            "#b5de2b"
           ],
           [
            1,
            "#fde725"
           ]
          ],
          "reversescale": true
         },
         "name": "Imbalance",
         "type": "bar",
         "x": [
          0,
          1
         ],
         "y": [
          821778,
          5753
         ]
        }
       ],
       "layout": {
        "template": {
         "data": {
          "bar": [
           {
            "error_x": {
             "color": "#2a3f5f"
            },
            "error_y": {
             "color": "#2a3f5f"
            },
            "marker": {
             "line": {
              "color": "#E5ECF6",
              "width": 0.5
             },
             "pattern": {
              "fillmode": "overlay",
              "size": 10,
              "solidity": 0.2
             }
            },
            "type": "bar"
           }
          ],
          "barpolar": [
           {
            "marker": {
             "line": {
              "color": "#E5ECF6",
              "width": 0.5
             },
             "pattern": {
              "fillmode": "overlay",
              "size": 10,
              "solidity": 0.2
             }
            },
            "type": "barpolar"
           }
          ],
          "carpet": [
           {
            "aaxis": {
             "endlinecolor": "#2a3f5f",
             "gridcolor": "white",
             "linecolor": "white",
             "minorgridcolor": "white",
             "startlinecolor": "#2a3f5f"
            },
            "baxis": {
             "endlinecolor": "#2a3f5f",
             "gridcolor": "white",
             "linecolor": "white",
             "minorgridcolor": "white",
             "startlinecolor": "#2a3f5f"
            },
            "type": "carpet"
           }
          ],
          "choropleth": [
           {
            "colorbar": {
             "outlinewidth": 0,
             "ticks": ""
            },
            "type": "choropleth"
           }
          ],
          "contour": [
           {
            "colorbar": {
             "outlinewidth": 0,
             "ticks": ""
            },
            "colorscale": [
             [
              0,
              "#0d0887"
             ],
             [
              0.1111111111111111,
              "#46039f"
             ],
             [
              0.2222222222222222,
              "#7201a8"
             ],
             [
              0.3333333333333333,
              "#9c179e"
             ],
             [
              0.4444444444444444,
              "#bd3786"
             ],
             [
              0.5555555555555556,
              "#d8576b"
             ],
             [
              0.6666666666666666,
              "#ed7953"
             ],
             [
              0.7777777777777778,
              "#fb9f3a"
             ],
             [
              0.8888888888888888,
              "#fdca26"
             ],
             [
              1,
              "#f0f921"
             ]
            ],
            "type": "contour"
           }
          ],
          "contourcarpet": [
           {
            "colorbar": {
             "outlinewidth": 0,
             "ticks": ""
            },
            "type": "contourcarpet"
           }
          ],
          "heatmap": [
           {
            "colorbar": {
             "outlinewidth": 0,
             "ticks": ""
            },
            "colorscale": [
             [
              0,
              "#0d0887"
             ],
             [
              0.1111111111111111,
              "#46039f"
             ],
             [
              0.2222222222222222,
              "#7201a8"
             ],
             [
              0.3333333333333333,
              "#9c179e"
             ],
             [
              0.4444444444444444,
              "#bd3786"
             ],
             [
              0.5555555555555556,
              "#d8576b"
             ],
             [
              0.6666666666666666,
              "#ed7953"
             ],
             [
              0.7777777777777778,
              "#fb9f3a"
             ],
             [
              0.8888888888888888,
              "#fdca26"
             ],
             [
              1,
              "#f0f921"
             ]
            ],
            "type": "heatmap"
           }
          ],
          "heatmapgl": [
           {
            "colorbar": {
             "outlinewidth": 0,
             "ticks": ""
            },
            "colorscale": [
             [
              0,
              "#0d0887"
             ],
             [
              0.1111111111111111,
              "#46039f"
             ],
             [
              0.2222222222222222,
              "#7201a8"
             ],
             [
              0.3333333333333333,
              "#9c179e"
             ],
             [
              0.4444444444444444,
              "#bd3786"
             ],
             [
              0.5555555555555556,
              "#d8576b"
             ],
             [
              0.6666666666666666,
              "#ed7953"
             ],
             [
              0.7777777777777778,
              "#fb9f3a"
             ],
             [
              0.8888888888888888,
              "#fdca26"
             ],
             [
              1,
              "#f0f921"
             ]
            ],
            "type": "heatmapgl"
           }
          ],
          "histogram": [
           {
            "marker": {
             "pattern": {
              "fillmode": "overlay",
              "size": 10,
              "solidity": 0.2
             }
            },
            "type": "histogram"
           }
          ],
          "histogram2d": [
           {
            "colorbar": {
             "outlinewidth": 0,
             "ticks": ""
            },
            "colorscale": [
             [
              0,
              "#0d0887"
             ],
             [
              0.1111111111111111,
              "#46039f"
             ],
             [
              0.2222222222222222,
              "#7201a8"
             ],
             [
              0.3333333333333333,
              "#9c179e"
             ],
             [
              0.4444444444444444,
              "#bd3786"
             ],
             [
              0.5555555555555556,
              "#d8576b"
             ],
             [
              0.6666666666666666,
              "#ed7953"
             ],
             [
              0.7777777777777778,
              "#fb9f3a"
             ],
             [
              0.8888888888888888,
              "#fdca26"
             ],
             [
              1,
              "#f0f921"
             ]
            ],
            "type": "histogram2d"
           }
          ],
          "histogram2dcontour": [
           {
            "colorbar": {
             "outlinewidth": 0,
             "ticks": ""
            },
            "colorscale": [
             [
              0,
              "#0d0887"
             ],
             [
              0.1111111111111111,
              "#46039f"
             ],
             [
              0.2222222222222222,
              "#7201a8"
             ],
             [
              0.3333333333333333,
              "#9c179e"
             ],
             [
              0.4444444444444444,
              "#bd3786"
             ],
             [
              0.5555555555555556,
              "#d8576b"
             ],
             [
              0.6666666666666666,
              "#ed7953"
             ],
             [
              0.7777777777777778,
              "#fb9f3a"
             ],
             [
              0.8888888888888888,
              "#fdca26"
             ],
             [
              1,
              "#f0f921"
             ]
            ],
            "type": "histogram2dcontour"
           }
          ],
          "mesh3d": [
           {
            "colorbar": {
             "outlinewidth": 0,
             "ticks": ""
            },
            "type": "mesh3d"
           }
          ],
          "parcoords": [
           {
            "line": {
             "colorbar": {
              "outlinewidth": 0,
              "ticks": ""
             }
            },
            "type": "parcoords"
           }
          ],
          "pie": [
           {
            "automargin": true,
            "type": "pie"
           }
          ],
          "scatter": [
           {
            "fillpattern": {
             "fillmode": "overlay",
             "size": 10,
             "solidity": 0.2
            },
            "type": "scatter"
           }
          ],
          "scatter3d": [
           {
            "line": {
             "colorbar": {
              "outlinewidth": 0,
              "ticks": ""
             }
            },
            "marker": {
             "colorbar": {
              "outlinewidth": 0,
              "ticks": ""
             }
            },
            "type": "scatter3d"
           }
          ],
          "scattercarpet": [
           {
            "marker": {
             "colorbar": {
              "outlinewidth": 0,
              "ticks": ""
             }
            },
            "type": "scattercarpet"
           }
          ],
          "scattergeo": [
           {
            "marker": {
             "colorbar": {
              "outlinewidth": 0,
              "ticks": ""
             }
            },
            "type": "scattergeo"
           }
          ],
          "scattergl": [
           {
            "marker": {
             "colorbar": {
              "outlinewidth": 0,
              "ticks": ""
             }
            },
            "type": "scattergl"
           }
          ],
          "scattermapbox": [
           {
            "marker": {
             "colorbar": {
              "outlinewidth": 0,
              "ticks": ""
             }
            },
            "type": "scattermapbox"
           }
          ],
          "scatterpolar": [
           {
            "marker": {
             "colorbar": {
              "outlinewidth": 0,
              "ticks": ""
             }
            },
            "type": "scatterpolar"
           }
          ],
          "scatterpolargl": [
           {
            "marker": {
             "colorbar": {
              "outlinewidth": 0,
              "ticks": ""
             }
            },
            "type": "scatterpolargl"
           }
          ],
          "scatterternary": [
           {
            "marker": {
             "colorbar": {
              "outlinewidth": 0,
              "ticks": ""
             }
            },
            "type": "scatterternary"
           }
          ],
          "surface": [
           {
            "colorbar": {
             "outlinewidth": 0,
             "ticks": ""
            },
            "colorscale": [
             [
              0,
              "#0d0887"
             ],
             [
              0.1111111111111111,
              "#46039f"
             ],
             [
              0.2222222222222222,
              "#7201a8"
             ],
             [
              0.3333333333333333,
              "#9c179e"
             ],
             [
              0.4444444444444444,
              "#bd3786"
             ],
             [
              0.5555555555555556,
              "#d8576b"
             ],
             [
              0.6666666666666666,
              "#ed7953"
             ],
             [
              0.7777777777777778,
              "#fb9f3a"
             ],
             [
              0.8888888888888888,
              "#fdca26"
             ],
             [
              1,
              "#f0f921"
             ]
            ],
            "type": "surface"
           }
          ],
          "table": [
           {
            "cells": {
             "fill": {
              "color": "#EBF0F8"
             },
             "line": {
              "color": "white"
             }
            },
            "header": {
             "fill": {
              "color": "#C8D4E3"
             },
             "line": {
              "color": "white"
             }
            },
            "type": "table"
           }
          ]
         },
         "layout": {
          "annotationdefaults": {
           "arrowcolor": "#2a3f5f",
           "arrowhead": 0,
           "arrowwidth": 1
          },
          "autotypenumbers": "strict",
          "coloraxis": {
           "colorbar": {
            "outlinewidth": 0,
            "ticks": ""
           }
          },
          "colorscale": {
           "diverging": [
            [
             0,
             "#8e0152"
            ],
            [
             0.1,
             "#c51b7d"
            ],
            [
             0.2,
             "#de77ae"
            ],
            [
             0.3,
             "#f1b6da"
            ],
            [
             0.4,
             "#fde0ef"
            ],
            [
             0.5,
             "#f7f7f7"
            ],
            [
             0.6,
             "#e6f5d0"
            ],
            [
             0.7,
             "#b8e186"
            ],
            [
             0.8,
             "#7fbc41"
            ],
            [
             0.9,
             "#4d9221"
            ],
            [
             1,
             "#276419"
            ]
           ],
           "sequential": [
            [
             0,
             "#0d0887"
            ],
            [
             0.1111111111111111,
             "#46039f"
            ],
            [
             0.2222222222222222,
             "#7201a8"
            ],
            [
             0.3333333333333333,
             "#9c179e"
            ],
            [
             0.4444444444444444,
             "#bd3786"
            ],
            [
             0.5555555555555556,
             "#d8576b"
            ],
            [
             0.6666666666666666,
             "#ed7953"
            ],
            [
             0.7777777777777778,
             "#fb9f3a"
            ],
            [
             0.8888888888888888,
             "#fdca26"
            ],
            [
             1,
             "#f0f921"
            ]
           ],
           "sequentialminus": [
            [
             0,
             "#0d0887"
            ],
            [
             0.1111111111111111,
             "#46039f"
            ],
            [
             0.2222222222222222,
             "#7201a8"
            ],
            [
             0.3333333333333333,
             "#9c179e"
            ],
            [
             0.4444444444444444,
             "#bd3786"
            ],
            [
             0.5555555555555556,
             "#d8576b"
            ],
            [
             0.6666666666666666,
             "#ed7953"
            ],
            [
             0.7777777777777778,
             "#fb9f3a"
            ],
            [
             0.8888888888888888,
             "#fdca26"
            ],
            [
             1,
             "#f0f921"
            ]
           ]
          },
          "colorway": [
           "#636efa",
           "#EF553B",
           "#00cc96",
           "#ab63fa",
           "#FFA15A",
           "#19d3f3",
           "#FF6692",
           "#B6E880",
           "#FF97FF",
           "#FECB52"
          ],
          "font": {
           "color": "#2a3f5f"
          },
          "geo": {
           "bgcolor": "white",
           "lakecolor": "white",
           "landcolor": "#E5ECF6",
           "showlakes": true,
           "showland": true,
           "subunitcolor": "white"
          },
          "hoverlabel": {
           "align": "left"
          },
          "hovermode": "closest",
          "mapbox": {
           "style": "light"
          },
          "paper_bgcolor": "white",
          "plot_bgcolor": "#E5ECF6",
          "polar": {
           "angularaxis": {
            "gridcolor": "white",
            "linecolor": "white",
            "ticks": ""
           },
           "bgcolor": "#E5ECF6",
           "radialaxis": {
            "gridcolor": "white",
            "linecolor": "white",
            "ticks": ""
           }
          },
          "scene": {
           "xaxis": {
            "backgroundcolor": "#E5ECF6",
            "gridcolor": "white",
            "gridwidth": 2,
            "linecolor": "white",
            "showbackground": true,
            "ticks": "",
            "zerolinecolor": "white"
           },
           "yaxis": {
            "backgroundcolor": "#E5ECF6",
            "gridcolor": "white",
            "gridwidth": 2,
            "linecolor": "white",
            "showbackground": true,
            "ticks": "",
            "zerolinecolor": "white"
           },
           "zaxis": {
            "backgroundcolor": "#E5ECF6",
            "gridcolor": "white",
            "gridwidth": 2,
            "linecolor": "white",
            "showbackground": true,
            "ticks": "",
            "zerolinecolor": "white"
           }
          },
          "shapedefaults": {
           "line": {
            "color": "#2a3f5f"
           }
          },
          "ternary": {
           "aaxis": {
            "gridcolor": "white",
            "linecolor": "white",
            "ticks": ""
           },
           "baxis": {
            "gridcolor": "white",
            "linecolor": "white",
            "ticks": ""
           },
           "bgcolor": "#E5ECF6",
           "caxis": {
            "gridcolor": "white",
            "linecolor": "white",
            "ticks": ""
           }
          },
          "title": {
           "x": 0.05
          },
          "xaxis": {
           "automargin": true,
           "gridcolor": "white",
           "linecolor": "white",
           "ticks": "",
           "title": {
            "standoff": 15
           },
           "zerolinecolor": "white",
           "zerolinewidth": 2
          },
          "yaxis": {
           "automargin": true,
           "gridcolor": "white",
           "linecolor": "white",
           "ticks": "",
           "title": {
            "standoff": 15
           },
           "zerolinecolor": "white",
           "zerolinewidth": 2
          }
         }
        },
        "title": {
         "text": "Data imbalance"
        },
        "xaxis": {
         "automargin": true
        },
        "yaxis": {
         "showgrid": false,
         "showline": false,
         "showticklabels": true
        }
       }
      },
      "text/html": [
       "<div>                            <div id=\"14616740-5742-47e8-9422-546f393e0246\" class=\"plotly-graph-div\" style=\"height:525px; width:100%;\"></div>            <script type=\"text/javascript\">                require([\"plotly\"], function(Plotly) {                    window.PLOTLYENV=window.PLOTLYENV || {};                                    if (document.getElementById(\"14616740-5742-47e8-9422-546f393e0246\")) {                    Plotly.newPlot(                        \"14616740-5742-47e8-9422-546f393e0246\",                        [{\"marker\":{\"color\":[821778,5753],\"colorscale\":[[0.0,\"#440154\"],[0.1111111111111111,\"#482878\"],[0.2222222222222222,\"#3e4989\"],[0.3333333333333333,\"#31688e\"],[0.4444444444444444,\"#26828e\"],[0.5555555555555556,\"#1f9e89\"],[0.6666666666666666,\"#35b779\"],[0.7777777777777778,\"#6ece58\"],[0.8888888888888888,\"#b5de2b\"],[1.0,\"#fde725\"]],\"reversescale\":true},\"name\":\"Imbalance\",\"x\":[0,1],\"y\":[821778,5753],\"type\":\"bar\"}],                        {\"template\":{\"data\":{\"barpolar\":[{\"marker\":{\"line\":{\"color\":\"#E5ECF6\",\"width\":0.5},\"pattern\":{\"fillmode\":\"overlay\",\"size\":10,\"solidity\":0.2}},\"type\":\"barpolar\"}],\"bar\":[{\"error_x\":{\"color\":\"#2a3f5f\"},\"error_y\":{\"color\":\"#2a3f5f\"},\"marker\":{\"line\":{\"color\":\"#E5ECF6\",\"width\":0.5},\"pattern\":{\"fillmode\":\"overlay\",\"size\":10,\"solidity\":0.2}},\"type\":\"bar\"}],\"carpet\":[{\"aaxis\":{\"endlinecolor\":\"#2a3f5f\",\"gridcolor\":\"white\",\"linecolor\":\"white\",\"minorgridcolor\":\"white\",\"startlinecolor\":\"#2a3f5f\"},\"baxis\":{\"endlinecolor\":\"#2a3f5f\",\"gridcolor\":\"white\",\"linecolor\":\"white\",\"minorgridcolor\":\"white\",\"startlinecolor\":\"#2a3f5f\"},\"type\":\"carpet\"}],\"choropleth\":[{\"colorbar\":{\"outlinewidth\":0,\"ticks\":\"\"},\"type\":\"choropleth\"}],\"contourcarpet\":[{\"colorbar\":{\"outlinewidth\":0,\"ticks\":\"\"},\"type\":\"contourcarpet\"}],\"contour\":[{\"colorbar\":{\"outlinewidth\":0,\"ticks\":\"\"},\"colorscale\":[[0.0,\"#0d0887\"],[0.1111111111111111,\"#46039f\"],[0.2222222222222222,\"#7201a8\"],[0.3333333333333333,\"#9c179e\"],[0.4444444444444444,\"#bd3786\"],[0.5555555555555556,\"#d8576b\"],[0.6666666666666666,\"#ed7953\"],[0.7777777777777778,\"#fb9f3a\"],[0.8888888888888888,\"#fdca26\"],[1.0,\"#f0f921\"]],\"type\":\"contour\"}],\"heatmapgl\":[{\"colorbar\":{\"outlinewidth\":0,\"ticks\":\"\"},\"colorscale\":[[0.0,\"#0d0887\"],[0.1111111111111111,\"#46039f\"],[0.2222222222222222,\"#7201a8\"],[0.3333333333333333,\"#9c179e\"],[0.4444444444444444,\"#bd3786\"],[0.5555555555555556,\"#d8576b\"],[0.6666666666666666,\"#ed7953\"],[0.7777777777777778,\"#fb9f3a\"],[0.8888888888888888,\"#fdca26\"],[1.0,\"#f0f921\"]],\"type\":\"heatmapgl\"}],\"heatmap\":[{\"colorbar\":{\"outlinewidth\":0,\"ticks\":\"\"},\"colorscale\":[[0.0,\"#0d0887\"],[0.1111111111111111,\"#46039f\"],[0.2222222222222222,\"#7201a8\"],[0.3333333333333333,\"#9c179e\"],[0.4444444444444444,\"#bd3786\"],[0.5555555555555556,\"#d8576b\"],[0.6666666666666666,\"#ed7953\"],[0.7777777777777778,\"#fb9f3a\"],[0.8888888888888888,\"#fdca26\"],[1.0,\"#f0f921\"]],\"type\":\"heatmap\"}],\"histogram2dcontour\":[{\"colorbar\":{\"outlinewidth\":0,\"ticks\":\"\"},\"colorscale\":[[0.0,\"#0d0887\"],[0.1111111111111111,\"#46039f\"],[0.2222222222222222,\"#7201a8\"],[0.3333333333333333,\"#9c179e\"],[0.4444444444444444,\"#bd3786\"],[0.5555555555555556,\"#d8576b\"],[0.6666666666666666,\"#ed7953\"],[0.7777777777777778,\"#fb9f3a\"],[0.8888888888888888,\"#fdca26\"],[1.0,\"#f0f921\"]],\"type\":\"histogram2dcontour\"}],\"histogram2d\":[{\"colorbar\":{\"outlinewidth\":0,\"ticks\":\"\"},\"colorscale\":[[0.0,\"#0d0887\"],[0.1111111111111111,\"#46039f\"],[0.2222222222222222,\"#7201a8\"],[0.3333333333333333,\"#9c179e\"],[0.4444444444444444,\"#bd3786\"],[0.5555555555555556,\"#d8576b\"],[0.6666666666666666,\"#ed7953\"],[0.7777777777777778,\"#fb9f3a\"],[0.8888888888888888,\"#fdca26\"],[1.0,\"#f0f921\"]],\"type\":\"histogram2d\"}],\"histogram\":[{\"marker\":{\"pattern\":{\"fillmode\":\"overlay\",\"size\":10,\"solidity\":0.2}},\"type\":\"histogram\"}],\"mesh3d\":[{\"colorbar\":{\"outlinewidth\":0,\"ticks\":\"\"},\"type\":\"mesh3d\"}],\"parcoords\":[{\"line\":{\"colorbar\":{\"outlinewidth\":0,\"ticks\":\"\"}},\"type\":\"parcoords\"}],\"pie\":[{\"automargin\":true,\"type\":\"pie\"}],\"scatter3d\":[{\"line\":{\"colorbar\":{\"outlinewidth\":0,\"ticks\":\"\"}},\"marker\":{\"colorbar\":{\"outlinewidth\":0,\"ticks\":\"\"}},\"type\":\"scatter3d\"}],\"scattercarpet\":[{\"marker\":{\"colorbar\":{\"outlinewidth\":0,\"ticks\":\"\"}},\"type\":\"scattercarpet\"}],\"scattergeo\":[{\"marker\":{\"colorbar\":{\"outlinewidth\":0,\"ticks\":\"\"}},\"type\":\"scattergeo\"}],\"scattergl\":[{\"marker\":{\"colorbar\":{\"outlinewidth\":0,\"ticks\":\"\"}},\"type\":\"scattergl\"}],\"scattermapbox\":[{\"marker\":{\"colorbar\":{\"outlinewidth\":0,\"ticks\":\"\"}},\"type\":\"scattermapbox\"}],\"scatterpolargl\":[{\"marker\":{\"colorbar\":{\"outlinewidth\":0,\"ticks\":\"\"}},\"type\":\"scatterpolargl\"}],\"scatterpolar\":[{\"marker\":{\"colorbar\":{\"outlinewidth\":0,\"ticks\":\"\"}},\"type\":\"scatterpolar\"}],\"scatter\":[{\"fillpattern\":{\"fillmode\":\"overlay\",\"size\":10,\"solidity\":0.2},\"type\":\"scatter\"}],\"scatterternary\":[{\"marker\":{\"colorbar\":{\"outlinewidth\":0,\"ticks\":\"\"}},\"type\":\"scatterternary\"}],\"surface\":[{\"colorbar\":{\"outlinewidth\":0,\"ticks\":\"\"},\"colorscale\":[[0.0,\"#0d0887\"],[0.1111111111111111,\"#46039f\"],[0.2222222222222222,\"#7201a8\"],[0.3333333333333333,\"#9c179e\"],[0.4444444444444444,\"#bd3786\"],[0.5555555555555556,\"#d8576b\"],[0.6666666666666666,\"#ed7953\"],[0.7777777777777778,\"#fb9f3a\"],[0.8888888888888888,\"#fdca26\"],[1.0,\"#f0f921\"]],\"type\":\"surface\"}],\"table\":[{\"cells\":{\"fill\":{\"color\":\"#EBF0F8\"},\"line\":{\"color\":\"white\"}},\"header\":{\"fill\":{\"color\":\"#C8D4E3\"},\"line\":{\"color\":\"white\"}},\"type\":\"table\"}]},\"layout\":{\"annotationdefaults\":{\"arrowcolor\":\"#2a3f5f\",\"arrowhead\":0,\"arrowwidth\":1},\"autotypenumbers\":\"strict\",\"coloraxis\":{\"colorbar\":{\"outlinewidth\":0,\"ticks\":\"\"}},\"colorscale\":{\"diverging\":[[0,\"#8e0152\"],[0.1,\"#c51b7d\"],[0.2,\"#de77ae\"],[0.3,\"#f1b6da\"],[0.4,\"#fde0ef\"],[0.5,\"#f7f7f7\"],[0.6,\"#e6f5d0\"],[0.7,\"#b8e186\"],[0.8,\"#7fbc41\"],[0.9,\"#4d9221\"],[1,\"#276419\"]],\"sequential\":[[0.0,\"#0d0887\"],[0.1111111111111111,\"#46039f\"],[0.2222222222222222,\"#7201a8\"],[0.3333333333333333,\"#9c179e\"],[0.4444444444444444,\"#bd3786\"],[0.5555555555555556,\"#d8576b\"],[0.6666666666666666,\"#ed7953\"],[0.7777777777777778,\"#fb9f3a\"],[0.8888888888888888,\"#fdca26\"],[1.0,\"#f0f921\"]],\"sequentialminus\":[[0.0,\"#0d0887\"],[0.1111111111111111,\"#46039f\"],[0.2222222222222222,\"#7201a8\"],[0.3333333333333333,\"#9c179e\"],[0.4444444444444444,\"#bd3786\"],[0.5555555555555556,\"#d8576b\"],[0.6666666666666666,\"#ed7953\"],[0.7777777777777778,\"#fb9f3a\"],[0.8888888888888888,\"#fdca26\"],[1.0,\"#f0f921\"]]},\"colorway\":[\"#636efa\",\"#EF553B\",\"#00cc96\",\"#ab63fa\",\"#FFA15A\",\"#19d3f3\",\"#FF6692\",\"#B6E880\",\"#FF97FF\",\"#FECB52\"],\"font\":{\"color\":\"#2a3f5f\"},\"geo\":{\"bgcolor\":\"white\",\"lakecolor\":\"white\",\"landcolor\":\"#E5ECF6\",\"showlakes\":true,\"showland\":true,\"subunitcolor\":\"white\"},\"hoverlabel\":{\"align\":\"left\"},\"hovermode\":\"closest\",\"mapbox\":{\"style\":\"light\"},\"paper_bgcolor\":\"white\",\"plot_bgcolor\":\"#E5ECF6\",\"polar\":{\"angularaxis\":{\"gridcolor\":\"white\",\"linecolor\":\"white\",\"ticks\":\"\"},\"bgcolor\":\"#E5ECF6\",\"radialaxis\":{\"gridcolor\":\"white\",\"linecolor\":\"white\",\"ticks\":\"\"}},\"scene\":{\"xaxis\":{\"backgroundcolor\":\"#E5ECF6\",\"gridcolor\":\"white\",\"gridwidth\":2,\"linecolor\":\"white\",\"showbackground\":true,\"ticks\":\"\",\"zerolinecolor\":\"white\"},\"yaxis\":{\"backgroundcolor\":\"#E5ECF6\",\"gridcolor\":\"white\",\"gridwidth\":2,\"linecolor\":\"white\",\"showbackground\":true,\"ticks\":\"\",\"zerolinecolor\":\"white\"},\"zaxis\":{\"backgroundcolor\":\"#E5ECF6\",\"gridcolor\":\"white\",\"gridwidth\":2,\"linecolor\":\"white\",\"showbackground\":true,\"ticks\":\"\",\"zerolinecolor\":\"white\"}},\"shapedefaults\":{\"line\":{\"color\":\"#2a3f5f\"}},\"ternary\":{\"aaxis\":{\"gridcolor\":\"white\",\"linecolor\":\"white\",\"ticks\":\"\"},\"baxis\":{\"gridcolor\":\"white\",\"linecolor\":\"white\",\"ticks\":\"\"},\"bgcolor\":\"#E5ECF6\",\"caxis\":{\"gridcolor\":\"white\",\"linecolor\":\"white\",\"ticks\":\"\"}},\"title\":{\"x\":0.05},\"xaxis\":{\"automargin\":true,\"gridcolor\":\"white\",\"linecolor\":\"white\",\"ticks\":\"\",\"title\":{\"standoff\":15},\"zerolinecolor\":\"white\",\"zerolinewidth\":2},\"yaxis\":{\"automargin\":true,\"gridcolor\":\"white\",\"linecolor\":\"white\",\"ticks\":\"\",\"title\":{\"standoff\":15},\"zerolinecolor\":\"white\",\"zerolinewidth\":2}}},\"title\":{\"text\":\"Data imbalance\"},\"xaxis\":{\"automargin\":true},\"yaxis\":{\"showgrid\":false,\"showline\":false,\"showticklabels\":true}},                        {\"responsive\": true}                    ).then(function(){\n",
       "                            \n",
       "var gd = document.getElementById('14616740-5742-47e8-9422-546f393e0246');\n",
       "var x = new MutationObserver(function (mutations, observer) {{\n",
       "        var display = window.getComputedStyle(gd).display;\n",
       "        if (!display || display === 'none') {{\n",
       "            console.log([gd, 'removed!']);\n",
       "            Plotly.purge(gd);\n",
       "            observer.disconnect();\n",
       "        }}\n",
       "}});\n",
       "\n",
       "// Listen for the removal of the full notebook cells\n",
       "var notebookContainer = gd.closest('#notebook-container');\n",
       "if (notebookContainer) {{\n",
       "    x.observe(notebookContainer, {childList: true});\n",
       "}}\n",
       "\n",
       "// Listen for the clearing of the current output cell\n",
       "var outputEl = gd.closest('.output');\n",
       "if (outputEl) {{\n",
       "    x.observe(outputEl, {childList: true});\n",
       "}}\n",
       "\n",
       "                        })                };                });            </script>        </div>"
      ]
     },
     "metadata": {},
     "output_type": "display_data"
    }
   ],
   "source": [
    "# plot may not be visible when loaded again.\n",
    "##Seeing the data imbalance\n",
    "x = train['Defect'].value_counts().index\n",
    "y = train['Defect'].value_counts().values\n",
    "\n",
    "trace2 = go.Bar(\n",
    "     x=x ,\n",
    "     y=y,\n",
    "     marker=dict(\n",
    "         color=y,\n",
    "         colorscale = 'Viridis',\n",
    "         reversescale = True\n",
    "     ),\n",
    "     name=\"Imbalance\",    \n",
    " )\n",
    "layout = dict(\n",
    "     title=\"Data imbalance\",\n",
    "     #width = 900, height = 500,\n",
    "     xaxis=go.layout.XAxis(\n",
    "     automargin=True),\n",
    "     yaxis=dict(\n",
    "         showgrid=False,\n",
    "         showline=False,\n",
    "         showticklabels=True,\n",
    " #         domain=[0, 0.85],\n",
    "     ), \n",
    ")\n",
    "fig1 = go.Figure(data=[trace2], layout=layout)\n",
    "iplot(fig1)"
   ]
  },
  {
   "cell_type": "code",
   "execution_count": 33,
   "id": "2b8bf8e1",
   "metadata": {},
   "outputs": [],
   "source": [
    "train.drop(['Defectinitials'], axis=1,inplace=True)"
   ]
  },
  {
   "cell_type": "code",
   "execution_count": 34,
   "id": "949f22a0",
   "metadata": {
    "scrolled": false
   },
   "outputs": [
    {
     "data": {
      "text/html": [
       "<div>\n",
       "<style scoped>\n",
       "    .dataframe tbody tr th:only-of-type {\n",
       "        vertical-align: middle;\n",
       "    }\n",
       "\n",
       "    .dataframe tbody tr th {\n",
       "        vertical-align: top;\n",
       "    }\n",
       "\n",
       "    .dataframe thead th {\n",
       "        text-align: right;\n",
       "    }\n",
       "</style>\n",
       "<table border=\"1\" class=\"dataframe\">\n",
       "  <thead>\n",
       "    <tr style=\"text-align: right;\">\n",
       "      <th></th>\n",
       "      <th>employeecode</th>\n",
       "      <th>operationnumber</th>\n",
       "      <th>Time</th>\n",
       "      <th>Current</th>\n",
       "      <th>Humidity</th>\n",
       "      <th>Temperature</th>\n",
       "      <th>Flow</th>\n",
       "      <th>Job Temp</th>\n",
       "      <th>Voltage</th>\n",
       "      <th>Defect</th>\n",
       "      <th>date</th>\n",
       "      <th>month</th>\n",
       "      <th>porosity</th>\n",
       "      <th>tungsten</th>\n",
       "    </tr>\n",
       "  </thead>\n",
       "  <tbody>\n",
       "    <tr>\n",
       "      <th>1</th>\n",
       "      <td>383138.0</td>\n",
       "      <td>40</td>\n",
       "      <td>10:44:10:129</td>\n",
       "      <td>27.85</td>\n",
       "      <td>84.0</td>\n",
       "      <td>24.0</td>\n",
       "      <td>3.12</td>\n",
       "      <td>30.1</td>\n",
       "      <td>9.122</td>\n",
       "      <td>0</td>\n",
       "      <td>22</td>\n",
       "      <td>08</td>\n",
       "      <td>0</td>\n",
       "      <td>0</td>\n",
       "    </tr>\n",
       "    <tr>\n",
       "      <th>2</th>\n",
       "      <td>383138.0</td>\n",
       "      <td>40</td>\n",
       "      <td>10:44:10:630</td>\n",
       "      <td>27.38</td>\n",
       "      <td>84.0</td>\n",
       "      <td>24.0</td>\n",
       "      <td>3.08</td>\n",
       "      <td>30.1</td>\n",
       "      <td>9.129</td>\n",
       "      <td>0</td>\n",
       "      <td>22</td>\n",
       "      <td>08</td>\n",
       "      <td>0</td>\n",
       "      <td>0</td>\n",
       "    </tr>\n",
       "    <tr>\n",
       "      <th>3</th>\n",
       "      <td>383138.0</td>\n",
       "      <td>40</td>\n",
       "      <td>10:44:11:127</td>\n",
       "      <td>26.89</td>\n",
       "      <td>84.0</td>\n",
       "      <td>24.0</td>\n",
       "      <td>3.08</td>\n",
       "      <td>29.3</td>\n",
       "      <td>9.170</td>\n",
       "      <td>0</td>\n",
       "      <td>22</td>\n",
       "      <td>08</td>\n",
       "      <td>0</td>\n",
       "      <td>0</td>\n",
       "    </tr>\n",
       "    <tr>\n",
       "      <th>4</th>\n",
       "      <td>383138.0</td>\n",
       "      <td>40</td>\n",
       "      <td>10:44:11:630</td>\n",
       "      <td>27.86</td>\n",
       "      <td>84.0</td>\n",
       "      <td>24.0</td>\n",
       "      <td>3.05</td>\n",
       "      <td>29.3</td>\n",
       "      <td>9.104</td>\n",
       "      <td>0</td>\n",
       "      <td>22</td>\n",
       "      <td>08</td>\n",
       "      <td>0</td>\n",
       "      <td>0</td>\n",
       "    </tr>\n",
       "    <tr>\n",
       "      <th>5</th>\n",
       "      <td>383138.0</td>\n",
       "      <td>40</td>\n",
       "      <td>10:44:12:132</td>\n",
       "      <td>27.81</td>\n",
       "      <td>84.0</td>\n",
       "      <td>24.0</td>\n",
       "      <td>3.05</td>\n",
       "      <td>29.3</td>\n",
       "      <td>9.045</td>\n",
       "      <td>0</td>\n",
       "      <td>22</td>\n",
       "      <td>08</td>\n",
       "      <td>0</td>\n",
       "      <td>0</td>\n",
       "    </tr>\n",
       "  </tbody>\n",
       "</table>\n",
       "</div>"
      ],
      "text/plain": [
       "   employeecode operationnumber          Time  Current  Humidity  Temperature  \\\n",
       "1      383138.0              40  10:44:10:129    27.85      84.0         24.0   \n",
       "2      383138.0              40  10:44:10:630    27.38      84.0         24.0   \n",
       "3      383138.0              40  10:44:11:127    26.89      84.0         24.0   \n",
       "4      383138.0              40  10:44:11:630    27.86      84.0         24.0   \n",
       "5      383138.0              40  10:44:12:132    27.81      84.0         24.0   \n",
       "\n",
       "   Flow  Job Temp  Voltage  Defect date month  porosity  tungsten  \n",
       "1  3.12      30.1    9.122       0   22    08         0         0  \n",
       "2  3.08      30.1    9.129       0   22    08         0         0  \n",
       "3  3.08      29.3    9.170       0   22    08         0         0  \n",
       "4  3.05      29.3    9.104       0   22    08         0         0  \n",
       "5  3.05      29.3    9.045       0   22    08         0         0  "
      ]
     },
     "execution_count": 34,
     "metadata": {},
     "output_type": "execute_result"
    }
   ],
   "source": [
    "train.head()"
   ]
  },
  {
   "cell_type": "code",
   "execution_count": 35,
   "id": "7f3102cf",
   "metadata": {},
   "outputs": [],
   "source": [
    "train22=train.copy()"
   ]
  },
  {
   "cell_type": "markdown",
   "id": "446f3e33",
   "metadata": {},
   "source": [
    "# **Feature Engineering**"
   ]
  },
  {
   "cell_type": "code",
   "execution_count": 36,
   "id": "d61b83d8",
   "metadata": {
    "scrolled": false
   },
   "outputs": [
    {
     "data": {
      "text/html": [
       "<div>\n",
       "<style scoped>\n",
       "    .dataframe tbody tr th:only-of-type {\n",
       "        vertical-align: middle;\n",
       "    }\n",
       "\n",
       "    .dataframe tbody tr th {\n",
       "        vertical-align: top;\n",
       "    }\n",
       "\n",
       "    .dataframe thead th {\n",
       "        text-align: right;\n",
       "    }\n",
       "</style>\n",
       "<table border=\"1\" class=\"dataframe\">\n",
       "  <thead>\n",
       "    <tr style=\"text-align: right;\">\n",
       "      <th></th>\n",
       "      <th>employeecode</th>\n",
       "      <th>operationnumber</th>\n",
       "      <th>Time</th>\n",
       "      <th>Current</th>\n",
       "      <th>Humidity</th>\n",
       "      <th>Temperature</th>\n",
       "      <th>Flow</th>\n",
       "      <th>Job Temp</th>\n",
       "      <th>Voltage</th>\n",
       "      <th>Defect</th>\n",
       "      <th>date</th>\n",
       "      <th>month</th>\n",
       "      <th>porosity</th>\n",
       "      <th>tungsten</th>\n",
       "    </tr>\n",
       "  </thead>\n",
       "  <tbody>\n",
       "    <tr>\n",
       "      <th>1</th>\n",
       "      <td>383138.0</td>\n",
       "      <td>40</td>\n",
       "      <td>10:44:10:129</td>\n",
       "      <td>27.85</td>\n",
       "      <td>84.0</td>\n",
       "      <td>24.0</td>\n",
       "      <td>3.12</td>\n",
       "      <td>30.1</td>\n",
       "      <td>9.122</td>\n",
       "      <td>0</td>\n",
       "      <td>22</td>\n",
       "      <td>08</td>\n",
       "      <td>0</td>\n",
       "      <td>0</td>\n",
       "    </tr>\n",
       "    <tr>\n",
       "      <th>2</th>\n",
       "      <td>383138.0</td>\n",
       "      <td>40</td>\n",
       "      <td>10:44:10:630</td>\n",
       "      <td>27.38</td>\n",
       "      <td>84.0</td>\n",
       "      <td>24.0</td>\n",
       "      <td>3.08</td>\n",
       "      <td>30.1</td>\n",
       "      <td>9.129</td>\n",
       "      <td>0</td>\n",
       "      <td>22</td>\n",
       "      <td>08</td>\n",
       "      <td>0</td>\n",
       "      <td>0</td>\n",
       "    </tr>\n",
       "    <tr>\n",
       "      <th>3</th>\n",
       "      <td>383138.0</td>\n",
       "      <td>40</td>\n",
       "      <td>10:44:11:127</td>\n",
       "      <td>26.89</td>\n",
       "      <td>84.0</td>\n",
       "      <td>24.0</td>\n",
       "      <td>3.08</td>\n",
       "      <td>29.3</td>\n",
       "      <td>9.170</td>\n",
       "      <td>0</td>\n",
       "      <td>22</td>\n",
       "      <td>08</td>\n",
       "      <td>0</td>\n",
       "      <td>0</td>\n",
       "    </tr>\n",
       "    <tr>\n",
       "      <th>4</th>\n",
       "      <td>383138.0</td>\n",
       "      <td>40</td>\n",
       "      <td>10:44:11:630</td>\n",
       "      <td>27.86</td>\n",
       "      <td>84.0</td>\n",
       "      <td>24.0</td>\n",
       "      <td>3.05</td>\n",
       "      <td>29.3</td>\n",
       "      <td>9.104</td>\n",
       "      <td>0</td>\n",
       "      <td>22</td>\n",
       "      <td>08</td>\n",
       "      <td>0</td>\n",
       "      <td>0</td>\n",
       "    </tr>\n",
       "    <tr>\n",
       "      <th>5</th>\n",
       "      <td>383138.0</td>\n",
       "      <td>40</td>\n",
       "      <td>10:44:12:132</td>\n",
       "      <td>27.81</td>\n",
       "      <td>84.0</td>\n",
       "      <td>24.0</td>\n",
       "      <td>3.05</td>\n",
       "      <td>29.3</td>\n",
       "      <td>9.045</td>\n",
       "      <td>0</td>\n",
       "      <td>22</td>\n",
       "      <td>08</td>\n",
       "      <td>0</td>\n",
       "      <td>0</td>\n",
       "    </tr>\n",
       "  </tbody>\n",
       "</table>\n",
       "</div>"
      ],
      "text/plain": [
       "   employeecode operationnumber          Time  Current  Humidity  Temperature  \\\n",
       "1      383138.0              40  10:44:10:129    27.85      84.0         24.0   \n",
       "2      383138.0              40  10:44:10:630    27.38      84.0         24.0   \n",
       "3      383138.0              40  10:44:11:127    26.89      84.0         24.0   \n",
       "4      383138.0              40  10:44:11:630    27.86      84.0         24.0   \n",
       "5      383138.0              40  10:44:12:132    27.81      84.0         24.0   \n",
       "\n",
       "   Flow  Job Temp  Voltage  Defect date month  porosity  tungsten  \n",
       "1  3.12      30.1    9.122       0   22    08         0         0  \n",
       "2  3.08      30.1    9.129       0   22    08         0         0  \n",
       "3  3.08      29.3    9.170       0   22    08         0         0  \n",
       "4  3.05      29.3    9.104       0   22    08         0         0  \n",
       "5  3.05      29.3    9.045       0   22    08         0         0  "
      ]
     },
     "execution_count": 36,
     "metadata": {},
     "output_type": "execute_result"
    }
   ],
   "source": [
    "train22.head()"
   ]
  },
  {
   "cell_type": "code",
   "execution_count": 37,
   "id": "f9659e49",
   "metadata": {},
   "outputs": [],
   "source": [
    "# step1\n",
    "train22['processTime']=train22[\"Time\"].apply(\n",
    "    lambda x: \":\".join( \"0\"*(2-len(str(s))) + str(s) for s in x.split(\":\")[:-1]))"
   ]
  },
  {
   "cell_type": "code",
   "execution_count": 38,
   "id": "3c44a8cd",
   "metadata": {},
   "outputs": [],
   "source": [
    "# step2\n",
    "train22['TimeR']=train22['Time'].apply(lambda x: x[::-1])"
   ]
  },
  {
   "cell_type": "code",
   "execution_count": 39,
   "id": "03ee5a38",
   "metadata": {},
   "outputs": [],
   "source": [
    "# step3\n",
    "train22['processTime']=train22['processTime'] + '.' + train22['TimeR'].apply(lambda x: x.split(':', 1)[0])"
   ]
  },
  {
   "cell_type": "code",
   "execution_count": 40,
   "id": "56255653",
   "metadata": {},
   "outputs": [],
   "source": [
    "# step4\n",
    "train22['timeNEW']=pd.to_datetime(train22['processTime'], format=\"%H:%M:%S.%f\")"
   ]
  },
  {
   "cell_type": "code",
   "execution_count": 41,
   "id": "a02b1cd9",
   "metadata": {},
   "outputs": [
    {
     "name": "stdout",
     "output_type": "stream",
     "text": [
      "<class 'pandas.core.series.Series'>\n",
      "Int64Index: 827531 entries, 1 to 827534\n",
      "Series name: timeNEW\n",
      "Non-Null Count   Dtype         \n",
      "--------------   -----         \n",
      "827531 non-null  datetime64[ns]\n",
      "dtypes: datetime64[ns](1)\n",
      "memory usage: 12.6 MB\n"
     ]
    }
   ],
   "source": [
    "train22['timeNEW'].info()"
   ]
  },
  {
   "cell_type": "code",
   "execution_count": 42,
   "id": "e505727e",
   "metadata": {},
   "outputs": [],
   "source": [
    "# creating new features\n",
    "train22['porosityF']=(pow(train22['Flow'],1)*(pow(train22['Job Temp'],1)+273)*train22['Humidity'])\n",
    "train22['HeatInput']=train22['Voltage']*train22['Current']/train22['Flow']\n",
    "train22['power']=train22['Voltage']*train['Current']"
   ]
  },
  {
   "cell_type": "markdown",
   "id": "2bfdf7e2",
   "metadata": {},
   "source": [
    "## Summary of Features\n",
    "**1.porosityF**: Porosity is linked to **gas flow,job temperature and humidity** ,according to the [research papers](https://www.twi-global.com/technical-knowledge/job-knowledge/defects-imperfections-in-welds-porosity-042).So creating a feature porosityF to increase likelihood of detection of porosity defect. <br />\n",
    "\n",
    "**2.HeatInput**: According to the standard formula, heat input is calculated as the product of Voltage and Current divided by the Speed of welding.\n",
    "However, since speed is unknown, a modified version of the formula is used where flow has replaced speed.<br/>\n",
    "\n",
    "**3.power**: It can be calculated as the absolute value of the product of Voltage and Current. <br />"
   ]
  },
  {
   "cell_type": "code",
   "execution_count": 43,
   "id": "1b036f36",
   "metadata": {},
   "outputs": [],
   "source": [
    "# drop infinities\n",
    "with pd.option_context('mode.use_inf_as_na', True):train22.dropna(inplace=True)"
   ]
  },
  {
   "cell_type": "code",
   "execution_count": 44,
   "id": "e56b0f09",
   "metadata": {
    "scrolled": true
   },
   "outputs": [],
   "source": [
    "# scaling for knn and svms\n",
    "from sklearn.preprocessing import MinMaxScaler\n",
    "scaler = MinMaxScaler() \n",
    "train22[['Current','Humidity','Temperature','Flow','Job Temp','Voltage','HeatInput','porosityF','power']] = scaler.fit_transform(\n",
    "    train22[['Current','Humidity','Temperature','Flow','Job Temp','Voltage','HeatInput','porosityF','power']])\n"
   ]
  },
  {
   "cell_type": "code",
   "execution_count": 45,
   "id": "4d683b41",
   "metadata": {},
   "outputs": [
    {
     "data": {
      "text/html": [
       "<div>\n",
       "<style scoped>\n",
       "    .dataframe tbody tr th:only-of-type {\n",
       "        vertical-align: middle;\n",
       "    }\n",
       "\n",
       "    .dataframe tbody tr th {\n",
       "        vertical-align: top;\n",
       "    }\n",
       "\n",
       "    .dataframe thead th {\n",
       "        text-align: right;\n",
       "    }\n",
       "</style>\n",
       "<table border=\"1\" class=\"dataframe\">\n",
       "  <thead>\n",
       "    <tr style=\"text-align: right;\">\n",
       "      <th></th>\n",
       "      <th>employeecode</th>\n",
       "      <th>operationnumber</th>\n",
       "      <th>Time</th>\n",
       "      <th>Current</th>\n",
       "      <th>Humidity</th>\n",
       "      <th>Temperature</th>\n",
       "      <th>Flow</th>\n",
       "      <th>Job Temp</th>\n",
       "      <th>Voltage</th>\n",
       "      <th>Defect</th>\n",
       "      <th>date</th>\n",
       "      <th>month</th>\n",
       "      <th>porosity</th>\n",
       "      <th>tungsten</th>\n",
       "      <th>processTime</th>\n",
       "      <th>TimeR</th>\n",
       "      <th>timeNEW</th>\n",
       "      <th>porosityF</th>\n",
       "      <th>HeatInput</th>\n",
       "      <th>power</th>\n",
       "    </tr>\n",
       "  </thead>\n",
       "  <tbody>\n",
       "    <tr>\n",
       "      <th>1</th>\n",
       "      <td>383138.0</td>\n",
       "      <td>40</td>\n",
       "      <td>10:44:10:129</td>\n",
       "      <td>0.185923</td>\n",
       "      <td>0.267516</td>\n",
       "      <td>0.260563</td>\n",
       "      <td>0.215076</td>\n",
       "      <td>0.009186</td>\n",
       "      <td>0.432404</td>\n",
       "      <td>0</td>\n",
       "      <td>22</td>\n",
       "      <td>08</td>\n",
       "      <td>0</td>\n",
       "      <td>0</td>\n",
       "      <td>10:44:10.921</td>\n",
       "      <td>921:01:44:01</td>\n",
       "      <td>1900-01-01 10:44:10.921</td>\n",
       "      <td>0.022990</td>\n",
       "      <td>0.026318</td>\n",
       "      <td>0.177555</td>\n",
       "    </tr>\n",
       "    <tr>\n",
       "      <th>2</th>\n",
       "      <td>383138.0</td>\n",
       "      <td>40</td>\n",
       "      <td>10:44:10:630</td>\n",
       "      <td>0.182996</td>\n",
       "      <td>0.267516</td>\n",
       "      <td>0.260563</td>\n",
       "      <td>0.212310</td>\n",
       "      <td>0.009186</td>\n",
       "      <td>0.432663</td>\n",
       "      <td>0</td>\n",
       "      <td>22</td>\n",
       "      <td>08</td>\n",
       "      <td>0</td>\n",
       "      <td>0</td>\n",
       "      <td>10:44:10.036</td>\n",
       "      <td>036:01:44:01</td>\n",
       "      <td>1900-01-01 10:44:10.036</td>\n",
       "      <td>0.022695</td>\n",
       "      <td>0.026316</td>\n",
       "      <td>0.175672</td>\n",
       "    </tr>\n",
       "    <tr>\n",
       "      <th>3</th>\n",
       "      <td>383138.0</td>\n",
       "      <td>40</td>\n",
       "      <td>10:44:11:127</td>\n",
       "      <td>0.179944</td>\n",
       "      <td>0.267516</td>\n",
       "      <td>0.260563</td>\n",
       "      <td>0.212310</td>\n",
       "      <td>0.008942</td>\n",
       "      <td>0.434178</td>\n",
       "      <td>0</td>\n",
       "      <td>22</td>\n",
       "      <td>08</td>\n",
       "      <td>0</td>\n",
       "      <td>0</td>\n",
       "      <td>10:44:11.721</td>\n",
       "      <td>721:11:44:01</td>\n",
       "      <td>1900-01-01 10:44:11.721</td>\n",
       "      <td>0.022635</td>\n",
       "      <td>0.026311</td>\n",
       "      <td>0.174122</td>\n",
       "    </tr>\n",
       "    <tr>\n",
       "      <th>4</th>\n",
       "      <td>383138.0</td>\n",
       "      <td>40</td>\n",
       "      <td>10:44:11:630</td>\n",
       "      <td>0.185986</td>\n",
       "      <td>0.267516</td>\n",
       "      <td>0.260563</td>\n",
       "      <td>0.210235</td>\n",
       "      <td>0.008942</td>\n",
       "      <td>0.431739</td>\n",
       "      <td>0</td>\n",
       "      <td>22</td>\n",
       "      <td>08</td>\n",
       "      <td>0</td>\n",
       "      <td>0</td>\n",
       "      <td>10:44:11.036</td>\n",
       "      <td>036:11:44:01</td>\n",
       "      <td>1900-01-01 10:44:11.036</td>\n",
       "      <td>0.022415</td>\n",
       "      <td>0.026327</td>\n",
       "      <td>0.177367</td>\n",
       "    </tr>\n",
       "    <tr>\n",
       "      <th>5</th>\n",
       "      <td>383138.0</td>\n",
       "      <td>40</td>\n",
       "      <td>10:44:12:132</td>\n",
       "      <td>0.185674</td>\n",
       "      <td>0.267516</td>\n",
       "      <td>0.260563</td>\n",
       "      <td>0.210235</td>\n",
       "      <td>0.008942</td>\n",
       "      <td>0.429559</td>\n",
       "      <td>0</td>\n",
       "      <td>22</td>\n",
       "      <td>08</td>\n",
       "      <td>0</td>\n",
       "      <td>0</td>\n",
       "      <td>10:44:12.231</td>\n",
       "      <td>231:21:44:01</td>\n",
       "      <td>1900-01-01 10:44:12.231</td>\n",
       "      <td>0.022415</td>\n",
       "      <td>0.026323</td>\n",
       "      <td>0.176403</td>\n",
       "    </tr>\n",
       "  </tbody>\n",
       "</table>\n",
       "</div>"
      ],
      "text/plain": [
       "   employeecode operationnumber          Time   Current  Humidity  \\\n",
       "1      383138.0              40  10:44:10:129  0.185923  0.267516   \n",
       "2      383138.0              40  10:44:10:630  0.182996  0.267516   \n",
       "3      383138.0              40  10:44:11:127  0.179944  0.267516   \n",
       "4      383138.0              40  10:44:11:630  0.185986  0.267516   \n",
       "5      383138.0              40  10:44:12:132  0.185674  0.267516   \n",
       "\n",
       "   Temperature      Flow  Job Temp   Voltage  Defect date month  porosity  \\\n",
       "1     0.260563  0.215076  0.009186  0.432404       0   22    08         0   \n",
       "2     0.260563  0.212310  0.009186  0.432663       0   22    08         0   \n",
       "3     0.260563  0.212310  0.008942  0.434178       0   22    08         0   \n",
       "4     0.260563  0.210235  0.008942  0.431739       0   22    08         0   \n",
       "5     0.260563  0.210235  0.008942  0.429559       0   22    08         0   \n",
       "\n",
       "   tungsten   processTime         TimeR                 timeNEW  porosityF  \\\n",
       "1         0  10:44:10.921  921:01:44:01 1900-01-01 10:44:10.921   0.022990   \n",
       "2         0  10:44:10.036  036:01:44:01 1900-01-01 10:44:10.036   0.022695   \n",
       "3         0  10:44:11.721  721:11:44:01 1900-01-01 10:44:11.721   0.022635   \n",
       "4         0  10:44:11.036  036:11:44:01 1900-01-01 10:44:11.036   0.022415   \n",
       "5         0  10:44:12.231  231:21:44:01 1900-01-01 10:44:12.231   0.022415   \n",
       "\n",
       "   HeatInput     power  \n",
       "1   0.026318  0.177555  \n",
       "2   0.026316  0.175672  \n",
       "3   0.026311  0.174122  \n",
       "4   0.026327  0.177367  \n",
       "5   0.026323  0.176403  "
      ]
     },
     "execution_count": 45,
     "metadata": {},
     "output_type": "execute_result"
    }
   ],
   "source": [
    "train22.head()"
   ]
  },
  {
   "cell_type": "code",
   "execution_count": 46,
   "id": "9d2cb40b",
   "metadata": {},
   "outputs": [],
   "source": [
    "train22.drop(['TimeR','processTime','Time','date','month'],axis=1,inplace=True)"
   ]
  },
  {
   "cell_type": "code",
   "execution_count": 47,
   "id": "c7c4ee0f",
   "metadata": {},
   "outputs": [
    {
     "data": {
      "text/html": [
       "<div>\n",
       "<style scoped>\n",
       "    .dataframe tbody tr th:only-of-type {\n",
       "        vertical-align: middle;\n",
       "    }\n",
       "\n",
       "    .dataframe tbody tr th {\n",
       "        vertical-align: top;\n",
       "    }\n",
       "\n",
       "    .dataframe thead th {\n",
       "        text-align: right;\n",
       "    }\n",
       "</style>\n",
       "<table border=\"1\" class=\"dataframe\">\n",
       "  <thead>\n",
       "    <tr style=\"text-align: right;\">\n",
       "      <th></th>\n",
       "      <th>employeecode</th>\n",
       "      <th>operationnumber</th>\n",
       "      <th>Current</th>\n",
       "      <th>Humidity</th>\n",
       "      <th>Temperature</th>\n",
       "      <th>Flow</th>\n",
       "      <th>Job Temp</th>\n",
       "      <th>Voltage</th>\n",
       "      <th>Defect</th>\n",
       "      <th>porosity</th>\n",
       "      <th>tungsten</th>\n",
       "      <th>timeNEW</th>\n",
       "      <th>porosityF</th>\n",
       "      <th>HeatInput</th>\n",
       "      <th>power</th>\n",
       "    </tr>\n",
       "  </thead>\n",
       "  <tbody>\n",
       "    <tr>\n",
       "      <th>1</th>\n",
       "      <td>383138.0</td>\n",
       "      <td>40</td>\n",
       "      <td>0.185923</td>\n",
       "      <td>0.267516</td>\n",
       "      <td>0.260563</td>\n",
       "      <td>0.215076</td>\n",
       "      <td>0.009186</td>\n",
       "      <td>0.432404</td>\n",
       "      <td>0</td>\n",
       "      <td>0</td>\n",
       "      <td>0</td>\n",
       "      <td>1900-01-01 10:44:10.921</td>\n",
       "      <td>0.022990</td>\n",
       "      <td>0.026318</td>\n",
       "      <td>0.177555</td>\n",
       "    </tr>\n",
       "    <tr>\n",
       "      <th>2</th>\n",
       "      <td>383138.0</td>\n",
       "      <td>40</td>\n",
       "      <td>0.182996</td>\n",
       "      <td>0.267516</td>\n",
       "      <td>0.260563</td>\n",
       "      <td>0.212310</td>\n",
       "      <td>0.009186</td>\n",
       "      <td>0.432663</td>\n",
       "      <td>0</td>\n",
       "      <td>0</td>\n",
       "      <td>0</td>\n",
       "      <td>1900-01-01 10:44:10.036</td>\n",
       "      <td>0.022695</td>\n",
       "      <td>0.026316</td>\n",
       "      <td>0.175672</td>\n",
       "    </tr>\n",
       "    <tr>\n",
       "      <th>3</th>\n",
       "      <td>383138.0</td>\n",
       "      <td>40</td>\n",
       "      <td>0.179944</td>\n",
       "      <td>0.267516</td>\n",
       "      <td>0.260563</td>\n",
       "      <td>0.212310</td>\n",
       "      <td>0.008942</td>\n",
       "      <td>0.434178</td>\n",
       "      <td>0</td>\n",
       "      <td>0</td>\n",
       "      <td>0</td>\n",
       "      <td>1900-01-01 10:44:11.721</td>\n",
       "      <td>0.022635</td>\n",
       "      <td>0.026311</td>\n",
       "      <td>0.174122</td>\n",
       "    </tr>\n",
       "    <tr>\n",
       "      <th>4</th>\n",
       "      <td>383138.0</td>\n",
       "      <td>40</td>\n",
       "      <td>0.185986</td>\n",
       "      <td>0.267516</td>\n",
       "      <td>0.260563</td>\n",
       "      <td>0.210235</td>\n",
       "      <td>0.008942</td>\n",
       "      <td>0.431739</td>\n",
       "      <td>0</td>\n",
       "      <td>0</td>\n",
       "      <td>0</td>\n",
       "      <td>1900-01-01 10:44:11.036</td>\n",
       "      <td>0.022415</td>\n",
       "      <td>0.026327</td>\n",
       "      <td>0.177367</td>\n",
       "    </tr>\n",
       "    <tr>\n",
       "      <th>5</th>\n",
       "      <td>383138.0</td>\n",
       "      <td>40</td>\n",
       "      <td>0.185674</td>\n",
       "      <td>0.267516</td>\n",
       "      <td>0.260563</td>\n",
       "      <td>0.210235</td>\n",
       "      <td>0.008942</td>\n",
       "      <td>0.429559</td>\n",
       "      <td>0</td>\n",
       "      <td>0</td>\n",
       "      <td>0</td>\n",
       "      <td>1900-01-01 10:44:12.231</td>\n",
       "      <td>0.022415</td>\n",
       "      <td>0.026323</td>\n",
       "      <td>0.176403</td>\n",
       "    </tr>\n",
       "  </tbody>\n",
       "</table>\n",
       "</div>"
      ],
      "text/plain": [
       "   employeecode operationnumber   Current  Humidity  Temperature      Flow  \\\n",
       "1      383138.0              40  0.185923  0.267516     0.260563  0.215076   \n",
       "2      383138.0              40  0.182996  0.267516     0.260563  0.212310   \n",
       "3      383138.0              40  0.179944  0.267516     0.260563  0.212310   \n",
       "4      383138.0              40  0.185986  0.267516     0.260563  0.210235   \n",
       "5      383138.0              40  0.185674  0.267516     0.260563  0.210235   \n",
       "\n",
       "   Job Temp   Voltage  Defect  porosity  tungsten                 timeNEW  \\\n",
       "1  0.009186  0.432404       0         0         0 1900-01-01 10:44:10.921   \n",
       "2  0.009186  0.432663       0         0         0 1900-01-01 10:44:10.036   \n",
       "3  0.008942  0.434178       0         0         0 1900-01-01 10:44:11.721   \n",
       "4  0.008942  0.431739       0         0         0 1900-01-01 10:44:11.036   \n",
       "5  0.008942  0.429559       0         0         0 1900-01-01 10:44:12.231   \n",
       "\n",
       "   porosityF  HeatInput     power  \n",
       "1   0.022990   0.026318  0.177555  \n",
       "2   0.022695   0.026316  0.175672  \n",
       "3   0.022635   0.026311  0.174122  \n",
       "4   0.022415   0.026327  0.177367  \n",
       "5   0.022415   0.026323  0.176403  "
      ]
     },
     "execution_count": 47,
     "metadata": {},
     "output_type": "execute_result"
    }
   ],
   "source": [
    "train22.head()"
   ]
  },
  {
   "cell_type": "markdown",
   "id": "c9fda0db",
   "metadata": {},
   "source": [
    "## Label Encoding "
   ]
  },
  {
   "cell_type": "markdown",
   "id": "991b0f11",
   "metadata": {},
   "source": [
    "Although label encoding for done for all categorical features. It was found to **decrease model** performance so it was not included in final model. "
   ]
  },
  {
   "cell_type": "code",
   "execution_count": 48,
   "id": "387f8779",
   "metadata": {},
   "outputs": [],
   "source": [
    "def top_labels(df, col, max_col):\n",
    "    top = list(df[col].value_counts().sort_values(ascending=False).head(max_col).index)\n",
    "    print(\"Top Labels: \", top)\n",
    "    for categories in top:\n",
    "        df[col+ \"_\" +str(categories)]=np.where(df[col]==categories,1,0)\n",
    "        print(col + \"_\" + str(categories))\n",
    "    return top"
   ]
  },
  {
   "cell_type": "code",
   "execution_count": 49,
   "id": "19bdfe4f",
   "metadata": {},
   "outputs": [
    {
     "data": {
      "text/plain": [
       "391342.0    162947\n",
       "394965.0    142647\n",
       "97346.0     105249\n",
       "394269.0     78059\n",
       "383138.0     23594\n",
       "394365.0     22993\n",
       "382617.0     15821\n",
       "0.0          11213\n",
       "387268.0      7835\n",
       "Name: employeecode, dtype: int64"
      ]
     },
     "execution_count": 49,
     "metadata": {},
     "output_type": "execute_result"
    }
   ],
   "source": [
    "train22['employeecode'].value_counts()"
   ]
  },
  {
   "cell_type": "code",
   "execution_count": 50,
   "id": "0492b640",
   "metadata": {},
   "outputs": [
    {
     "name": "stdout",
     "output_type": "stream",
     "text": [
      "Top Labels:  [391342.0, 394965.0, 97346.0, 394269.0, 383138.0, 394365.0, 382617.0, 0.0, 387268.0]\n",
      "employeecode_391342.0\n",
      "employeecode_394965.0\n",
      "employeecode_97346.0\n",
      "employeecode_394269.0\n",
      "employeecode_383138.0\n",
      "employeecode_394365.0\n",
      "employeecode_382617.0\n",
      "employeecode_0.0\n",
      "employeecode_387268.0\n"
     ]
    }
   ],
   "source": [
    "top_labels_emp = top_labels(train22, 'employeecode',9 )\n",
    "train22 = train22.drop(['employeecode'], axis = 1)"
   ]
  },
  {
   "cell_type": "code",
   "execution_count": 51,
   "id": "8b611321",
   "metadata": {},
   "outputs": [
    {
     "data": {
      "text/html": [
       "<div>\n",
       "<style scoped>\n",
       "    .dataframe tbody tr th:only-of-type {\n",
       "        vertical-align: middle;\n",
       "    }\n",
       "\n",
       "    .dataframe tbody tr th {\n",
       "        vertical-align: top;\n",
       "    }\n",
       "\n",
       "    .dataframe thead th {\n",
       "        text-align: right;\n",
       "    }\n",
       "</style>\n",
       "<table border=\"1\" class=\"dataframe\">\n",
       "  <thead>\n",
       "    <tr style=\"text-align: right;\">\n",
       "      <th></th>\n",
       "      <th>operationnumber</th>\n",
       "      <th>Current</th>\n",
       "      <th>Humidity</th>\n",
       "      <th>Temperature</th>\n",
       "      <th>Flow</th>\n",
       "      <th>Job Temp</th>\n",
       "      <th>Voltage</th>\n",
       "      <th>Defect</th>\n",
       "      <th>porosity</th>\n",
       "      <th>tungsten</th>\n",
       "      <th>...</th>\n",
       "      <th>power</th>\n",
       "      <th>employeecode_391342.0</th>\n",
       "      <th>employeecode_394965.0</th>\n",
       "      <th>employeecode_97346.0</th>\n",
       "      <th>employeecode_394269.0</th>\n",
       "      <th>employeecode_383138.0</th>\n",
       "      <th>employeecode_394365.0</th>\n",
       "      <th>employeecode_382617.0</th>\n",
       "      <th>employeecode_0.0</th>\n",
       "      <th>employeecode_387268.0</th>\n",
       "    </tr>\n",
       "  </thead>\n",
       "  <tbody>\n",
       "    <tr>\n",
       "      <th>1</th>\n",
       "      <td>40</td>\n",
       "      <td>0.185923</td>\n",
       "      <td>0.267516</td>\n",
       "      <td>0.260563</td>\n",
       "      <td>0.215076</td>\n",
       "      <td>0.009186</td>\n",
       "      <td>0.432404</td>\n",
       "      <td>0</td>\n",
       "      <td>0</td>\n",
       "      <td>0</td>\n",
       "      <td>...</td>\n",
       "      <td>0.177555</td>\n",
       "      <td>0</td>\n",
       "      <td>0</td>\n",
       "      <td>0</td>\n",
       "      <td>0</td>\n",
       "      <td>1</td>\n",
       "      <td>0</td>\n",
       "      <td>0</td>\n",
       "      <td>0</td>\n",
       "      <td>0</td>\n",
       "    </tr>\n",
       "    <tr>\n",
       "      <th>2</th>\n",
       "      <td>40</td>\n",
       "      <td>0.182996</td>\n",
       "      <td>0.267516</td>\n",
       "      <td>0.260563</td>\n",
       "      <td>0.212310</td>\n",
       "      <td>0.009186</td>\n",
       "      <td>0.432663</td>\n",
       "      <td>0</td>\n",
       "      <td>0</td>\n",
       "      <td>0</td>\n",
       "      <td>...</td>\n",
       "      <td>0.175672</td>\n",
       "      <td>0</td>\n",
       "      <td>0</td>\n",
       "      <td>0</td>\n",
       "      <td>0</td>\n",
       "      <td>1</td>\n",
       "      <td>0</td>\n",
       "      <td>0</td>\n",
       "      <td>0</td>\n",
       "      <td>0</td>\n",
       "    </tr>\n",
       "    <tr>\n",
       "      <th>3</th>\n",
       "      <td>40</td>\n",
       "      <td>0.179944</td>\n",
       "      <td>0.267516</td>\n",
       "      <td>0.260563</td>\n",
       "      <td>0.212310</td>\n",
       "      <td>0.008942</td>\n",
       "      <td>0.434178</td>\n",
       "      <td>0</td>\n",
       "      <td>0</td>\n",
       "      <td>0</td>\n",
       "      <td>...</td>\n",
       "      <td>0.174122</td>\n",
       "      <td>0</td>\n",
       "      <td>0</td>\n",
       "      <td>0</td>\n",
       "      <td>0</td>\n",
       "      <td>1</td>\n",
       "      <td>0</td>\n",
       "      <td>0</td>\n",
       "      <td>0</td>\n",
       "      <td>0</td>\n",
       "    </tr>\n",
       "    <tr>\n",
       "      <th>4</th>\n",
       "      <td>40</td>\n",
       "      <td>0.185986</td>\n",
       "      <td>0.267516</td>\n",
       "      <td>0.260563</td>\n",
       "      <td>0.210235</td>\n",
       "      <td>0.008942</td>\n",
       "      <td>0.431739</td>\n",
       "      <td>0</td>\n",
       "      <td>0</td>\n",
       "      <td>0</td>\n",
       "      <td>...</td>\n",
       "      <td>0.177367</td>\n",
       "      <td>0</td>\n",
       "      <td>0</td>\n",
       "      <td>0</td>\n",
       "      <td>0</td>\n",
       "      <td>1</td>\n",
       "      <td>0</td>\n",
       "      <td>0</td>\n",
       "      <td>0</td>\n",
       "      <td>0</td>\n",
       "    </tr>\n",
       "    <tr>\n",
       "      <th>5</th>\n",
       "      <td>40</td>\n",
       "      <td>0.185674</td>\n",
       "      <td>0.267516</td>\n",
       "      <td>0.260563</td>\n",
       "      <td>0.210235</td>\n",
       "      <td>0.008942</td>\n",
       "      <td>0.429559</td>\n",
       "      <td>0</td>\n",
       "      <td>0</td>\n",
       "      <td>0</td>\n",
       "      <td>...</td>\n",
       "      <td>0.176403</td>\n",
       "      <td>0</td>\n",
       "      <td>0</td>\n",
       "      <td>0</td>\n",
       "      <td>0</td>\n",
       "      <td>1</td>\n",
       "      <td>0</td>\n",
       "      <td>0</td>\n",
       "      <td>0</td>\n",
       "      <td>0</td>\n",
       "    </tr>\n",
       "  </tbody>\n",
       "</table>\n",
       "<p>5 rows × 23 columns</p>\n",
       "</div>"
      ],
      "text/plain": [
       "  operationnumber   Current  Humidity  Temperature      Flow  Job Temp  \\\n",
       "1              40  0.185923  0.267516     0.260563  0.215076  0.009186   \n",
       "2              40  0.182996  0.267516     0.260563  0.212310  0.009186   \n",
       "3              40  0.179944  0.267516     0.260563  0.212310  0.008942   \n",
       "4              40  0.185986  0.267516     0.260563  0.210235  0.008942   \n",
       "5              40  0.185674  0.267516     0.260563  0.210235  0.008942   \n",
       "\n",
       "    Voltage  Defect  porosity  tungsten  ...     power  employeecode_391342.0  \\\n",
       "1  0.432404       0         0         0  ...  0.177555                      0   \n",
       "2  0.432663       0         0         0  ...  0.175672                      0   \n",
       "3  0.434178       0         0         0  ...  0.174122                      0   \n",
       "4  0.431739       0         0         0  ...  0.177367                      0   \n",
       "5  0.429559       0         0         0  ...  0.176403                      0   \n",
       "\n",
       "   employeecode_394965.0  employeecode_97346.0  employeecode_394269.0  \\\n",
       "1                      0                     0                      0   \n",
       "2                      0                     0                      0   \n",
       "3                      0                     0                      0   \n",
       "4                      0                     0                      0   \n",
       "5                      0                     0                      0   \n",
       "\n",
       "   employeecode_383138.0  employeecode_394365.0  employeecode_382617.0  \\\n",
       "1                      1                      0                      0   \n",
       "2                      1                      0                      0   \n",
       "3                      1                      0                      0   \n",
       "4                      1                      0                      0   \n",
       "5                      1                      0                      0   \n",
       "\n",
       "   employeecode_0.0  employeecode_387268.0  \n",
       "1                 0                      0  \n",
       "2                 0                      0  \n",
       "3                 0                      0  \n",
       "4                 0                      0  \n",
       "5                 0                      0  \n",
       "\n",
       "[5 rows x 23 columns]"
      ]
     },
     "execution_count": 51,
     "metadata": {},
     "output_type": "execute_result"
    }
   ],
   "source": [
    "train22.head()"
   ]
  },
  {
   "cell_type": "code",
   "execution_count": 52,
   "id": "4e7c957b",
   "metadata": {},
   "outputs": [
    {
     "data": {
      "text/plain": [
       "240    315862\n",
       "180    149466\n",
       "1       43255\n",
       "40      26829\n",
       "130     14171\n",
       "30      12500\n",
       "40       8191\n",
       "0          84\n",
       "Name: operationnumber, dtype: int64"
      ]
     },
     "execution_count": 52,
     "metadata": {},
     "output_type": "execute_result"
    }
   ],
   "source": [
    "train22['operationnumber'].value_counts()"
   ]
  },
  {
   "cell_type": "code",
   "execution_count": 53,
   "id": "516348b8",
   "metadata": {},
   "outputs": [
    {
     "name": "stdout",
     "output_type": "stream",
     "text": [
      "Top Labels:  [240, 180, 1, 40, 130, 30, '40', 0]\n",
      "operationnumber_240\n",
      "operationnumber_180\n",
      "operationnumber_1\n",
      "operationnumber_40\n",
      "operationnumber_130\n",
      "operationnumber_30\n",
      "operationnumber_40\n",
      "operationnumber_0\n"
     ]
    }
   ],
   "source": [
    "top_labels_emp = top_labels(train22, 'operationnumber', 8 )\n",
    "train22 = train22.drop(['operationnumber'], axis = 1)"
   ]
  },
  {
   "cell_type": "code",
   "execution_count": 54,
   "id": "047e9c1d",
   "metadata": {},
   "outputs": [
    {
     "data": {
      "text/html": [
       "<div>\n",
       "<style scoped>\n",
       "    .dataframe tbody tr th:only-of-type {\n",
       "        vertical-align: middle;\n",
       "    }\n",
       "\n",
       "    .dataframe tbody tr th {\n",
       "        vertical-align: top;\n",
       "    }\n",
       "\n",
       "    .dataframe thead th {\n",
       "        text-align: right;\n",
       "    }\n",
       "</style>\n",
       "<table border=\"1\" class=\"dataframe\">\n",
       "  <thead>\n",
       "    <tr style=\"text-align: right;\">\n",
       "      <th></th>\n",
       "      <th>Current</th>\n",
       "      <th>Humidity</th>\n",
       "      <th>Temperature</th>\n",
       "      <th>Flow</th>\n",
       "      <th>Job Temp</th>\n",
       "      <th>Voltage</th>\n",
       "      <th>Defect</th>\n",
       "      <th>porosity</th>\n",
       "      <th>tungsten</th>\n",
       "      <th>timeNEW</th>\n",
       "      <th>...</th>\n",
       "      <th>employeecode_382617.0</th>\n",
       "      <th>employeecode_0.0</th>\n",
       "      <th>employeecode_387268.0</th>\n",
       "      <th>operationnumber_240</th>\n",
       "      <th>operationnumber_180</th>\n",
       "      <th>operationnumber_1</th>\n",
       "      <th>operationnumber_40</th>\n",
       "      <th>operationnumber_130</th>\n",
       "      <th>operationnumber_30</th>\n",
       "      <th>operationnumber_0</th>\n",
       "    </tr>\n",
       "  </thead>\n",
       "  <tbody>\n",
       "    <tr>\n",
       "      <th>1</th>\n",
       "      <td>0.185923</td>\n",
       "      <td>0.267516</td>\n",
       "      <td>0.260563</td>\n",
       "      <td>0.215076</td>\n",
       "      <td>0.009186</td>\n",
       "      <td>0.432404</td>\n",
       "      <td>0</td>\n",
       "      <td>0</td>\n",
       "      <td>0</td>\n",
       "      <td>1900-01-01 10:44:10.921</td>\n",
       "      <td>...</td>\n",
       "      <td>0</td>\n",
       "      <td>0</td>\n",
       "      <td>0</td>\n",
       "      <td>0</td>\n",
       "      <td>0</td>\n",
       "      <td>0</td>\n",
       "      <td>1</td>\n",
       "      <td>0</td>\n",
       "      <td>0</td>\n",
       "      <td>0</td>\n",
       "    </tr>\n",
       "    <tr>\n",
       "      <th>2</th>\n",
       "      <td>0.182996</td>\n",
       "      <td>0.267516</td>\n",
       "      <td>0.260563</td>\n",
       "      <td>0.212310</td>\n",
       "      <td>0.009186</td>\n",
       "      <td>0.432663</td>\n",
       "      <td>0</td>\n",
       "      <td>0</td>\n",
       "      <td>0</td>\n",
       "      <td>1900-01-01 10:44:10.036</td>\n",
       "      <td>...</td>\n",
       "      <td>0</td>\n",
       "      <td>0</td>\n",
       "      <td>0</td>\n",
       "      <td>0</td>\n",
       "      <td>0</td>\n",
       "      <td>0</td>\n",
       "      <td>1</td>\n",
       "      <td>0</td>\n",
       "      <td>0</td>\n",
       "      <td>0</td>\n",
       "    </tr>\n",
       "    <tr>\n",
       "      <th>3</th>\n",
       "      <td>0.179944</td>\n",
       "      <td>0.267516</td>\n",
       "      <td>0.260563</td>\n",
       "      <td>0.212310</td>\n",
       "      <td>0.008942</td>\n",
       "      <td>0.434178</td>\n",
       "      <td>0</td>\n",
       "      <td>0</td>\n",
       "      <td>0</td>\n",
       "      <td>1900-01-01 10:44:11.721</td>\n",
       "      <td>...</td>\n",
       "      <td>0</td>\n",
       "      <td>0</td>\n",
       "      <td>0</td>\n",
       "      <td>0</td>\n",
       "      <td>0</td>\n",
       "      <td>0</td>\n",
       "      <td>1</td>\n",
       "      <td>0</td>\n",
       "      <td>0</td>\n",
       "      <td>0</td>\n",
       "    </tr>\n",
       "    <tr>\n",
       "      <th>4</th>\n",
       "      <td>0.185986</td>\n",
       "      <td>0.267516</td>\n",
       "      <td>0.260563</td>\n",
       "      <td>0.210235</td>\n",
       "      <td>0.008942</td>\n",
       "      <td>0.431739</td>\n",
       "      <td>0</td>\n",
       "      <td>0</td>\n",
       "      <td>0</td>\n",
       "      <td>1900-01-01 10:44:11.036</td>\n",
       "      <td>...</td>\n",
       "      <td>0</td>\n",
       "      <td>0</td>\n",
       "      <td>0</td>\n",
       "      <td>0</td>\n",
       "      <td>0</td>\n",
       "      <td>0</td>\n",
       "      <td>1</td>\n",
       "      <td>0</td>\n",
       "      <td>0</td>\n",
       "      <td>0</td>\n",
       "    </tr>\n",
       "    <tr>\n",
       "      <th>5</th>\n",
       "      <td>0.185674</td>\n",
       "      <td>0.267516</td>\n",
       "      <td>0.260563</td>\n",
       "      <td>0.210235</td>\n",
       "      <td>0.008942</td>\n",
       "      <td>0.429559</td>\n",
       "      <td>0</td>\n",
       "      <td>0</td>\n",
       "      <td>0</td>\n",
       "      <td>1900-01-01 10:44:12.231</td>\n",
       "      <td>...</td>\n",
       "      <td>0</td>\n",
       "      <td>0</td>\n",
       "      <td>0</td>\n",
       "      <td>0</td>\n",
       "      <td>0</td>\n",
       "      <td>0</td>\n",
       "      <td>1</td>\n",
       "      <td>0</td>\n",
       "      <td>0</td>\n",
       "      <td>0</td>\n",
       "    </tr>\n",
       "  </tbody>\n",
       "</table>\n",
       "<p>5 rows × 29 columns</p>\n",
       "</div>"
      ],
      "text/plain": [
       "    Current  Humidity  Temperature      Flow  Job Temp   Voltage  Defect  \\\n",
       "1  0.185923  0.267516     0.260563  0.215076  0.009186  0.432404       0   \n",
       "2  0.182996  0.267516     0.260563  0.212310  0.009186  0.432663       0   \n",
       "3  0.179944  0.267516     0.260563  0.212310  0.008942  0.434178       0   \n",
       "4  0.185986  0.267516     0.260563  0.210235  0.008942  0.431739       0   \n",
       "5  0.185674  0.267516     0.260563  0.210235  0.008942  0.429559       0   \n",
       "\n",
       "   porosity  tungsten                 timeNEW  ...  employeecode_382617.0  \\\n",
       "1         0         0 1900-01-01 10:44:10.921  ...                      0   \n",
       "2         0         0 1900-01-01 10:44:10.036  ...                      0   \n",
       "3         0         0 1900-01-01 10:44:11.721  ...                      0   \n",
       "4         0         0 1900-01-01 10:44:11.036  ...                      0   \n",
       "5         0         0 1900-01-01 10:44:12.231  ...                      0   \n",
       "\n",
       "   employeecode_0.0  employeecode_387268.0  operationnumber_240  \\\n",
       "1                 0                      0                    0   \n",
       "2                 0                      0                    0   \n",
       "3                 0                      0                    0   \n",
       "4                 0                      0                    0   \n",
       "5                 0                      0                    0   \n",
       "\n",
       "   operationnumber_180  operationnumber_1  operationnumber_40  \\\n",
       "1                    0                  0                   1   \n",
       "2                    0                  0                   1   \n",
       "3                    0                  0                   1   \n",
       "4                    0                  0                   1   \n",
       "5                    0                  0                   1   \n",
       "\n",
       "   operationnumber_130  operationnumber_30  operationnumber_0  \n",
       "1                    0                   0                  0  \n",
       "2                    0                   0                  0  \n",
       "3                    0                   0                  0  \n",
       "4                    0                   0                  0  \n",
       "5                    0                   0                  0  \n",
       "\n",
       "[5 rows x 29 columns]"
      ]
     },
     "execution_count": 54,
     "metadata": {},
     "output_type": "execute_result"
    }
   ],
   "source": [
    "train22.head()"
   ]
  },
  {
   "cell_type": "code",
   "execution_count": 55,
   "id": "aa6a9991",
   "metadata": {},
   "outputs": [],
   "source": [
    "#dropping the label encoded columns\n",
    "train22.drop(train22.iloc[:, 13:30], inplace=True, axis=1)"
   ]
  },
  {
   "cell_type": "code",
   "execution_count": 56,
   "id": "f58dc61a",
   "metadata": {},
   "outputs": [
    {
     "data": {
      "text/html": [
       "<div>\n",
       "<style scoped>\n",
       "    .dataframe tbody tr th:only-of-type {\n",
       "        vertical-align: middle;\n",
       "    }\n",
       "\n",
       "    .dataframe tbody tr th {\n",
       "        vertical-align: top;\n",
       "    }\n",
       "\n",
       "    .dataframe thead th {\n",
       "        text-align: right;\n",
       "    }\n",
       "</style>\n",
       "<table border=\"1\" class=\"dataframe\">\n",
       "  <thead>\n",
       "    <tr style=\"text-align: right;\">\n",
       "      <th></th>\n",
       "      <th>Current</th>\n",
       "      <th>Humidity</th>\n",
       "      <th>Temperature</th>\n",
       "      <th>Flow</th>\n",
       "      <th>Job Temp</th>\n",
       "      <th>Voltage</th>\n",
       "      <th>Defect</th>\n",
       "      <th>porosity</th>\n",
       "      <th>tungsten</th>\n",
       "      <th>timeNEW</th>\n",
       "      <th>porosityF</th>\n",
       "      <th>HeatInput</th>\n",
       "      <th>power</th>\n",
       "    </tr>\n",
       "  </thead>\n",
       "  <tbody>\n",
       "    <tr>\n",
       "      <th>1</th>\n",
       "      <td>0.185923</td>\n",
       "      <td>0.267516</td>\n",
       "      <td>0.260563</td>\n",
       "      <td>0.215076</td>\n",
       "      <td>0.009186</td>\n",
       "      <td>0.432404</td>\n",
       "      <td>0</td>\n",
       "      <td>0</td>\n",
       "      <td>0</td>\n",
       "      <td>1900-01-01 10:44:10.921</td>\n",
       "      <td>0.022990</td>\n",
       "      <td>0.026318</td>\n",
       "      <td>0.177555</td>\n",
       "    </tr>\n",
       "    <tr>\n",
       "      <th>2</th>\n",
       "      <td>0.182996</td>\n",
       "      <td>0.267516</td>\n",
       "      <td>0.260563</td>\n",
       "      <td>0.212310</td>\n",
       "      <td>0.009186</td>\n",
       "      <td>0.432663</td>\n",
       "      <td>0</td>\n",
       "      <td>0</td>\n",
       "      <td>0</td>\n",
       "      <td>1900-01-01 10:44:10.036</td>\n",
       "      <td>0.022695</td>\n",
       "      <td>0.026316</td>\n",
       "      <td>0.175672</td>\n",
       "    </tr>\n",
       "    <tr>\n",
       "      <th>3</th>\n",
       "      <td>0.179944</td>\n",
       "      <td>0.267516</td>\n",
       "      <td>0.260563</td>\n",
       "      <td>0.212310</td>\n",
       "      <td>0.008942</td>\n",
       "      <td>0.434178</td>\n",
       "      <td>0</td>\n",
       "      <td>0</td>\n",
       "      <td>0</td>\n",
       "      <td>1900-01-01 10:44:11.721</td>\n",
       "      <td>0.022635</td>\n",
       "      <td>0.026311</td>\n",
       "      <td>0.174122</td>\n",
       "    </tr>\n",
       "    <tr>\n",
       "      <th>4</th>\n",
       "      <td>0.185986</td>\n",
       "      <td>0.267516</td>\n",
       "      <td>0.260563</td>\n",
       "      <td>0.210235</td>\n",
       "      <td>0.008942</td>\n",
       "      <td>0.431739</td>\n",
       "      <td>0</td>\n",
       "      <td>0</td>\n",
       "      <td>0</td>\n",
       "      <td>1900-01-01 10:44:11.036</td>\n",
       "      <td>0.022415</td>\n",
       "      <td>0.026327</td>\n",
       "      <td>0.177367</td>\n",
       "    </tr>\n",
       "    <tr>\n",
       "      <th>5</th>\n",
       "      <td>0.185674</td>\n",
       "      <td>0.267516</td>\n",
       "      <td>0.260563</td>\n",
       "      <td>0.210235</td>\n",
       "      <td>0.008942</td>\n",
       "      <td>0.429559</td>\n",
       "      <td>0</td>\n",
       "      <td>0</td>\n",
       "      <td>0</td>\n",
       "      <td>1900-01-01 10:44:12.231</td>\n",
       "      <td>0.022415</td>\n",
       "      <td>0.026323</td>\n",
       "      <td>0.176403</td>\n",
       "    </tr>\n",
       "  </tbody>\n",
       "</table>\n",
       "</div>"
      ],
      "text/plain": [
       "    Current  Humidity  Temperature      Flow  Job Temp   Voltage  Defect  \\\n",
       "1  0.185923  0.267516     0.260563  0.215076  0.009186  0.432404       0   \n",
       "2  0.182996  0.267516     0.260563  0.212310  0.009186  0.432663       0   \n",
       "3  0.179944  0.267516     0.260563  0.212310  0.008942  0.434178       0   \n",
       "4  0.185986  0.267516     0.260563  0.210235  0.008942  0.431739       0   \n",
       "5  0.185674  0.267516     0.260563  0.210235  0.008942  0.429559       0   \n",
       "\n",
       "   porosity  tungsten                 timeNEW  porosityF  HeatInput     power  \n",
       "1         0         0 1900-01-01 10:44:10.921   0.022990   0.026318  0.177555  \n",
       "2         0         0 1900-01-01 10:44:10.036   0.022695   0.026316  0.175672  \n",
       "3         0         0 1900-01-01 10:44:11.721   0.022635   0.026311  0.174122  \n",
       "4         0         0 1900-01-01 10:44:11.036   0.022415   0.026327  0.177367  \n",
       "5         0         0 1900-01-01 10:44:12.231   0.022415   0.026323  0.176403  "
      ]
     },
     "execution_count": 56,
     "metadata": {},
     "output_type": "execute_result"
    }
   ],
   "source": [
    "train22.head()"
   ]
  },
  {
   "cell_type": "code",
   "execution_count": 57,
   "id": "58d69672",
   "metadata": {
    "scrolled": true
   },
   "outputs": [],
   "source": [
    "train22.drop(['porosity','tungsten'],axis=1,inplace=True)"
   ]
  },
  {
   "cell_type": "code",
   "execution_count": 58,
   "id": "9b3334fe",
   "metadata": {},
   "outputs": [
    {
     "data": {
      "text/html": [
       "<div>\n",
       "<style scoped>\n",
       "    .dataframe tbody tr th:only-of-type {\n",
       "        vertical-align: middle;\n",
       "    }\n",
       "\n",
       "    .dataframe tbody tr th {\n",
       "        vertical-align: top;\n",
       "    }\n",
       "\n",
       "    .dataframe thead th {\n",
       "        text-align: right;\n",
       "    }\n",
       "</style>\n",
       "<table border=\"1\" class=\"dataframe\">\n",
       "  <thead>\n",
       "    <tr style=\"text-align: right;\">\n",
       "      <th></th>\n",
       "      <th>Current</th>\n",
       "      <th>Humidity</th>\n",
       "      <th>Temperature</th>\n",
       "      <th>Flow</th>\n",
       "      <th>Job Temp</th>\n",
       "      <th>Voltage</th>\n",
       "      <th>Defect</th>\n",
       "      <th>timeNEW</th>\n",
       "      <th>porosityF</th>\n",
       "      <th>HeatInput</th>\n",
       "      <th>power</th>\n",
       "    </tr>\n",
       "  </thead>\n",
       "  <tbody>\n",
       "    <tr>\n",
       "      <th>1</th>\n",
       "      <td>0.185923</td>\n",
       "      <td>0.267516</td>\n",
       "      <td>0.260563</td>\n",
       "      <td>0.215076</td>\n",
       "      <td>0.009186</td>\n",
       "      <td>0.432404</td>\n",
       "      <td>0</td>\n",
       "      <td>1900-01-01 10:44:10.921</td>\n",
       "      <td>0.022990</td>\n",
       "      <td>0.026318</td>\n",
       "      <td>0.177555</td>\n",
       "    </tr>\n",
       "    <tr>\n",
       "      <th>2</th>\n",
       "      <td>0.182996</td>\n",
       "      <td>0.267516</td>\n",
       "      <td>0.260563</td>\n",
       "      <td>0.212310</td>\n",
       "      <td>0.009186</td>\n",
       "      <td>0.432663</td>\n",
       "      <td>0</td>\n",
       "      <td>1900-01-01 10:44:10.036</td>\n",
       "      <td>0.022695</td>\n",
       "      <td>0.026316</td>\n",
       "      <td>0.175672</td>\n",
       "    </tr>\n",
       "    <tr>\n",
       "      <th>3</th>\n",
       "      <td>0.179944</td>\n",
       "      <td>0.267516</td>\n",
       "      <td>0.260563</td>\n",
       "      <td>0.212310</td>\n",
       "      <td>0.008942</td>\n",
       "      <td>0.434178</td>\n",
       "      <td>0</td>\n",
       "      <td>1900-01-01 10:44:11.721</td>\n",
       "      <td>0.022635</td>\n",
       "      <td>0.026311</td>\n",
       "      <td>0.174122</td>\n",
       "    </tr>\n",
       "    <tr>\n",
       "      <th>4</th>\n",
       "      <td>0.185986</td>\n",
       "      <td>0.267516</td>\n",
       "      <td>0.260563</td>\n",
       "      <td>0.210235</td>\n",
       "      <td>0.008942</td>\n",
       "      <td>0.431739</td>\n",
       "      <td>0</td>\n",
       "      <td>1900-01-01 10:44:11.036</td>\n",
       "      <td>0.022415</td>\n",
       "      <td>0.026327</td>\n",
       "      <td>0.177367</td>\n",
       "    </tr>\n",
       "    <tr>\n",
       "      <th>5</th>\n",
       "      <td>0.185674</td>\n",
       "      <td>0.267516</td>\n",
       "      <td>0.260563</td>\n",
       "      <td>0.210235</td>\n",
       "      <td>0.008942</td>\n",
       "      <td>0.429559</td>\n",
       "      <td>0</td>\n",
       "      <td>1900-01-01 10:44:12.231</td>\n",
       "      <td>0.022415</td>\n",
       "      <td>0.026323</td>\n",
       "      <td>0.176403</td>\n",
       "    </tr>\n",
       "  </tbody>\n",
       "</table>\n",
       "</div>"
      ],
      "text/plain": [
       "    Current  Humidity  Temperature      Flow  Job Temp   Voltage  Defect  \\\n",
       "1  0.185923  0.267516     0.260563  0.215076  0.009186  0.432404       0   \n",
       "2  0.182996  0.267516     0.260563  0.212310  0.009186  0.432663       0   \n",
       "3  0.179944  0.267516     0.260563  0.212310  0.008942  0.434178       0   \n",
       "4  0.185986  0.267516     0.260563  0.210235  0.008942  0.431739       0   \n",
       "5  0.185674  0.267516     0.260563  0.210235  0.008942  0.429559       0   \n",
       "\n",
       "                  timeNEW  porosityF  HeatInput     power  \n",
       "1 1900-01-01 10:44:10.921   0.022990   0.026318  0.177555  \n",
       "2 1900-01-01 10:44:10.036   0.022695   0.026316  0.175672  \n",
       "3 1900-01-01 10:44:11.721   0.022635   0.026311  0.174122  \n",
       "4 1900-01-01 10:44:11.036   0.022415   0.026327  0.177367  \n",
       "5 1900-01-01 10:44:12.231   0.022415   0.026323  0.176403  "
      ]
     },
     "execution_count": 58,
     "metadata": {},
     "output_type": "execute_result"
    }
   ],
   "source": [
    "train22.head()"
   ]
  },
  {
   "cell_type": "markdown",
   "id": "5b5620c5",
   "metadata": {},
   "source": [
    "## Checking how features relate to two defects"
   ]
  },
  {
   "cell_type": "code",
   "execution_count": 59,
   "id": "d49fa064",
   "metadata": {},
   "outputs": [],
   "source": [
    "trainy=train22[train22['Defect']==1]"
   ]
  },
  {
   "cell_type": "code",
   "execution_count": 60,
   "id": "6bd008b3",
   "metadata": {},
   "outputs": [],
   "source": [
    "trainn=train22[train22['Defect']==0]"
   ]
  },
  {
   "cell_type": "code",
   "execution_count": 61,
   "id": "da8fe3d1",
   "metadata": {},
   "outputs": [
    {
     "data": {
      "text/html": [
       "<div>\n",
       "<style scoped>\n",
       "    .dataframe tbody tr th:only-of-type {\n",
       "        vertical-align: middle;\n",
       "    }\n",
       "\n",
       "    .dataframe tbody tr th {\n",
       "        vertical-align: top;\n",
       "    }\n",
       "\n",
       "    .dataframe thead th {\n",
       "        text-align: right;\n",
       "    }\n",
       "</style>\n",
       "<table border=\"1\" class=\"dataframe\">\n",
       "  <thead>\n",
       "    <tr style=\"text-align: right;\">\n",
       "      <th></th>\n",
       "      <th>Current</th>\n",
       "      <th>Humidity</th>\n",
       "      <th>Temperature</th>\n",
       "      <th>Flow</th>\n",
       "      <th>Job Temp</th>\n",
       "      <th>Voltage</th>\n",
       "      <th>Defect</th>\n",
       "      <th>timeNEW</th>\n",
       "      <th>porosityF</th>\n",
       "      <th>HeatInput</th>\n",
       "      <th>power</th>\n",
       "    </tr>\n",
       "  </thead>\n",
       "  <tbody>\n",
       "    <tr>\n",
       "      <th>346</th>\n",
       "      <td>0.010526</td>\n",
       "      <td>0.267516</td>\n",
       "      <td>0.260563</td>\n",
       "      <td>0.222683</td>\n",
       "      <td>0.031220</td>\n",
       "      <td>0.095277</td>\n",
       "      <td>1</td>\n",
       "      <td>1900-01-01 10:47:12.779</td>\n",
       "      <td>0.029470</td>\n",
       "      <td>0.025906</td>\n",
       "      <td>0.060745</td>\n",
       "    </tr>\n",
       "    <tr>\n",
       "      <th>794</th>\n",
       "      <td>0.169293</td>\n",
       "      <td>0.232484</td>\n",
       "      <td>0.253521</td>\n",
       "      <td>0.304979</td>\n",
       "      <td>0.008637</td>\n",
       "      <td>0.414480</td>\n",
       "      <td>1</td>\n",
       "      <td>1900-01-01 16:46:31.803</td>\n",
       "      <td>0.028136</td>\n",
       "      <td>0.026155</td>\n",
       "      <td>0.160741</td>\n",
       "    </tr>\n",
       "    <tr>\n",
       "      <th>1925</th>\n",
       "      <td>0.013641</td>\n",
       "      <td>0.251592</td>\n",
       "      <td>0.246479</td>\n",
       "      <td>0.314661</td>\n",
       "      <td>0.008637</td>\n",
       "      <td>0.095277</td>\n",
       "      <td>1</td>\n",
       "      <td>1900-01-01 17:24:15.755</td>\n",
       "      <td>0.031413</td>\n",
       "      <td>0.025906</td>\n",
       "      <td>0.060745</td>\n",
       "    </tr>\n",
       "    <tr>\n",
       "      <th>2254</th>\n",
       "      <td>0.163127</td>\n",
       "      <td>0.251592</td>\n",
       "      <td>0.246479</td>\n",
       "      <td>0.302213</td>\n",
       "      <td>0.008271</td>\n",
       "      <td>0.451770</td>\n",
       "      <td>1</td>\n",
       "      <td>1900-01-01 17:27:12.906</td>\n",
       "      <td>0.030053</td>\n",
       "      <td>0.026176</td>\n",
       "      <td>0.168033</td>\n",
       "    </tr>\n",
       "    <tr>\n",
       "      <th>2255</th>\n",
       "      <td>0.165369</td>\n",
       "      <td>0.251592</td>\n",
       "      <td>0.246479</td>\n",
       "      <td>0.302213</td>\n",
       "      <td>0.008271</td>\n",
       "      <td>0.431444</td>\n",
       "      <td>1</td>\n",
       "      <td>1900-01-01 17:27:13.721</td>\n",
       "      <td>0.030053</td>\n",
       "      <td>0.026164</td>\n",
       "      <td>0.163421</td>\n",
       "    </tr>\n",
       "  </tbody>\n",
       "</table>\n",
       "</div>"
      ],
      "text/plain": [
       "       Current  Humidity  Temperature      Flow  Job Temp   Voltage  Defect  \\\n",
       "346   0.010526  0.267516     0.260563  0.222683  0.031220  0.095277       1   \n",
       "794   0.169293  0.232484     0.253521  0.304979  0.008637  0.414480       1   \n",
       "1925  0.013641  0.251592     0.246479  0.314661  0.008637  0.095277       1   \n",
       "2254  0.163127  0.251592     0.246479  0.302213  0.008271  0.451770       1   \n",
       "2255  0.165369  0.251592     0.246479  0.302213  0.008271  0.431444       1   \n",
       "\n",
       "                     timeNEW  porosityF  HeatInput     power  \n",
       "346  1900-01-01 10:47:12.779   0.029470   0.025906  0.060745  \n",
       "794  1900-01-01 16:46:31.803   0.028136   0.026155  0.160741  \n",
       "1925 1900-01-01 17:24:15.755   0.031413   0.025906  0.060745  \n",
       "2254 1900-01-01 17:27:12.906   0.030053   0.026176  0.168033  \n",
       "2255 1900-01-01 17:27:13.721   0.030053   0.026164  0.163421  "
      ]
     },
     "execution_count": 61,
     "metadata": {},
     "output_type": "execute_result"
    }
   ],
   "source": [
    "trainy.head()"
   ]
  },
  {
   "cell_type": "code",
   "execution_count": 62,
   "id": "5bda0b77",
   "metadata": {},
   "outputs": [
    {
     "data": {
      "text/html": [
       "<div>\n",
       "<style scoped>\n",
       "    .dataframe tbody tr th:only-of-type {\n",
       "        vertical-align: middle;\n",
       "    }\n",
       "\n",
       "    .dataframe tbody tr th {\n",
       "        vertical-align: top;\n",
       "    }\n",
       "\n",
       "    .dataframe thead th {\n",
       "        text-align: right;\n",
       "    }\n",
       "</style>\n",
       "<table border=\"1\" class=\"dataframe\">\n",
       "  <thead>\n",
       "    <tr style=\"text-align: right;\">\n",
       "      <th></th>\n",
       "      <th>Current</th>\n",
       "      <th>Humidity</th>\n",
       "      <th>Temperature</th>\n",
       "      <th>Flow</th>\n",
       "      <th>Job Temp</th>\n",
       "      <th>Voltage</th>\n",
       "      <th>Defect</th>\n",
       "      <th>timeNEW</th>\n",
       "      <th>porosityF</th>\n",
       "      <th>HeatInput</th>\n",
       "      <th>power</th>\n",
       "    </tr>\n",
       "  </thead>\n",
       "  <tbody>\n",
       "    <tr>\n",
       "      <th>1</th>\n",
       "      <td>0.185923</td>\n",
       "      <td>0.267516</td>\n",
       "      <td>0.260563</td>\n",
       "      <td>0.215076</td>\n",
       "      <td>0.009186</td>\n",
       "      <td>0.432404</td>\n",
       "      <td>0</td>\n",
       "      <td>1900-01-01 10:44:10.921</td>\n",
       "      <td>0.022990</td>\n",
       "      <td>0.026318</td>\n",
       "      <td>0.177555</td>\n",
       "    </tr>\n",
       "    <tr>\n",
       "      <th>2</th>\n",
       "      <td>0.182996</td>\n",
       "      <td>0.267516</td>\n",
       "      <td>0.260563</td>\n",
       "      <td>0.212310</td>\n",
       "      <td>0.009186</td>\n",
       "      <td>0.432663</td>\n",
       "      <td>0</td>\n",
       "      <td>1900-01-01 10:44:10.036</td>\n",
       "      <td>0.022695</td>\n",
       "      <td>0.026316</td>\n",
       "      <td>0.175672</td>\n",
       "    </tr>\n",
       "    <tr>\n",
       "      <th>3</th>\n",
       "      <td>0.179944</td>\n",
       "      <td>0.267516</td>\n",
       "      <td>0.260563</td>\n",
       "      <td>0.212310</td>\n",
       "      <td>0.008942</td>\n",
       "      <td>0.434178</td>\n",
       "      <td>0</td>\n",
       "      <td>1900-01-01 10:44:11.721</td>\n",
       "      <td>0.022635</td>\n",
       "      <td>0.026311</td>\n",
       "      <td>0.174122</td>\n",
       "    </tr>\n",
       "    <tr>\n",
       "      <th>4</th>\n",
       "      <td>0.185986</td>\n",
       "      <td>0.267516</td>\n",
       "      <td>0.260563</td>\n",
       "      <td>0.210235</td>\n",
       "      <td>0.008942</td>\n",
       "      <td>0.431739</td>\n",
       "      <td>0</td>\n",
       "      <td>1900-01-01 10:44:11.036</td>\n",
       "      <td>0.022415</td>\n",
       "      <td>0.026327</td>\n",
       "      <td>0.177367</td>\n",
       "    </tr>\n",
       "    <tr>\n",
       "      <th>5</th>\n",
       "      <td>0.185674</td>\n",
       "      <td>0.267516</td>\n",
       "      <td>0.260563</td>\n",
       "      <td>0.210235</td>\n",
       "      <td>0.008942</td>\n",
       "      <td>0.429559</td>\n",
       "      <td>0</td>\n",
       "      <td>1900-01-01 10:44:12.231</td>\n",
       "      <td>0.022415</td>\n",
       "      <td>0.026323</td>\n",
       "      <td>0.176403</td>\n",
       "    </tr>\n",
       "  </tbody>\n",
       "</table>\n",
       "</div>"
      ],
      "text/plain": [
       "    Current  Humidity  Temperature      Flow  Job Temp   Voltage  Defect  \\\n",
       "1  0.185923  0.267516     0.260563  0.215076  0.009186  0.432404       0   \n",
       "2  0.182996  0.267516     0.260563  0.212310  0.009186  0.432663       0   \n",
       "3  0.179944  0.267516     0.260563  0.212310  0.008942  0.434178       0   \n",
       "4  0.185986  0.267516     0.260563  0.210235  0.008942  0.431739       0   \n",
       "5  0.185674  0.267516     0.260563  0.210235  0.008942  0.429559       0   \n",
       "\n",
       "                  timeNEW  porosityF  HeatInput     power  \n",
       "1 1900-01-01 10:44:10.921   0.022990   0.026318  0.177555  \n",
       "2 1900-01-01 10:44:10.036   0.022695   0.026316  0.175672  \n",
       "3 1900-01-01 10:44:11.721   0.022635   0.026311  0.174122  \n",
       "4 1900-01-01 10:44:11.036   0.022415   0.026327  0.177367  \n",
       "5 1900-01-01 10:44:12.231   0.022415   0.026323  0.176403  "
      ]
     },
     "execution_count": 62,
     "metadata": {},
     "output_type": "execute_result"
    }
   ],
   "source": [
    "trainn.head()"
   ]
  },
  {
   "cell_type": "code",
   "execution_count": 63,
   "id": "bba316b6",
   "metadata": {
    "scrolled": true
   },
   "outputs": [
    {
     "data": {
      "text/plain": [
       "count    4154.000000\n",
       "mean        0.031994\n",
       "std         0.059114\n",
       "min         0.000000\n",
       "25%         0.006885\n",
       "50%         0.018370\n",
       "75%         0.025969\n",
       "max         0.400398\n",
       "Name: porosityF, dtype: float64"
      ]
     },
     "execution_count": 63,
     "metadata": {},
     "output_type": "execute_result"
    }
   ],
   "source": [
    "trainy['porosityF'].describe()"
   ]
  },
  {
   "cell_type": "code",
   "execution_count": 64,
   "id": "923cbfa7",
   "metadata": {},
   "outputs": [
    {
     "data": {
      "text/plain": [
       "count    566204.000000\n",
       "mean          0.026416\n",
       "std           0.050499\n",
       "min           0.000000\n",
       "25%           0.007956\n",
       "50%           0.018504\n",
       "75%           0.023506\n",
       "max           1.000000\n",
       "Name: porosityF, dtype: float64"
      ]
     },
     "execution_count": 64,
     "metadata": {},
     "output_type": "execute_result"
    }
   ],
   "source": [
    "trainn['porosityF'].describe()"
   ]
  },
  {
   "cell_type": "markdown",
   "id": "d7461681",
   "metadata": {},
   "source": [
    "## Exploratory Data Analysis"
   ]
  },
  {
   "cell_type": "code",
   "execution_count": 65,
   "id": "463400f0",
   "metadata": {},
   "outputs": [
    {
     "data": {
      "text/plain": [
       "<seaborn.axisgrid.FacetGrid at 0x2f7c7bf10>"
      ]
     },
     "execution_count": 65,
     "metadata": {},
     "output_type": "execute_result"
    },
    {
     "data": {
      "image/png": "[encoded data removed]",
      "text/plain": [
       "<Figure size 402.375x360 with 1 Axes>"
      ]
     },
     "metadata": {
      "needs_background": "light"
     },
     "output_type": "display_data"
    }
   ],
   "source": [
    "sns.relplot(data=train22, x=\"Current\", y=\"Voltage\", hue=\"Defect\")"
   ]
  },
  {
   "cell_type": "markdown",
   "id": "e8d607b9",
   "metadata": {},
   "source": [
    "## Conclusion\n",
    "The current and voltages neatly seperate the defective points in a seperate cluster. This information would prove to be crutial for the model."
   ]
  },
  {
   "cell_type": "markdown",
   "id": "65754145",
   "metadata": {},
   "source": [
    "## Calculating Time Differences and analysing them"
   ]
  },
  {
   "cell_type": "code",
   "execution_count": 66,
   "id": "b79f9c30",
   "metadata": {},
   "outputs": [],
   "source": [
    "train22=train22.dropna()"
   ]
  },
  {
   "cell_type": "code",
   "execution_count": 67,
   "id": "33821d83",
   "metadata": {},
   "outputs": [],
   "source": [
    "df=train22.copy()"
   ]
  },
  {
   "cell_type": "code",
   "execution_count": 68,
   "id": "c3a0b7ad",
   "metadata": {},
   "outputs": [],
   "source": [
    "df=df.sort_values(by='timeNEW')"
   ]
  },
  {
   "cell_type": "code",
   "execution_count": 69,
   "id": "2099d8f9",
   "metadata": {
    "scrolled": true
   },
   "outputs": [
    {
     "data": {
      "text/html": [
       "<div>\n",
       "<style scoped>\n",
       "    .dataframe tbody tr th:only-of-type {\n",
       "        vertical-align: middle;\n",
       "    }\n",
       "\n",
       "    .dataframe tbody tr th {\n",
       "        vertical-align: top;\n",
       "    }\n",
       "\n",
       "    .dataframe thead th {\n",
       "        text-align: right;\n",
       "    }\n",
       "</style>\n",
       "<table border=\"1\" class=\"dataframe\">\n",
       "  <thead>\n",
       "    <tr style=\"text-align: right;\">\n",
       "      <th></th>\n",
       "      <th>Current</th>\n",
       "      <th>Humidity</th>\n",
       "      <th>Temperature</th>\n",
       "      <th>Flow</th>\n",
       "      <th>Job Temp</th>\n",
       "      <th>Voltage</th>\n",
       "      <th>Defect</th>\n",
       "      <th>timeNEW</th>\n",
       "      <th>porosityF</th>\n",
       "      <th>HeatInput</th>\n",
       "      <th>power</th>\n",
       "    </tr>\n",
       "  </thead>\n",
       "  <tbody>\n",
       "    <tr>\n",
       "      <th>597256</th>\n",
       "      <td>0.044908</td>\n",
       "      <td>0.248408</td>\n",
       "      <td>0.260563</td>\n",
       "      <td>0.001383</td>\n",
       "      <td>0.008393</td>\n",
       "      <td>0.095277</td>\n",
       "      <td>0</td>\n",
       "      <td>1900-01-01 00:00:03.782</td>\n",
       "      <td>0.000204</td>\n",
       "      <td>0.025906</td>\n",
       "      <td>0.060745</td>\n",
       "    </tr>\n",
       "    <tr>\n",
       "      <th>597277</th>\n",
       "      <td>0.050950</td>\n",
       "      <td>0.248408</td>\n",
       "      <td>0.260563</td>\n",
       "      <td>0.003458</td>\n",
       "      <td>0.008362</td>\n",
       "      <td>0.095277</td>\n",
       "      <td>0</td>\n",
       "      <td>1900-01-01 00:00:04.039</td>\n",
       "      <td>0.000407</td>\n",
       "      <td>0.025906</td>\n",
       "      <td>0.060745</td>\n",
       "    </tr>\n",
       "    <tr>\n",
       "      <th>597296</th>\n",
       "      <td>0.045531</td>\n",
       "      <td>0.248408</td>\n",
       "      <td>0.260563</td>\n",
       "      <td>0.002075</td>\n",
       "      <td>0.008484</td>\n",
       "      <td>0.095277</td>\n",
       "      <td>0</td>\n",
       "      <td>1900-01-01 00:00:05.994</td>\n",
       "      <td>0.000272</td>\n",
       "      <td>0.025906</td>\n",
       "      <td>0.060745</td>\n",
       "    </tr>\n",
       "    <tr>\n",
       "      <th>597317</th>\n",
       "      <td>0.031268</td>\n",
       "      <td>0.248408</td>\n",
       "      <td>0.260563</td>\n",
       "      <td>0.001383</td>\n",
       "      <td>0.008393</td>\n",
       "      <td>0.095277</td>\n",
       "      <td>0</td>\n",
       "      <td>1900-01-01 00:00:07.537</td>\n",
       "      <td>0.000204</td>\n",
       "      <td>0.025906</td>\n",
       "      <td>0.060745</td>\n",
       "    </tr>\n",
       "    <tr>\n",
       "      <th>597220</th>\n",
       "      <td>0.043600</td>\n",
       "      <td>0.248408</td>\n",
       "      <td>0.260563</td>\n",
       "      <td>0.003458</td>\n",
       "      <td>0.008454</td>\n",
       "      <td>0.095277</td>\n",
       "      <td>0</td>\n",
       "      <td>1900-01-01 00:00:10.046</td>\n",
       "      <td>0.000407</td>\n",
       "      <td>0.025906</td>\n",
       "      <td>0.060745</td>\n",
       "    </tr>\n",
       "  </tbody>\n",
       "</table>\n",
       "</div>"
      ],
      "text/plain": [
       "         Current  Humidity  Temperature      Flow  Job Temp   Voltage  Defect  \\\n",
       "597256  0.044908  0.248408     0.260563  0.001383  0.008393  0.095277       0   \n",
       "597277  0.050950  0.248408     0.260563  0.003458  0.008362  0.095277       0   \n",
       "597296  0.045531  0.248408     0.260563  0.002075  0.008484  0.095277       0   \n",
       "597317  0.031268  0.248408     0.260563  0.001383  0.008393  0.095277       0   \n",
       "597220  0.043600  0.248408     0.260563  0.003458  0.008454  0.095277       0   \n",
       "\n",
       "                       timeNEW  porosityF  HeatInput     power  \n",
       "597256 1900-01-01 00:00:03.782   0.000204   0.025906  0.060745  \n",
       "597277 1900-01-01 00:00:04.039   0.000407   0.025906  0.060745  \n",
       "597296 1900-01-01 00:00:05.994   0.000272   0.025906  0.060745  \n",
       "597317 1900-01-01 00:00:07.537   0.000204   0.025906  0.060745  \n",
       "597220 1900-01-01 00:00:10.046   0.000407   0.025906  0.060745  "
      ]
     },
     "execution_count": 69,
     "metadata": {},
     "output_type": "execute_result"
    }
   ],
   "source": [
    "df.head()"
   ]
  },
  {
   "cell_type": "code",
   "execution_count": 70,
   "id": "76c93596",
   "metadata": {},
   "outputs": [],
   "source": [
    "train22=df.copy()"
   ]
  },
  {
   "cell_type": "code",
   "execution_count": 71,
   "id": "065c4420",
   "metadata": {},
   "outputs": [
    {
     "data": {
      "text/html": [
       "<div>\n",
       "<style scoped>\n",
       "    .dataframe tbody tr th:only-of-type {\n",
       "        vertical-align: middle;\n",
       "    }\n",
       "\n",
       "    .dataframe tbody tr th {\n",
       "        vertical-align: top;\n",
       "    }\n",
       "\n",
       "    .dataframe thead th {\n",
       "        text-align: right;\n",
       "    }\n",
       "</style>\n",
       "<table border=\"1\" class=\"dataframe\">\n",
       "  <thead>\n",
       "    <tr style=\"text-align: right;\">\n",
       "      <th></th>\n",
       "      <th>Current</th>\n",
       "      <th>Humidity</th>\n",
       "      <th>Temperature</th>\n",
       "      <th>Flow</th>\n",
       "      <th>Job Temp</th>\n",
       "      <th>Voltage</th>\n",
       "      <th>Defect</th>\n",
       "      <th>timeNEW</th>\n",
       "      <th>porosityF</th>\n",
       "      <th>HeatInput</th>\n",
       "      <th>power</th>\n",
       "    </tr>\n",
       "  </thead>\n",
       "  <tbody>\n",
       "    <tr>\n",
       "      <th>597256</th>\n",
       "      <td>0.044908</td>\n",
       "      <td>0.248408</td>\n",
       "      <td>0.260563</td>\n",
       "      <td>0.001383</td>\n",
       "      <td>0.008393</td>\n",
       "      <td>0.095277</td>\n",
       "      <td>0</td>\n",
       "      <td>1900-01-01 00:00:03.782</td>\n",
       "      <td>0.000204</td>\n",
       "      <td>0.025906</td>\n",
       "      <td>0.060745</td>\n",
       "    </tr>\n",
       "    <tr>\n",
       "      <th>597277</th>\n",
       "      <td>0.050950</td>\n",
       "      <td>0.248408</td>\n",
       "      <td>0.260563</td>\n",
       "      <td>0.003458</td>\n",
       "      <td>0.008362</td>\n",
       "      <td>0.095277</td>\n",
       "      <td>0</td>\n",
       "      <td>1900-01-01 00:00:04.039</td>\n",
       "      <td>0.000407</td>\n",
       "      <td>0.025906</td>\n",
       "      <td>0.060745</td>\n",
       "    </tr>\n",
       "    <tr>\n",
       "      <th>597296</th>\n",
       "      <td>0.045531</td>\n",
       "      <td>0.248408</td>\n",
       "      <td>0.260563</td>\n",
       "      <td>0.002075</td>\n",
       "      <td>0.008484</td>\n",
       "      <td>0.095277</td>\n",
       "      <td>0</td>\n",
       "      <td>1900-01-01 00:00:05.994</td>\n",
       "      <td>0.000272</td>\n",
       "      <td>0.025906</td>\n",
       "      <td>0.060745</td>\n",
       "    </tr>\n",
       "    <tr>\n",
       "      <th>597317</th>\n",
       "      <td>0.031268</td>\n",
       "      <td>0.248408</td>\n",
       "      <td>0.260563</td>\n",
       "      <td>0.001383</td>\n",
       "      <td>0.008393</td>\n",
       "      <td>0.095277</td>\n",
       "      <td>0</td>\n",
       "      <td>1900-01-01 00:00:07.537</td>\n",
       "      <td>0.000204</td>\n",
       "      <td>0.025906</td>\n",
       "      <td>0.060745</td>\n",
       "    </tr>\n",
       "    <tr>\n",
       "      <th>597220</th>\n",
       "      <td>0.043600</td>\n",
       "      <td>0.248408</td>\n",
       "      <td>0.260563</td>\n",
       "      <td>0.003458</td>\n",
       "      <td>0.008454</td>\n",
       "      <td>0.095277</td>\n",
       "      <td>0</td>\n",
       "      <td>1900-01-01 00:00:10.046</td>\n",
       "      <td>0.000407</td>\n",
       "      <td>0.025906</td>\n",
       "      <td>0.060745</td>\n",
       "    </tr>\n",
       "  </tbody>\n",
       "</table>\n",
       "</div>"
      ],
      "text/plain": [
       "         Current  Humidity  Temperature      Flow  Job Temp   Voltage  Defect  \\\n",
       "597256  0.044908  0.248408     0.260563  0.001383  0.008393  0.095277       0   \n",
       "597277  0.050950  0.248408     0.260563  0.003458  0.008362  0.095277       0   \n",
       "597296  0.045531  0.248408     0.260563  0.002075  0.008484  0.095277       0   \n",
       "597317  0.031268  0.248408     0.260563  0.001383  0.008393  0.095277       0   \n",
       "597220  0.043600  0.248408     0.260563  0.003458  0.008454  0.095277       0   \n",
       "\n",
       "                       timeNEW  porosityF  HeatInput     power  \n",
       "597256 1900-01-01 00:00:03.782   0.000204   0.025906  0.060745  \n",
       "597277 1900-01-01 00:00:04.039   0.000407   0.025906  0.060745  \n",
       "597296 1900-01-01 00:00:05.994   0.000272   0.025906  0.060745  \n",
       "597317 1900-01-01 00:00:07.537   0.000204   0.025906  0.060745  \n",
       "597220 1900-01-01 00:00:10.046   0.000407   0.025906  0.060745  "
      ]
     },
     "execution_count": 71,
     "metadata": {},
     "output_type": "execute_result"
    }
   ],
   "source": [
    "train22.head()"
   ]
  },
  {
   "cell_type": "code",
   "execution_count": 72,
   "id": "7b5d86c1",
   "metadata": {},
   "outputs": [],
   "source": [
    "train22['diff'] = train22['timeNEW'] - train22['timeNEW'].shift(1)"
   ]
  },
  {
   "cell_type": "code",
   "execution_count": 73,
   "id": "3b367762",
   "metadata": {},
   "outputs": [
    {
     "data": {
      "text/plain": [
       "597256                      NaT\n",
       "597277   0 days 00:00:00.257000\n",
       "597296   0 days 00:00:01.955000\n",
       "597317   0 days 00:00:01.543000\n",
       "597220   0 days 00:00:02.509000\n",
       "                  ...          \n",
       "596916   0 days 00:00:00.816000\n",
       "596923   0 days 00:00:03.293000\n",
       "596934   0 days 00:00:06.306000\n",
       "596948   0 days 00:00:06.407000\n",
       "596949   0 days 00:00:00.105000\n",
       "Name: diff, Length: 570358, dtype: timedelta64[ns]"
      ]
     },
     "execution_count": 73,
     "metadata": {},
     "output_type": "execute_result"
    }
   ],
   "source": [
    "train22['diff']"
   ]
  },
  {
   "cell_type": "code",
   "execution_count": 74,
   "id": "2c6859ed",
   "metadata": {},
   "outputs": [],
   "source": [
    "train22['diff'].dropna(inplace=True)"
   ]
  },
  {
   "cell_type": "code",
   "execution_count": 75,
   "id": "03d5741c",
   "metadata": {},
   "outputs": [
    {
     "name": "stdout",
     "output_type": "stream",
     "text": [
      "<class 'pandas.core.frame.DataFrame'>\n",
      "Int64Index: 570358 entries, 597256 to 596949\n",
      "Data columns (total 12 columns):\n",
      " #   Column       Non-Null Count   Dtype          \n",
      "---  ------       --------------   -----          \n",
      " 0   Current      570358 non-null  float64        \n",
      " 1   Humidity     570358 non-null  float64        \n",
      " 2   Temperature  570358 non-null  float64        \n",
      " 3   Flow         570358 non-null  float64        \n",
      " 4   Job Temp     570358 non-null  float64        \n",
      " 5   Voltage      570358 non-null  float64        \n",
      " 6   Defect       570358 non-null  int64          \n",
      " 7   timeNEW      570358 non-null  datetime64[ns] \n",
      " 8   porosityF    570358 non-null  float64        \n",
      " 9   HeatInput    570358 non-null  float64        \n",
      " 10  power        570358 non-null  float64        \n",
      " 11  diff         570357 non-null  timedelta64[ns]\n",
      "dtypes: datetime64[ns](1), float64(9), int64(1), timedelta64[ns](1)\n",
      "memory usage: 56.6 MB\n"
     ]
    }
   ],
   "source": [
    "train22.info()"
   ]
  },
  {
   "cell_type": "code",
   "execution_count": 76,
   "id": "795c233b",
   "metadata": {},
   "outputs": [
    {
     "data": {
      "text/html": [
       "<div>\n",
       "<style scoped>\n",
       "    .dataframe tbody tr th:only-of-type {\n",
       "        vertical-align: middle;\n",
       "    }\n",
       "\n",
       "    .dataframe tbody tr th {\n",
       "        vertical-align: top;\n",
       "    }\n",
       "\n",
       "    .dataframe thead th {\n",
       "        text-align: right;\n",
       "    }\n",
       "</style>\n",
       "<table border=\"1\" class=\"dataframe\">\n",
       "  <thead>\n",
       "    <tr style=\"text-align: right;\">\n",
       "      <th></th>\n",
       "      <th>Current</th>\n",
       "      <th>Humidity</th>\n",
       "      <th>Temperature</th>\n",
       "      <th>Flow</th>\n",
       "      <th>Job Temp</th>\n",
       "      <th>Voltage</th>\n",
       "      <th>Defect</th>\n",
       "      <th>timeNEW</th>\n",
       "      <th>porosityF</th>\n",
       "      <th>HeatInput</th>\n",
       "      <th>power</th>\n",
       "      <th>diff</th>\n",
       "    </tr>\n",
       "  </thead>\n",
       "  <tbody>\n",
       "    <tr>\n",
       "      <th>597256</th>\n",
       "      <td>0.044908</td>\n",
       "      <td>0.248408</td>\n",
       "      <td>0.260563</td>\n",
       "      <td>0.001383</td>\n",
       "      <td>0.008393</td>\n",
       "      <td>0.095277</td>\n",
       "      <td>0</td>\n",
       "      <td>1900-01-01 00:00:03.782</td>\n",
       "      <td>0.000204</td>\n",
       "      <td>0.025906</td>\n",
       "      <td>0.060745</td>\n",
       "      <td>NaT</td>\n",
       "    </tr>\n",
       "    <tr>\n",
       "      <th>597277</th>\n",
       "      <td>0.050950</td>\n",
       "      <td>0.248408</td>\n",
       "      <td>0.260563</td>\n",
       "      <td>0.003458</td>\n",
       "      <td>0.008362</td>\n",
       "      <td>0.095277</td>\n",
       "      <td>0</td>\n",
       "      <td>1900-01-01 00:00:04.039</td>\n",
       "      <td>0.000407</td>\n",
       "      <td>0.025906</td>\n",
       "      <td>0.060745</td>\n",
       "      <td>0 days 00:00:00.257000</td>\n",
       "    </tr>\n",
       "    <tr>\n",
       "      <th>597296</th>\n",
       "      <td>0.045531</td>\n",
       "      <td>0.248408</td>\n",
       "      <td>0.260563</td>\n",
       "      <td>0.002075</td>\n",
       "      <td>0.008484</td>\n",
       "      <td>0.095277</td>\n",
       "      <td>0</td>\n",
       "      <td>1900-01-01 00:00:05.994</td>\n",
       "      <td>0.000272</td>\n",
       "      <td>0.025906</td>\n",
       "      <td>0.060745</td>\n",
       "      <td>0 days 00:00:01.955000</td>\n",
       "    </tr>\n",
       "    <tr>\n",
       "      <th>597317</th>\n",
       "      <td>0.031268</td>\n",
       "      <td>0.248408</td>\n",
       "      <td>0.260563</td>\n",
       "      <td>0.001383</td>\n",
       "      <td>0.008393</td>\n",
       "      <td>0.095277</td>\n",
       "      <td>0</td>\n",
       "      <td>1900-01-01 00:00:07.537</td>\n",
       "      <td>0.000204</td>\n",
       "      <td>0.025906</td>\n",
       "      <td>0.060745</td>\n",
       "      <td>0 days 00:00:01.543000</td>\n",
       "    </tr>\n",
       "    <tr>\n",
       "      <th>597220</th>\n",
       "      <td>0.043600</td>\n",
       "      <td>0.248408</td>\n",
       "      <td>0.260563</td>\n",
       "      <td>0.003458</td>\n",
       "      <td>0.008454</td>\n",
       "      <td>0.095277</td>\n",
       "      <td>0</td>\n",
       "      <td>1900-01-01 00:00:10.046</td>\n",
       "      <td>0.000407</td>\n",
       "      <td>0.025906</td>\n",
       "      <td>0.060745</td>\n",
       "      <td>0 days 00:00:02.509000</td>\n",
       "    </tr>\n",
       "  </tbody>\n",
       "</table>\n",
       "</div>"
      ],
      "text/plain": [
       "         Current  Humidity  Temperature      Flow  Job Temp   Voltage  Defect  \\\n",
       "597256  0.044908  0.248408     0.260563  0.001383  0.008393  0.095277       0   \n",
       "597277  0.050950  0.248408     0.260563  0.003458  0.008362  0.095277       0   \n",
       "597296  0.045531  0.248408     0.260563  0.002075  0.008484  0.095277       0   \n",
       "597317  0.031268  0.248408     0.260563  0.001383  0.008393  0.095277       0   \n",
       "597220  0.043600  0.248408     0.260563  0.003458  0.008454  0.095277       0   \n",
       "\n",
       "                       timeNEW  porosityF  HeatInput     power  \\\n",
       "597256 1900-01-01 00:00:03.782   0.000204   0.025906  0.060745   \n",
       "597277 1900-01-01 00:00:04.039   0.000407   0.025906  0.060745   \n",
       "597296 1900-01-01 00:00:05.994   0.000272   0.025906  0.060745   \n",
       "597317 1900-01-01 00:00:07.537   0.000204   0.025906  0.060745   \n",
       "597220 1900-01-01 00:00:10.046   0.000407   0.025906  0.060745   \n",
       "\n",
       "                         diff  \n",
       "597256                    NaT  \n",
       "597277 0 days 00:00:00.257000  \n",
       "597296 0 days 00:00:01.955000  \n",
       "597317 0 days 00:00:01.543000  \n",
       "597220 0 days 00:00:02.509000  "
      ]
     },
     "execution_count": 76,
     "metadata": {},
     "output_type": "execute_result"
    }
   ],
   "source": [
    "train22.head()"
   ]
  },
  {
   "cell_type": "code",
   "execution_count": 77,
   "id": "c33396c2",
   "metadata": {},
   "outputs": [
    {
     "data": {
      "text/html": [
       "<div>\n",
       "<style scoped>\n",
       "    .dataframe tbody tr th:only-of-type {\n",
       "        vertical-align: middle;\n",
       "    }\n",
       "\n",
       "    .dataframe tbody tr th {\n",
       "        vertical-align: top;\n",
       "    }\n",
       "\n",
       "    .dataframe thead th {\n",
       "        text-align: right;\n",
       "    }\n",
       "</style>\n",
       "<table border=\"1\" class=\"dataframe\">\n",
       "  <thead>\n",
       "    <tr style=\"text-align: right;\">\n",
       "      <th></th>\n",
       "      <th>Current</th>\n",
       "      <th>Humidity</th>\n",
       "      <th>Temperature</th>\n",
       "      <th>Flow</th>\n",
       "      <th>Job Temp</th>\n",
       "      <th>Voltage</th>\n",
       "      <th>Defect</th>\n",
       "      <th>timeNEW</th>\n",
       "      <th>porosityF</th>\n",
       "      <th>HeatInput</th>\n",
       "      <th>power</th>\n",
       "      <th>diff</th>\n",
       "    </tr>\n",
       "  </thead>\n",
       "  <tbody>\n",
       "    <tr>\n",
       "      <th>597256</th>\n",
       "      <td>0.044908</td>\n",
       "      <td>0.248408</td>\n",
       "      <td>0.260563</td>\n",
       "      <td>0.001383</td>\n",
       "      <td>0.008393</td>\n",
       "      <td>0.095277</td>\n",
       "      <td>0</td>\n",
       "      <td>1900-01-01 00:00:03.782</td>\n",
       "      <td>0.000204</td>\n",
       "      <td>0.025906</td>\n",
       "      <td>0.060745</td>\n",
       "      <td>NaT</td>\n",
       "    </tr>\n",
       "    <tr>\n",
       "      <th>597277</th>\n",
       "      <td>0.050950</td>\n",
       "      <td>0.248408</td>\n",
       "      <td>0.260563</td>\n",
       "      <td>0.003458</td>\n",
       "      <td>0.008362</td>\n",
       "      <td>0.095277</td>\n",
       "      <td>0</td>\n",
       "      <td>1900-01-01 00:00:04.039</td>\n",
       "      <td>0.000407</td>\n",
       "      <td>0.025906</td>\n",
       "      <td>0.060745</td>\n",
       "      <td>0 days 00:00:00.257000</td>\n",
       "    </tr>\n",
       "    <tr>\n",
       "      <th>597296</th>\n",
       "      <td>0.045531</td>\n",
       "      <td>0.248408</td>\n",
       "      <td>0.260563</td>\n",
       "      <td>0.002075</td>\n",
       "      <td>0.008484</td>\n",
       "      <td>0.095277</td>\n",
       "      <td>0</td>\n",
       "      <td>1900-01-01 00:00:05.994</td>\n",
       "      <td>0.000272</td>\n",
       "      <td>0.025906</td>\n",
       "      <td>0.060745</td>\n",
       "      <td>0 days 00:00:01.955000</td>\n",
       "    </tr>\n",
       "    <tr>\n",
       "      <th>597317</th>\n",
       "      <td>0.031268</td>\n",
       "      <td>0.248408</td>\n",
       "      <td>0.260563</td>\n",
       "      <td>0.001383</td>\n",
       "      <td>0.008393</td>\n",
       "      <td>0.095277</td>\n",
       "      <td>0</td>\n",
       "      <td>1900-01-01 00:00:07.537</td>\n",
       "      <td>0.000204</td>\n",
       "      <td>0.025906</td>\n",
       "      <td>0.060745</td>\n",
       "      <td>0 days 00:00:01.543000</td>\n",
       "    </tr>\n",
       "    <tr>\n",
       "      <th>597220</th>\n",
       "      <td>0.043600</td>\n",
       "      <td>0.248408</td>\n",
       "      <td>0.260563</td>\n",
       "      <td>0.003458</td>\n",
       "      <td>0.008454</td>\n",
       "      <td>0.095277</td>\n",
       "      <td>0</td>\n",
       "      <td>1900-01-01 00:00:10.046</td>\n",
       "      <td>0.000407</td>\n",
       "      <td>0.025906</td>\n",
       "      <td>0.060745</td>\n",
       "      <td>0 days 00:00:02.509000</td>\n",
       "    </tr>\n",
       "    <tr>\n",
       "      <th>...</th>\n",
       "      <td>...</td>\n",
       "      <td>...</td>\n",
       "      <td>...</td>\n",
       "      <td>...</td>\n",
       "      <td>...</td>\n",
       "      <td>...</td>\n",
       "      <td>...</td>\n",
       "      <td>...</td>\n",
       "      <td>...</td>\n",
       "      <td>...</td>\n",
       "      <td>...</td>\n",
       "      <td>...</td>\n",
       "    </tr>\n",
       "    <tr>\n",
       "      <th>596916</th>\n",
       "      <td>0.031143</td>\n",
       "      <td>0.248408</td>\n",
       "      <td>0.260563</td>\n",
       "      <td>0.001383</td>\n",
       "      <td>0.008454</td>\n",
       "      <td>0.095277</td>\n",
       "      <td>0</td>\n",
       "      <td>1900-01-01 23:59:17.077</td>\n",
       "      <td>0.000204</td>\n",
       "      <td>0.025906</td>\n",
       "      <td>0.060745</td>\n",
       "      <td>0 days 00:00:00.816000</td>\n",
       "    </tr>\n",
       "    <tr>\n",
       "      <th>596923</th>\n",
       "      <td>0.043912</td>\n",
       "      <td>0.248408</td>\n",
       "      <td>0.260563</td>\n",
       "      <td>0.003458</td>\n",
       "      <td>0.008454</td>\n",
       "      <td>0.095277</td>\n",
       "      <td>0</td>\n",
       "      <td>1900-01-01 23:59:20.370</td>\n",
       "      <td>0.000407</td>\n",
       "      <td>0.025906</td>\n",
       "      <td>0.060745</td>\n",
       "      <td>0 days 00:00:03.293000</td>\n",
       "    </tr>\n",
       "    <tr>\n",
       "      <th>596934</th>\n",
       "      <td>0.044597</td>\n",
       "      <td>0.248408</td>\n",
       "      <td>0.260563</td>\n",
       "      <td>0.003458</td>\n",
       "      <td>0.008423</td>\n",
       "      <td>0.095277</td>\n",
       "      <td>0</td>\n",
       "      <td>1900-01-01 23:59:26.676</td>\n",
       "      <td>0.000407</td>\n",
       "      <td>0.025906</td>\n",
       "      <td>0.060745</td>\n",
       "      <td>0 days 00:00:06.306000</td>\n",
       "    </tr>\n",
       "    <tr>\n",
       "      <th>596948</th>\n",
       "      <td>0.041732</td>\n",
       "      <td>0.248408</td>\n",
       "      <td>0.260563</td>\n",
       "      <td>0.000000</td>\n",
       "      <td>0.008576</td>\n",
       "      <td>0.095277</td>\n",
       "      <td>0</td>\n",
       "      <td>1900-01-01 23:59:33.083</td>\n",
       "      <td>0.000068</td>\n",
       "      <td>0.025906</td>\n",
       "      <td>0.060745</td>\n",
       "      <td>0 days 00:00:06.407000</td>\n",
       "    </tr>\n",
       "    <tr>\n",
       "      <th>596949</th>\n",
       "      <td>0.042604</td>\n",
       "      <td>0.248408</td>\n",
       "      <td>0.260563</td>\n",
       "      <td>0.001383</td>\n",
       "      <td>0.008576</td>\n",
       "      <td>0.095277</td>\n",
       "      <td>0</td>\n",
       "      <td>1900-01-01 23:59:33.188</td>\n",
       "      <td>0.000204</td>\n",
       "      <td>0.025906</td>\n",
       "      <td>0.060745</td>\n",
       "      <td>0 days 00:00:00.105000</td>\n",
       "    </tr>\n",
       "  </tbody>\n",
       "</table>\n",
       "<p>570357 rows × 12 columns</p>\n",
       "</div>"
      ],
      "text/plain": [
       "         Current  Humidity  Temperature      Flow  Job Temp   Voltage  Defect  \\\n",
       "597256  0.044908  0.248408     0.260563  0.001383  0.008393  0.095277       0   \n",
       "597277  0.050950  0.248408     0.260563  0.003458  0.008362  0.095277       0   \n",
       "597296  0.045531  0.248408     0.260563  0.002075  0.008484  0.095277       0   \n",
       "597317  0.031268  0.248408     0.260563  0.001383  0.008393  0.095277       0   \n",
       "597220  0.043600  0.248408     0.260563  0.003458  0.008454  0.095277       0   \n",
       "...          ...       ...          ...       ...       ...       ...     ...   \n",
       "596916  0.031143  0.248408     0.260563  0.001383  0.008454  0.095277       0   \n",
       "596923  0.043912  0.248408     0.260563  0.003458  0.008454  0.095277       0   \n",
       "596934  0.044597  0.248408     0.260563  0.003458  0.008423  0.095277       0   \n",
       "596948  0.041732  0.248408     0.260563  0.000000  0.008576  0.095277       0   \n",
       "596949  0.042604  0.248408     0.260563  0.001383  0.008576  0.095277       0   \n",
       "\n",
       "                       timeNEW  porosityF  HeatInput     power  \\\n",
       "597256 1900-01-01 00:00:03.782   0.000204   0.025906  0.060745   \n",
       "597277 1900-01-01 00:00:04.039   0.000407   0.025906  0.060745   \n",
       "597296 1900-01-01 00:00:05.994   0.000272   0.025906  0.060745   \n",
       "597317 1900-01-01 00:00:07.537   0.000204   0.025906  0.060745   \n",
       "597220 1900-01-01 00:00:10.046   0.000407   0.025906  0.060745   \n",
       "...                        ...        ...        ...       ...   \n",
       "596916 1900-01-01 23:59:17.077   0.000204   0.025906  0.060745   \n",
       "596923 1900-01-01 23:59:20.370   0.000407   0.025906  0.060745   \n",
       "596934 1900-01-01 23:59:26.676   0.000407   0.025906  0.060745   \n",
       "596948 1900-01-01 23:59:33.083   0.000068   0.025906  0.060745   \n",
       "596949 1900-01-01 23:59:33.188   0.000204   0.025906  0.060745   \n",
       "\n",
       "                         diff  \n",
       "597256                    NaT  \n",
       "597277 0 days 00:00:00.257000  \n",
       "597296 0 days 00:00:01.955000  \n",
       "597317 0 days 00:00:01.543000  \n",
       "597220 0 days 00:00:02.509000  \n",
       "...                       ...  \n",
       "596916 0 days 00:00:00.816000  \n",
       "596923 0 days 00:00:03.293000  \n",
       "596934 0 days 00:00:06.306000  \n",
       "596948 0 days 00:00:06.407000  \n",
       "596949 0 days 00:00:00.105000  \n",
       "\n",
       "[570357 rows x 12 columns]"
      ]
     },
     "execution_count": 77,
     "metadata": {},
     "output_type": "execute_result"
    }
   ],
   "source": [
    "# Dropping unnecessary value\n",
    "train22.drop([491453])"
   ]
  },
  {
   "cell_type": "code",
   "execution_count": 78,
   "id": "41504f39",
   "metadata": {},
   "outputs": [],
   "source": [
    "# Data type conversion\n",
    "train22['diffFloat']=train22[('diff')].values.astype(\"float64\")"
   ]
  },
  {
   "cell_type": "markdown",
   "id": "688bf7e4",
   "metadata": {},
   "source": [
    "### Feature Creation\n",
    "Technically defined as the speed with which the welder performs the welds, here information about the length of each weld was not given so it was assumed that each weld length is the same.\n",
    "So here speed was just calculated as inverse of time difference."
   ]
  },
  {
   "cell_type": "code",
   "execution_count": 79,
   "id": "7a767103",
   "metadata": {
    "scrolled": true
   },
   "outputs": [],
   "source": [
    "train22['speed']=1e9/(train22['diffFloat'])"
   ]
  },
  {
   "cell_type": "code",
   "execution_count": 80,
   "id": "0916e41e",
   "metadata": {},
   "outputs": [],
   "source": [
    "# drop infinities\n",
    "with pd.option_context('mode.use_inf_as_na', True):train22.dropna(inplace=True)"
   ]
  },
  {
   "cell_type": "code",
   "execution_count": 81,
   "id": "6657e9f4",
   "metadata": {},
   "outputs": [],
   "source": [
    "train22.drop(['timeNEW'],axis=1,inplace=True)"
   ]
  },
  {
   "cell_type": "code",
   "execution_count": 82,
   "id": "eb81f47a",
   "metadata": {},
   "outputs": [],
   "source": [
    "train22.drop(['diff'],axis=1,inplace=True)"
   ]
  },
  {
   "cell_type": "code",
   "execution_count": 83,
   "id": "4b8fdbad",
   "metadata": {},
   "outputs": [
    {
     "data": {
      "text/plain": [
       "count    567136.000000\n",
       "mean         54.480500\n",
       "std         125.097087\n",
       "min           0.000424\n",
       "25%           8.264463\n",
       "50%          16.393443\n",
       "75%          41.666667\n",
       "max        1000.000000\n",
       "Name: speed, dtype: float64"
      ]
     },
     "execution_count": 83,
     "metadata": {},
     "output_type": "execute_result"
    }
   ],
   "source": [
    "train22['speed'].describe()"
   ]
  },
  {
   "cell_type": "code",
   "execution_count": 84,
   "id": "e047b1be",
   "metadata": {},
   "outputs": [
    {
     "data": {
      "text/html": [
       "<div>\n",
       "<style scoped>\n",
       "    .dataframe tbody tr th:only-of-type {\n",
       "        vertical-align: middle;\n",
       "    }\n",
       "\n",
       "    .dataframe tbody tr th {\n",
       "        vertical-align: top;\n",
       "    }\n",
       "\n",
       "    .dataframe thead th {\n",
       "        text-align: right;\n",
       "    }\n",
       "</style>\n",
       "<table border=\"1\" class=\"dataframe\">\n",
       "  <thead>\n",
       "    <tr style=\"text-align: right;\">\n",
       "      <th></th>\n",
       "      <th>Current</th>\n",
       "      <th>Humidity</th>\n",
       "      <th>Temperature</th>\n",
       "      <th>Flow</th>\n",
       "      <th>Job Temp</th>\n",
       "      <th>Voltage</th>\n",
       "      <th>Defect</th>\n",
       "      <th>porosityF</th>\n",
       "      <th>HeatInput</th>\n",
       "      <th>power</th>\n",
       "      <th>diffFloat</th>\n",
       "      <th>speed</th>\n",
       "    </tr>\n",
       "  </thead>\n",
       "  <tbody>\n",
       "    <tr>\n",
       "      <th>597277</th>\n",
       "      <td>0.050950</td>\n",
       "      <td>0.248408</td>\n",
       "      <td>0.260563</td>\n",
       "      <td>0.003458</td>\n",
       "      <td>0.008362</td>\n",
       "      <td>0.095277</td>\n",
       "      <td>0</td>\n",
       "      <td>0.000407</td>\n",
       "      <td>0.025906</td>\n",
       "      <td>0.060745</td>\n",
       "      <td>2.570000e+08</td>\n",
       "      <td>3.891051</td>\n",
       "    </tr>\n",
       "    <tr>\n",
       "      <th>597296</th>\n",
       "      <td>0.045531</td>\n",
       "      <td>0.248408</td>\n",
       "      <td>0.260563</td>\n",
       "      <td>0.002075</td>\n",
       "      <td>0.008484</td>\n",
       "      <td>0.095277</td>\n",
       "      <td>0</td>\n",
       "      <td>0.000272</td>\n",
       "      <td>0.025906</td>\n",
       "      <td>0.060745</td>\n",
       "      <td>1.955000e+09</td>\n",
       "      <td>0.511509</td>\n",
       "    </tr>\n",
       "    <tr>\n",
       "      <th>597317</th>\n",
       "      <td>0.031268</td>\n",
       "      <td>0.248408</td>\n",
       "      <td>0.260563</td>\n",
       "      <td>0.001383</td>\n",
       "      <td>0.008393</td>\n",
       "      <td>0.095277</td>\n",
       "      <td>0</td>\n",
       "      <td>0.000204</td>\n",
       "      <td>0.025906</td>\n",
       "      <td>0.060745</td>\n",
       "      <td>1.543000e+09</td>\n",
       "      <td>0.648088</td>\n",
       "    </tr>\n",
       "    <tr>\n",
       "      <th>597220</th>\n",
       "      <td>0.043600</td>\n",
       "      <td>0.248408</td>\n",
       "      <td>0.260563</td>\n",
       "      <td>0.003458</td>\n",
       "      <td>0.008454</td>\n",
       "      <td>0.095277</td>\n",
       "      <td>0</td>\n",
       "      <td>0.000407</td>\n",
       "      <td>0.025906</td>\n",
       "      <td>0.060745</td>\n",
       "      <td>2.509000e+09</td>\n",
       "      <td>0.398565</td>\n",
       "    </tr>\n",
       "    <tr>\n",
       "      <th>597219</th>\n",
       "      <td>0.036001</td>\n",
       "      <td>0.248408</td>\n",
       "      <td>0.260563</td>\n",
       "      <td>0.003458</td>\n",
       "      <td>0.008332</td>\n",
       "      <td>0.095277</td>\n",
       "      <td>0</td>\n",
       "      <td>0.000407</td>\n",
       "      <td>0.025906</td>\n",
       "      <td>0.060745</td>\n",
       "      <td>6.950000e+08</td>\n",
       "      <td>1.438849</td>\n",
       "    </tr>\n",
       "  </tbody>\n",
       "</table>\n",
       "</div>"
      ],
      "text/plain": [
       "         Current  Humidity  Temperature      Flow  Job Temp   Voltage  Defect  \\\n",
       "597277  0.050950  0.248408     0.260563  0.003458  0.008362  0.095277       0   \n",
       "597296  0.045531  0.248408     0.260563  0.002075  0.008484  0.095277       0   \n",
       "597317  0.031268  0.248408     0.260563  0.001383  0.008393  0.095277       0   \n",
       "597220  0.043600  0.248408     0.260563  0.003458  0.008454  0.095277       0   \n",
       "597219  0.036001  0.248408     0.260563  0.003458  0.008332  0.095277       0   \n",
       "\n",
       "        porosityF  HeatInput     power     diffFloat     speed  \n",
       "597277   0.000407   0.025906  0.060745  2.570000e+08  3.891051  \n",
       "597296   0.000272   0.025906  0.060745  1.955000e+09  0.511509  \n",
       "597317   0.000204   0.025906  0.060745  1.543000e+09  0.648088  \n",
       "597220   0.000407   0.025906  0.060745  2.509000e+09  0.398565  \n",
       "597219   0.000407   0.025906  0.060745  6.950000e+08  1.438849  "
      ]
     },
     "execution_count": 84,
     "metadata": {},
     "output_type": "execute_result"
    }
   ],
   "source": [
    "train22.head()"
   ]
  },
  {
   "cell_type": "code",
   "execution_count": 85,
   "id": "a262d91c",
   "metadata": {},
   "outputs": [],
   "source": [
    "train22.drop(['diffFloat'],axis=1,inplace=True)"
   ]
  },
  {
   "cell_type": "code",
   "execution_count": 86,
   "id": "e39dbfac",
   "metadata": {},
   "outputs": [],
   "source": [
    "train22[['speed']] = scaler.fit_transform(\n",
    "    train22[['speed']])"
   ]
  },
  {
   "cell_type": "code",
   "execution_count": 87,
   "id": "66b2cd33",
   "metadata": {},
   "outputs": [
    {
     "data": {
      "text/html": [
       "<div>\n",
       "<style scoped>\n",
       "    .dataframe tbody tr th:only-of-type {\n",
       "        vertical-align: middle;\n",
       "    }\n",
       "\n",
       "    .dataframe tbody tr th {\n",
       "        vertical-align: top;\n",
       "    }\n",
       "\n",
       "    .dataframe thead th {\n",
       "        text-align: right;\n",
       "    }\n",
       "</style>\n",
       "<table border=\"1\" class=\"dataframe\">\n",
       "  <thead>\n",
       "    <tr style=\"text-align: right;\">\n",
       "      <th></th>\n",
       "      <th>Current</th>\n",
       "      <th>Humidity</th>\n",
       "      <th>Temperature</th>\n",
       "      <th>Flow</th>\n",
       "      <th>Job Temp</th>\n",
       "      <th>Voltage</th>\n",
       "      <th>Defect</th>\n",
       "      <th>porosityF</th>\n",
       "      <th>HeatInput</th>\n",
       "      <th>power</th>\n",
       "      <th>speed</th>\n",
       "    </tr>\n",
       "  </thead>\n",
       "  <tbody>\n",
       "    <tr>\n",
       "      <th>597277</th>\n",
       "      <td>0.050950</td>\n",
       "      <td>0.248408</td>\n",
       "      <td>0.260563</td>\n",
       "      <td>0.003458</td>\n",
       "      <td>0.008362</td>\n",
       "      <td>0.095277</td>\n",
       "      <td>0</td>\n",
       "      <td>0.000407</td>\n",
       "      <td>0.025906</td>\n",
       "      <td>0.060745</td>\n",
       "      <td>0.003891</td>\n",
       "    </tr>\n",
       "    <tr>\n",
       "      <th>597296</th>\n",
       "      <td>0.045531</td>\n",
       "      <td>0.248408</td>\n",
       "      <td>0.260563</td>\n",
       "      <td>0.002075</td>\n",
       "      <td>0.008484</td>\n",
       "      <td>0.095277</td>\n",
       "      <td>0</td>\n",
       "      <td>0.000272</td>\n",
       "      <td>0.025906</td>\n",
       "      <td>0.060745</td>\n",
       "      <td>0.000511</td>\n",
       "    </tr>\n",
       "    <tr>\n",
       "      <th>597317</th>\n",
       "      <td>0.031268</td>\n",
       "      <td>0.248408</td>\n",
       "      <td>0.260563</td>\n",
       "      <td>0.001383</td>\n",
       "      <td>0.008393</td>\n",
       "      <td>0.095277</td>\n",
       "      <td>0</td>\n",
       "      <td>0.000204</td>\n",
       "      <td>0.025906</td>\n",
       "      <td>0.060745</td>\n",
       "      <td>0.000648</td>\n",
       "    </tr>\n",
       "    <tr>\n",
       "      <th>597220</th>\n",
       "      <td>0.043600</td>\n",
       "      <td>0.248408</td>\n",
       "      <td>0.260563</td>\n",
       "      <td>0.003458</td>\n",
       "      <td>0.008454</td>\n",
       "      <td>0.095277</td>\n",
       "      <td>0</td>\n",
       "      <td>0.000407</td>\n",
       "      <td>0.025906</td>\n",
       "      <td>0.060745</td>\n",
       "      <td>0.000398</td>\n",
       "    </tr>\n",
       "    <tr>\n",
       "      <th>597219</th>\n",
       "      <td>0.036001</td>\n",
       "      <td>0.248408</td>\n",
       "      <td>0.260563</td>\n",
       "      <td>0.003458</td>\n",
       "      <td>0.008332</td>\n",
       "      <td>0.095277</td>\n",
       "      <td>0</td>\n",
       "      <td>0.000407</td>\n",
       "      <td>0.025906</td>\n",
       "      <td>0.060745</td>\n",
       "      <td>0.001438</td>\n",
       "    </tr>\n",
       "  </tbody>\n",
       "</table>\n",
       "</div>"
      ],
      "text/plain": [
       "         Current  Humidity  Temperature      Flow  Job Temp   Voltage  Defect  \\\n",
       "597277  0.050950  0.248408     0.260563  0.003458  0.008362  0.095277       0   \n",
       "597296  0.045531  0.248408     0.260563  0.002075  0.008484  0.095277       0   \n",
       "597317  0.031268  0.248408     0.260563  0.001383  0.008393  0.095277       0   \n",
       "597220  0.043600  0.248408     0.260563  0.003458  0.008454  0.095277       0   \n",
       "597219  0.036001  0.248408     0.260563  0.003458  0.008332  0.095277       0   \n",
       "\n",
       "        porosityF  HeatInput     power     speed  \n",
       "597277   0.000407   0.025906  0.060745  0.003891  \n",
       "597296   0.000272   0.025906  0.060745  0.000511  \n",
       "597317   0.000204   0.025906  0.060745  0.000648  \n",
       "597220   0.000407   0.025906  0.060745  0.000398  \n",
       "597219   0.000407   0.025906  0.060745  0.001438  "
      ]
     },
     "execution_count": 87,
     "metadata": {},
     "output_type": "execute_result"
    }
   ],
   "source": [
    "train22.head()"
   ]
  },
  {
   "cell_type": "code",
   "execution_count": 88,
   "id": "97d61f0f",
   "metadata": {},
   "outputs": [
    {
     "data": {
      "text/html": [
       "<div>\n",
       "<style scoped>\n",
       "    .dataframe tbody tr th:only-of-type {\n",
       "        vertical-align: middle;\n",
       "    }\n",
       "\n",
       "    .dataframe tbody tr th {\n",
       "        vertical-align: top;\n",
       "    }\n",
       "\n",
       "    .dataframe thead th {\n",
       "        text-align: right;\n",
       "    }\n",
       "</style>\n",
       "<table border=\"1\" class=\"dataframe\">\n",
       "  <thead>\n",
       "    <tr style=\"text-align: right;\">\n",
       "      <th></th>\n",
       "      <th>Current</th>\n",
       "      <th>Humidity</th>\n",
       "      <th>Temperature</th>\n",
       "      <th>Flow</th>\n",
       "      <th>Job Temp</th>\n",
       "      <th>Voltage</th>\n",
       "      <th>Defect</th>\n",
       "      <th>porosityF</th>\n",
       "      <th>HeatInput</th>\n",
       "      <th>power</th>\n",
       "      <th>speed</th>\n",
       "    </tr>\n",
       "  </thead>\n",
       "  <tbody>\n",
       "    <tr>\n",
       "      <th>597277</th>\n",
       "      <td>0.050950</td>\n",
       "      <td>0.248408</td>\n",
       "      <td>0.260563</td>\n",
       "      <td>0.003458</td>\n",
       "      <td>0.008362</td>\n",
       "      <td>0.095277</td>\n",
       "      <td>0</td>\n",
       "      <td>0.000407</td>\n",
       "      <td>0.025906</td>\n",
       "      <td>0.060745</td>\n",
       "      <td>0.003891</td>\n",
       "    </tr>\n",
       "    <tr>\n",
       "      <th>597296</th>\n",
       "      <td>0.045531</td>\n",
       "      <td>0.248408</td>\n",
       "      <td>0.260563</td>\n",
       "      <td>0.002075</td>\n",
       "      <td>0.008484</td>\n",
       "      <td>0.095277</td>\n",
       "      <td>0</td>\n",
       "      <td>0.000272</td>\n",
       "      <td>0.025906</td>\n",
       "      <td>0.060745</td>\n",
       "      <td>0.000511</td>\n",
       "    </tr>\n",
       "    <tr>\n",
       "      <th>597317</th>\n",
       "      <td>0.031268</td>\n",
       "      <td>0.248408</td>\n",
       "      <td>0.260563</td>\n",
       "      <td>0.001383</td>\n",
       "      <td>0.008393</td>\n",
       "      <td>0.095277</td>\n",
       "      <td>0</td>\n",
       "      <td>0.000204</td>\n",
       "      <td>0.025906</td>\n",
       "      <td>0.060745</td>\n",
       "      <td>0.000648</td>\n",
       "    </tr>\n",
       "    <tr>\n",
       "      <th>597220</th>\n",
       "      <td>0.043600</td>\n",
       "      <td>0.248408</td>\n",
       "      <td>0.260563</td>\n",
       "      <td>0.003458</td>\n",
       "      <td>0.008454</td>\n",
       "      <td>0.095277</td>\n",
       "      <td>0</td>\n",
       "      <td>0.000407</td>\n",
       "      <td>0.025906</td>\n",
       "      <td>0.060745</td>\n",
       "      <td>0.000398</td>\n",
       "    </tr>\n",
       "    <tr>\n",
       "      <th>597219</th>\n",
       "      <td>0.036001</td>\n",
       "      <td>0.248408</td>\n",
       "      <td>0.260563</td>\n",
       "      <td>0.003458</td>\n",
       "      <td>0.008332</td>\n",
       "      <td>0.095277</td>\n",
       "      <td>0</td>\n",
       "      <td>0.000407</td>\n",
       "      <td>0.025906</td>\n",
       "      <td>0.060745</td>\n",
       "      <td>0.001438</td>\n",
       "    </tr>\n",
       "  </tbody>\n",
       "</table>\n",
       "</div>"
      ],
      "text/plain": [
       "         Current  Humidity  Temperature      Flow  Job Temp   Voltage  Defect  \\\n",
       "597277  0.050950  0.248408     0.260563  0.003458  0.008362  0.095277       0   \n",
       "597296  0.045531  0.248408     0.260563  0.002075  0.008484  0.095277       0   \n",
       "597317  0.031268  0.248408     0.260563  0.001383  0.008393  0.095277       0   \n",
       "597220  0.043600  0.248408     0.260563  0.003458  0.008454  0.095277       0   \n",
       "597219  0.036001  0.248408     0.260563  0.003458  0.008332  0.095277       0   \n",
       "\n",
       "        porosityF  HeatInput     power     speed  \n",
       "597277   0.000407   0.025906  0.060745  0.003891  \n",
       "597296   0.000272   0.025906  0.060745  0.000511  \n",
       "597317   0.000204   0.025906  0.060745  0.000648  \n",
       "597220   0.000407   0.025906  0.060745  0.000398  \n",
       "597219   0.000407   0.025906  0.060745  0.001438  "
      ]
     },
     "execution_count": 88,
     "metadata": {},
     "output_type": "execute_result"
    }
   ],
   "source": [
    "train22.head()"
   ]
  },
  {
   "cell_type": "markdown",
   "id": "4e0ebaeb",
   "metadata": {},
   "source": [
    "## Feature Importance"
   ]
  },
  {
   "cell_type": "code",
   "execution_count": 89,
   "id": "de3b2e96",
   "metadata": {},
   "outputs": [],
   "source": [
    "train=train22.copy()\n",
    "train.drop(['Defect'],axis=1,inplace=True)\n",
    "train['Defect']=train22['Defect']"
   ]
  },
  {
   "cell_type": "code",
   "execution_count": 90,
   "id": "44f88d8e",
   "metadata": {},
   "outputs": [
    {
     "data": {
      "text/html": [
       "<div>\n",
       "<style scoped>\n",
       "    .dataframe tbody tr th:only-of-type {\n",
       "        vertical-align: middle;\n",
       "    }\n",
       "\n",
       "    .dataframe tbody tr th {\n",
       "        vertical-align: top;\n",
       "    }\n",
       "\n",
       "    .dataframe thead th {\n",
       "        text-align: right;\n",
       "    }\n",
       "</style>\n",
       "<table border=\"1\" class=\"dataframe\">\n",
       "  <thead>\n",
       "    <tr style=\"text-align: right;\">\n",
       "      <th></th>\n",
       "      <th>Current</th>\n",
       "      <th>Humidity</th>\n",
       "      <th>Temperature</th>\n",
       "      <th>Flow</th>\n",
       "      <th>Job Temp</th>\n",
       "      <th>Voltage</th>\n",
       "      <th>porosityF</th>\n",
       "      <th>HeatInput</th>\n",
       "      <th>power</th>\n",
       "      <th>speed</th>\n",
       "      <th>Defect</th>\n",
       "    </tr>\n",
       "  </thead>\n",
       "  <tbody>\n",
       "    <tr>\n",
       "      <th>597277</th>\n",
       "      <td>0.050950</td>\n",
       "      <td>0.248408</td>\n",
       "      <td>0.260563</td>\n",
       "      <td>0.003458</td>\n",
       "      <td>0.008362</td>\n",
       "      <td>0.095277</td>\n",
       "      <td>0.000407</td>\n",
       "      <td>0.025906</td>\n",
       "      <td>0.060745</td>\n",
       "      <td>0.003891</td>\n",
       "      <td>0</td>\n",
       "    </tr>\n",
       "    <tr>\n",
       "      <th>597296</th>\n",
       "      <td>0.045531</td>\n",
       "      <td>0.248408</td>\n",
       "      <td>0.260563</td>\n",
       "      <td>0.002075</td>\n",
       "      <td>0.008484</td>\n",
       "      <td>0.095277</td>\n",
       "      <td>0.000272</td>\n",
       "      <td>0.025906</td>\n",
       "      <td>0.060745</td>\n",
       "      <td>0.000511</td>\n",
       "      <td>0</td>\n",
       "    </tr>\n",
       "    <tr>\n",
       "      <th>597317</th>\n",
       "      <td>0.031268</td>\n",
       "      <td>0.248408</td>\n",
       "      <td>0.260563</td>\n",
       "      <td>0.001383</td>\n",
       "      <td>0.008393</td>\n",
       "      <td>0.095277</td>\n",
       "      <td>0.000204</td>\n",
       "      <td>0.025906</td>\n",
       "      <td>0.060745</td>\n",
       "      <td>0.000648</td>\n",
       "      <td>0</td>\n",
       "    </tr>\n",
       "    <tr>\n",
       "      <th>597220</th>\n",
       "      <td>0.043600</td>\n",
       "      <td>0.248408</td>\n",
       "      <td>0.260563</td>\n",
       "      <td>0.003458</td>\n",
       "      <td>0.008454</td>\n",
       "      <td>0.095277</td>\n",
       "      <td>0.000407</td>\n",
       "      <td>0.025906</td>\n",
       "      <td>0.060745</td>\n",
       "      <td>0.000398</td>\n",
       "      <td>0</td>\n",
       "    </tr>\n",
       "    <tr>\n",
       "      <th>597219</th>\n",
       "      <td>0.036001</td>\n",
       "      <td>0.248408</td>\n",
       "      <td>0.260563</td>\n",
       "      <td>0.003458</td>\n",
       "      <td>0.008332</td>\n",
       "      <td>0.095277</td>\n",
       "      <td>0.000407</td>\n",
       "      <td>0.025906</td>\n",
       "      <td>0.060745</td>\n",
       "      <td>0.001438</td>\n",
       "      <td>0</td>\n",
       "    </tr>\n",
       "  </tbody>\n",
       "</table>\n",
       "</div>"
      ],
      "text/plain": [
       "         Current  Humidity  Temperature      Flow  Job Temp   Voltage  \\\n",
       "597277  0.050950  0.248408     0.260563  0.003458  0.008362  0.095277   \n",
       "597296  0.045531  0.248408     0.260563  0.002075  0.008484  0.095277   \n",
       "597317  0.031268  0.248408     0.260563  0.001383  0.008393  0.095277   \n",
       "597220  0.043600  0.248408     0.260563  0.003458  0.008454  0.095277   \n",
       "597219  0.036001  0.248408     0.260563  0.003458  0.008332  0.095277   \n",
       "\n",
       "        porosityF  HeatInput     power     speed  Defect  \n",
       "597277   0.000407   0.025906  0.060745  0.003891       0  \n",
       "597296   0.000272   0.025906  0.060745  0.000511       0  \n",
       "597317   0.000204   0.025906  0.060745  0.000648       0  \n",
       "597220   0.000407   0.025906  0.060745  0.000398       0  \n",
       "597219   0.000407   0.025906  0.060745  0.001438       0  "
      ]
     },
     "execution_count": 90,
     "metadata": {},
     "output_type": "execute_result"
    }
   ],
   "source": [
    "train.head()"
   ]
  },
  {
   "cell_type": "code",
   "execution_count": 91,
   "id": "a4a3b3b8",
   "metadata": {},
   "outputs": [],
   "source": [
    "v_features = train.iloc[:,1:10].columns"
   ]
  },
  {
   "cell_type": "code",
   "execution_count": 92,
   "id": "48f585b6",
   "metadata": {},
   "outputs": [],
   "source": [
    "rnd_clf = RandomForestClassifier(n_estimators = 100 , criterion = 'entropy',random_state = 0)\n",
    "rnd_clf.fit(train.iloc[:,1:10],train.iloc[:,10]);"
   ]
  },
  {
   "cell_type": "code",
   "execution_count": 93,
   "id": "18f2d0c0",
   "metadata": {},
   "outputs": [
    {
     "data": {
      "application/vnd.plotly.v1+json": {
       "config": {
        "linkText": "Export to plot.ly",
        "plotlyServerURL": "https://plot.ly",
        "showLink": false
       },
       "data": [
        {
         "marker": {
          "color": [
           0.02554616597406895,
           0.055113635798844755,
           0.09486624372896517,
           0.10009774010508962,
           0.10100740162498134,
           0.1175123456022221,
           0.12043559192410942,
           0.1361723513836198,
           0.24924852385809898
          ],
          "colorscale": [
           [
            0,
            "#440154"
           ],
           [
            0.1111111111111111,
            "#482878"
           ],
           [
            0.2222222222222222,
            "#3e4989"
           ],
           [
            0.3333333333333333,
            "#31688e"
           ],
           [
            0.4444444444444444,
            "#26828e"
           ],
           [
            0.5555555555555556,
            "#1f9e89"
           ],
           [
            0.6666666666666666,
            "#35b779"
           ],
           [
            0.7777777777777778,
            "#6ece58"
           ],
           [
            0.8888888888888888,
            "#b5de2b"
           ],
           [
            1,
            "#fde725"
           ]
          ],
          "reversescale": true
         },
         "name": "Random Forest Feature importance",
         "orientation": "h",
         "type": "bar",
         "x": [
          0.02554616597406895,
          0.055113635798844755,
          0.09486624372896517,
          0.10009774010508962,
          0.10100740162498134,
          0.1175123456022221,
          0.12043559192410942,
          0.1361723513836198,
          0.24924852385809898
         ],
         "y": [
          "Temperature",
          "Humidity",
          "Flow",
          "Job Temp",
          "HeatInput",
          "speed",
          "power",
          "porosityF",
          "Voltage"
         ]
        }
       ],
       "layout": {
        "height": 1000,
        "margin": {
         "l": 300
        },
        "template": {
         "data": {
          "bar": [
           {
            "error_x": {
             "color": "#2a3f5f"
            },
            "error_y": {
             "color": "#2a3f5f"
            },
            "marker": {
             "line": {
              "color": "#E5ECF6",
              "width": 0.5
             },
             "pattern": {
              "fillmode": "overlay",
              "size": 10,
              "solidity": 0.2
             }
            },
            "type": "bar"
           }
          ],
          "barpolar": [
           {
            "marker": {
             "line": {
              "color": "#E5ECF6",
              "width": 0.5
             },
             "pattern": {
              "fillmode": "overlay",
              "size": 10,
              "solidity": 0.2
             }
            },
            "type": "barpolar"
           }
          ],
          "carpet": [
           {
            "aaxis": {
             "endlinecolor": "#2a3f5f",
             "gridcolor": "white",
             "linecolor": "white",
             "minorgridcolor": "white",
             "startlinecolor": "#2a3f5f"
            },
            "baxis": {
             "endlinecolor": "#2a3f5f",
             "gridcolor": "white",
             "linecolor": "white",
             "minorgridcolor": "white",
             "startlinecolor": "#2a3f5f"
            },
            "type": "carpet"
           }
          ],
          "choropleth": [
           {
            "colorbar": {
             "outlinewidth": 0,
             "ticks": ""
            },
            "type": "choropleth"
           }
          ],
          "contour": [
           {
            "colorbar": {
             "outlinewidth": 0,
             "ticks": ""
            },
            "colorscale": [
             [
              0,
              "#0d0887"
             ],
             [
              0.1111111111111111,
              "#46039f"
             ],
             [
              0.2222222222222222,
              "#7201a8"
             ],
             [
              0.3333333333333333,
              "#9c179e"
             ],
             [
              0.4444444444444444,
              "#bd3786"
             ],
             [
              0.5555555555555556,
              "#d8576b"
             ],
             [
              0.6666666666666666,
              "#ed7953"
             ],
             [
              0.7777777777777778,
              "#fb9f3a"
             ],
             [
              0.8888888888888888,
              "#fdca26"
             ],
             [
              1,
              "#f0f921"
             ]
            ],
            "type": "contour"
           }
          ],
          "contourcarpet": [
           {
            "colorbar": {
             "outlinewidth": 0,
             "ticks": ""
            },
            "type": "contourcarpet"
           }
          ],
          "heatmap": [
           {
            "colorbar": {
             "outlinewidth": 0,
             "ticks": ""
            },
            "colorscale": [
             [
              0,
              "#0d0887"
             ],
             [
              0.1111111111111111,
              "#46039f"
             ],
             [
              0.2222222222222222,
              "#7201a8"
             ],
             [
              0.3333333333333333,
              "#9c179e"
             ],
             [
              0.4444444444444444,
              "#bd3786"
             ],
             [
              0.5555555555555556,
              "#d8576b"
             ],
             [
              0.6666666666666666,
              "#ed7953"
             ],
             [
              0.7777777777777778,
              "#fb9f3a"
             ],
             [
              0.8888888888888888,
              "#fdca26"
             ],
             [
              1,
              "#f0f921"
             ]
            ],
            "type": "heatmap"
           }
          ],
          "heatmapgl": [
           {
            "colorbar": {
             "outlinewidth": 0,
             "ticks": ""
            },
            "colorscale": [
             [
              0,
              "#0d0887"
             ],
             [
              0.1111111111111111,
              "#46039f"
             ],
             [
              0.2222222222222222,
              "#7201a8"
             ],
             [
              0.3333333333333333,
              "#9c179e"
             ],
             [
              0.4444444444444444,
              "#bd3786"
             ],
             [
              0.5555555555555556,
              "#d8576b"
             ],
             [
              0.6666666666666666,
              "#ed7953"
             ],
             [
              0.7777777777777778,
              "#fb9f3a"
             ],
             [
              0.8888888888888888,
              "#fdca26"
             ],
             [
              1,
              "#f0f921"
             ]
            ],
            "type": "heatmapgl"
           }
          ],
          "histogram": [
           {
            "marker": {
             "pattern": {
              "fillmode": "overlay",
              "size": 10,
              "solidity": 0.2
             }
            },
            "type": "histogram"
           }
          ],
          "histogram2d": [
           {
            "colorbar": {
             "outlinewidth": 0,
             "ticks": ""
            },
            "colorscale": [
             [
              0,
              "#0d0887"
             ],
             [
              0.1111111111111111,
              "#46039f"
             ],
             [
              0.2222222222222222,
              "#7201a8"
             ],
             [
              0.3333333333333333,
              "#9c179e"
             ],
             [
              0.4444444444444444,
              "#bd3786"
             ],
             [
              0.5555555555555556,
              "#d8576b"
             ],
             [
              0.6666666666666666,
              "#ed7953"
             ],
             [
              0.7777777777777778,
              "#fb9f3a"
             ],
             [
              0.8888888888888888,
              "#fdca26"
             ],
             [
              1,
              "#f0f921"
             ]
            ],
            "type": "histogram2d"
           }
          ],
          "histogram2dcontour": [
           {
            "colorbar": {
             "outlinewidth": 0,
             "ticks": ""
            },
            "colorscale": [
             [
              0,
              "#0d0887"
             ],
             [
              0.1111111111111111,
              "#46039f"
             ],
             [
              0.2222222222222222,
              "#7201a8"
             ],
             [
              0.3333333333333333,
              "#9c179e"
             ],
             [
              0.4444444444444444,
              "#bd3786"
             ],
             [
              0.5555555555555556,
              "#d8576b"
             ],
             [
              0.6666666666666666,
              "#ed7953"
             ],
             [
              0.7777777777777778,
              "#fb9f3a"
             ],
             [
              0.8888888888888888,
              "#fdca26"
             ],
             [
              1,
              "#f0f921"
             ]
            ],
            "type": "histogram2dcontour"
           }
          ],
          "mesh3d": [
           {
            "colorbar": {
             "outlinewidth": 0,
             "ticks": ""
            },
            "type": "mesh3d"
           }
          ],
          "parcoords": [
           {
            "line": {
             "colorbar": {
              "outlinewidth": 0,
              "ticks": ""
             }
            },
            "type": "parcoords"
           }
          ],
          "pie": [
           {
            "automargin": true,
            "type": "pie"
           }
          ],
          "scatter": [
           {
            "fillpattern": {
             "fillmode": "overlay",
             "size": 10,
             "solidity": 0.2
            },
            "type": "scatter"
           }
          ],
          "scatter3d": [
           {
            "line": {
             "colorbar": {
              "outlinewidth": 0,
              "ticks": ""
             }
            },
            "marker": {
             "colorbar": {
              "outlinewidth": 0,
              "ticks": ""
             }
            },
            "type": "scatter3d"
           }
          ],
          "scattercarpet": [
           {
            "marker": {
             "colorbar": {
              "outlinewidth": 0,
              "ticks": ""
             }
            },
            "type": "scattercarpet"
           }
          ],
          "scattergeo": [
           {
            "marker": {
             "colorbar": {
              "outlinewidth": 0,
              "ticks": ""
             }
            },
            "type": "scattergeo"
           }
          ],
          "scattergl": [
           {
            "marker": {
             "colorbar": {
              "outlinewidth": 0,
              "ticks": ""
             }
            },
            "type": "scattergl"
           }
          ],
          "scattermapbox": [
           {
            "marker": {
             "colorbar": {
              "outlinewidth": 0,
              "ticks": ""
             }
            },
            "type": "scattermapbox"
           }
          ],
          "scatterpolar": [
           {
            "marker": {
             "colorbar": {
              "outlinewidth": 0,
              "ticks": ""
             }
            },
            "type": "scatterpolar"
           }
          ],
          "scatterpolargl": [
           {
            "marker": {
             "colorbar": {
              "outlinewidth": 0,
              "ticks": ""
             }
            },
            "type": "scatterpolargl"
           }
          ],
          "scatterternary": [
           {
            "marker": {
             "colorbar": {
              "outlinewidth": 0,
              "ticks": ""
             }
            },
            "type": "scatterternary"
           }
          ],
          "surface": [
           {
            "colorbar": {
             "outlinewidth": 0,
             "ticks": ""
            },
            "colorscale": [
             [
              0,
              "#0d0887"
             ],
             [
              0.1111111111111111,
              "#46039f"
             ],
             [
              0.2222222222222222,
              "#7201a8"
             ],
             [
              0.3333333333333333,
              "#9c179e"
             ],
             [
              0.4444444444444444,
              "#bd3786"
             ],
             [
              0.5555555555555556,
              "#d8576b"
             ],
             [
              0.6666666666666666,
              "#ed7953"
             ],
             [
              0.7777777777777778,
              "#fb9f3a"
             ],
             [
              0.8888888888888888,
              "#fdca26"
             ],
             [
              1,
              "#f0f921"
             ]
            ],
            "type": "surface"
           }
          ],
          "table": [
           {
            "cells": {
             "fill": {
              "color": "#EBF0F8"
             },
             "line": {
              "color": "white"
             }
            },
            "header": {
             "fill": {
              "color": "#C8D4E3"
             },
             "line": {
              "color": "white"
             }
            },
            "type": "table"
           }
          ]
         },
         "layout": {
          "annotationdefaults": {
           "arrowcolor": "#2a3f5f",
           "arrowhead": 0,
           "arrowwidth": 1
          },
          "autotypenumbers": "strict",
          "coloraxis": {
           "colorbar": {
            "outlinewidth": 0,
            "ticks": ""
           }
          },
          "colorscale": {
           "diverging": [
            [
             0,
             "#8e0152"
            ],
            [
             0.1,
             "#c51b7d"
            ],
            [
             0.2,
             "#de77ae"
            ],
            [
             0.3,
             "#f1b6da"
            ],
            [
             0.4,
             "#fde0ef"
            ],
            [
             0.5,
             "#f7f7f7"
            ],
            [
             0.6,
             "#e6f5d0"
            ],
            [
             0.7,
             "#b8e186"
            ],
            [
             0.8,
             "#7fbc41"
            ],
            [
             0.9,
             "#4d9221"
            ],
            [
             1,
             "#276419"
            ]
           ],
           "sequential": [
            [
             0,
             "#0d0887"
            ],
            [
             0.1111111111111111,
             "#46039f"
            ],
            [
             0.2222222222222222,
             "#7201a8"
            ],
            [
             0.3333333333333333,
             "#9c179e"
            ],
            [
             0.4444444444444444,
             "#bd3786"
            ],
            [
             0.5555555555555556,
             "#d8576b"
            ],
            [
             0.6666666666666666,
             "#ed7953"
            ],
            [
             0.7777777777777778,
             "#fb9f3a"
            ],
            [
             0.8888888888888888,
             "#fdca26"
            ],
            [
             1,
             "#f0f921"
            ]
           ],
           "sequentialminus": [
            [
             0,
             "#0d0887"
            ],
            [
             0.1111111111111111,
             "#46039f"
            ],
            [
             0.2222222222222222,
             "#7201a8"
            ],
            [
             0.3333333333333333,
             "#9c179e"
            ],
            [
             0.4444444444444444,
             "#bd3786"
            ],
            [
             0.5555555555555556,
             "#d8576b"
            ],
            [
             0.6666666666666666,
             "#ed7953"
            ],
            [
             0.7777777777777778,
             "#fb9f3a"
            ],
            [
             0.8888888888888888,
             "#fdca26"
            ],
            [
             1,
             "#f0f921"
            ]
           ]
          },
          "colorway": [
           "#636efa",
           "#EF553B",
           "#00cc96",
           "#ab63fa",
           "#FFA15A",
           "#19d3f3",
           "#FF6692",
           "#B6E880",
           "#FF97FF",
           "#FECB52"
          ],
          "font": {
           "color": "#2a3f5f"
          },
          "geo": {
           "bgcolor": "white",
           "lakecolor": "white",
           "landcolor": "#E5ECF6",
           "showlakes": true,
           "showland": true,
           "subunitcolor": "white"
          },
          "hoverlabel": {
           "align": "left"
          },
          "hovermode": "closest",
          "mapbox": {
           "style": "light"
          },
          "paper_bgcolor": "white",
          "plot_bgcolor": "#E5ECF6",
          "polar": {
           "angularaxis": {
            "gridcolor": "white",
            "linecolor": "white",
            "ticks": ""
           },
           "bgcolor": "#E5ECF6",
           "radialaxis": {
            "gridcolor": "white",
            "linecolor": "white",
            "ticks": ""
           }
          },
          "scene": {
           "xaxis": {
            "backgroundcolor": "#E5ECF6",
            "gridcolor": "white",
            "gridwidth": 2,
            "linecolor": "white",
            "showbackground": true,
            "ticks": "",
            "zerolinecolor": "white"
           },
           "yaxis": {
            "backgroundcolor": "#E5ECF6",
            "gridcolor": "white",
            "gridwidth": 2,
            "linecolor": "white",
            "showbackground": true,
            "ticks": "",
            "zerolinecolor": "white"
           },
           "zaxis": {
            "backgroundcolor": "#E5ECF6",
            "gridcolor": "white",
            "gridwidth": 2,
            "linecolor": "white",
            "showbackground": true,
            "ticks": "",
            "zerolinecolor": "white"
           }
          },
          "shapedefaults": {
           "line": {
            "color": "#2a3f5f"
           }
          },
          "ternary": {
           "aaxis": {
            "gridcolor": "white",
            "linecolor": "white",
            "ticks": ""
           },
           "baxis": {
            "gridcolor": "white",
            "linecolor": "white",
            "ticks": ""
           },
           "bgcolor": "#E5ECF6",
           "caxis": {
            "gridcolor": "white",
            "linecolor": "white",
            "ticks": ""
           }
          },
          "title": {
           "x": 0.05
          },
          "xaxis": {
           "automargin": true,
           "gridcolor": "white",
           "linecolor": "white",
           "ticks": "",
           "title": {
            "standoff": 15
           },
           "zerolinecolor": "white",
           "zerolinewidth": 2
          },
          "yaxis": {
           "automargin": true,
           "gridcolor": "white",
           "linecolor": "white",
           "ticks": "",
           "title": {
            "standoff": 15
           },
           "zerolinecolor": "white",
           "zerolinewidth": 2
          }
         }
        },
        "title": {
         "text": "Barplot of Feature importances"
        },
        "width": 600,
        "yaxis": {
         "showgrid": false,
         "showline": false,
         "showticklabels": true
        }
       }
      },
      "text/html": [
       "<div>                            <div id=\"fcbf39d0-5c4c-4705-8722-42ff0aa56705\" class=\"plotly-graph-div\" style=\"height:1000px; width:600px;\"></div>            <script type=\"text/javascript\">                require([\"plotly\"], function(Plotly) {                    window.PLOTLYENV=window.PLOTLYENV || {};                                    if (document.getElementById(\"fcbf39d0-5c4c-4705-8722-42ff0aa56705\")) {                    Plotly.newPlot(                        \"fcbf39d0-5c4c-4705-8722-42ff0aa56705\",                        [{\"marker\":{\"color\":[0.02554616597406895,0.055113635798844755,0.09486624372896517,0.10009774010508962,0.10100740162498134,0.1175123456022221,0.12043559192410942,0.1361723513836198,0.24924852385809898],\"colorscale\":[[0.0,\"#440154\"],[0.1111111111111111,\"#482878\"],[0.2222222222222222,\"#3e4989\"],[0.3333333333333333,\"#31688e\"],[0.4444444444444444,\"#26828e\"],[0.5555555555555556,\"#1f9e89\"],[0.6666666666666666,\"#35b779\"],[0.7777777777777778,\"#6ece58\"],[0.8888888888888888,\"#b5de2b\"],[1.0,\"#fde725\"]],\"reversescale\":true},\"name\":\"Random Forest Feature importance\",\"orientation\":\"h\",\"x\":[0.02554616597406895,0.055113635798844755,0.09486624372896517,0.10009774010508962,0.10100740162498134,0.1175123456022221,0.12043559192410942,0.1361723513836198,0.24924852385809898],\"y\":[\"Temperature\",\"Humidity\",\"Flow\",\"Job Temp\",\"HeatInput\",\"speed\",\"power\",\"porosityF\",\"Voltage\"],\"type\":\"bar\"}],                        {\"height\":1000,\"margin\":{\"l\":300},\"template\":{\"data\":{\"barpolar\":[{\"marker\":{\"line\":{\"color\":\"#E5ECF6\",\"width\":0.5},\"pattern\":{\"fillmode\":\"overlay\",\"size\":10,\"solidity\":0.2}},\"type\":\"barpolar\"}],\"bar\":[{\"error_x\":{\"color\":\"#2a3f5f\"},\"error_y\":{\"color\":\"#2a3f5f\"},\"marker\":{\"line\":{\"color\":\"#E5ECF6\",\"width\":0.5},\"pattern\":{\"fillmode\":\"overlay\",\"size\":10,\"solidity\":0.2}},\"type\":\"bar\"}],\"carpet\":[{\"aaxis\":{\"endlinecolor\":\"#2a3f5f\",\"gridcolor\":\"white\",\"linecolor\":\"white\",\"minorgridcolor\":\"white\",\"startlinecolor\":\"#2a3f5f\"},\"baxis\":{\"endlinecolor\":\"#2a3f5f\",\"gridcolor\":\"white\",\"linecolor\":\"white\",\"minorgridcolor\":\"white\",\"startlinecolor\":\"#2a3f5f\"},\"type\":\"carpet\"}],\"choropleth\":[{\"colorbar\":{\"outlinewidth\":0,\"ticks\":\"\"},\"type\":\"choropleth\"}],\"contourcarpet\":[{\"colorbar\":{\"outlinewidth\":0,\"ticks\":\"\"},\"type\":\"contourcarpet\"}],\"contour\":[{\"colorbar\":{\"outlinewidth\":0,\"ticks\":\"\"},\"colorscale\":[[0.0,\"#0d0887\"],[0.1111111111111111,\"#46039f\"],[0.2222222222222222,\"#7201a8\"],[0.3333333333333333,\"#9c179e\"],[0.4444444444444444,\"#bd3786\"],[0.5555555555555556,\"#d8576b\"],[0.6666666666666666,\"#ed7953\"],[0.7777777777777778,\"#fb9f3a\"],[0.8888888888888888,\"#fdca26\"],[1.0,\"#f0f921\"]],\"type\":\"contour\"}],\"heatmapgl\":[{\"colorbar\":{\"outlinewidth\":0,\"ticks\":\"\"},\"colorscale\":[[0.0,\"#0d0887\"],[0.1111111111111111,\"#46039f\"],[0.2222222222222222,\"#7201a8\"],[0.3333333333333333,\"#9c179e\"],[0.4444444444444444,\"#bd3786\"],[0.5555555555555556,\"#d8576b\"],[0.6666666666666666,\"#ed7953\"],[0.7777777777777778,\"#fb9f3a\"],[0.8888888888888888,\"#fdca26\"],[1.0,\"#f0f921\"]],\"type\":\"heatmapgl\"}],\"heatmap\":[{\"colorbar\":{\"outlinewidth\":0,\"ticks\":\"\"},\"colorscale\":[[0.0,\"#0d0887\"],[0.1111111111111111,\"#46039f\"],[0.2222222222222222,\"#7201a8\"],[0.3333333333333333,\"#9c179e\"],[0.4444444444444444,\"#bd3786\"],[0.5555555555555556,\"#d8576b\"],[0.6666666666666666,\"#ed7953\"],[0.7777777777777778,\"#fb9f3a\"],[0.8888888888888888,\"#fdca26\"],[1.0,\"#f0f921\"]],\"type\":\"heatmap\"}],\"histogram2dcontour\":[{\"colorbar\":{\"outlinewidth\":0,\"ticks\":\"\"},\"colorscale\":[[0.0,\"#0d0887\"],[0.1111111111111111,\"#46039f\"],[0.2222222222222222,\"#7201a8\"],[0.3333333333333333,\"#9c179e\"],[0.4444444444444444,\"#bd3786\"],[0.5555555555555556,\"#d8576b\"],[0.6666666666666666,\"#ed7953\"],[0.7777777777777778,\"#fb9f3a\"],[0.8888888888888888,\"#fdca26\"],[1.0,\"#f0f921\"]],\"type\":\"histogram2dcontour\"}],\"histogram2d\":[{\"colorbar\":{\"outlinewidth\":0,\"ticks\":\"\"},\"colorscale\":[[0.0,\"#0d0887\"],[0.1111111111111111,\"#46039f\"],[0.2222222222222222,\"#7201a8\"],[0.3333333333333333,\"#9c179e\"],[0.4444444444444444,\"#bd3786\"],[0.5555555555555556,\"#d8576b\"],[0.6666666666666666,\"#ed7953\"],[0.7777777777777778,\"#fb9f3a\"],[0.8888888888888888,\"#fdca26\"],[1.0,\"#f0f921\"]],\"type\":\"histogram2d\"}],\"histogram\":[{\"marker\":{\"pattern\":{\"fillmode\":\"overlay\",\"size\":10,\"solidity\":0.2}},\"type\":\"histogram\"}],\"mesh3d\":[{\"colorbar\":{\"outlinewidth\":0,\"ticks\":\"\"},\"type\":\"mesh3d\"}],\"parcoords\":[{\"line\":{\"colorbar\":{\"outlinewidth\":0,\"ticks\":\"\"}},\"type\":\"parcoords\"}],\"pie\":[{\"automargin\":true,\"type\":\"pie\"}],\"scatter3d\":[{\"line\":{\"colorbar\":{\"outlinewidth\":0,\"ticks\":\"\"}},\"marker\":{\"colorbar\":{\"outlinewidth\":0,\"ticks\":\"\"}},\"type\":\"scatter3d\"}],\"scattercarpet\":[{\"marker\":{\"colorbar\":{\"outlinewidth\":0,\"ticks\":\"\"}},\"type\":\"scattercarpet\"}],\"scattergeo\":[{\"marker\":{\"colorbar\":{\"outlinewidth\":0,\"ticks\":\"\"}},\"type\":\"scattergeo\"}],\"scattergl\":[{\"marker\":{\"colorbar\":{\"outlinewidth\":0,\"ticks\":\"\"}},\"type\":\"scattergl\"}],\"scattermapbox\":[{\"marker\":{\"colorbar\":{\"outlinewidth\":0,\"ticks\":\"\"}},\"type\":\"scattermapbox\"}],\"scatterpolargl\":[{\"marker\":{\"colorbar\":{\"outlinewidth\":0,\"ticks\":\"\"}},\"type\":\"scatterpolargl\"}],\"scatterpolar\":[{\"marker\":{\"colorbar\":{\"outlinewidth\":0,\"ticks\":\"\"}},\"type\":\"scatterpolar\"}],\"scatter\":[{\"fillpattern\":{\"fillmode\":\"overlay\",\"size\":10,\"solidity\":0.2},\"type\":\"scatter\"}],\"scatterternary\":[{\"marker\":{\"colorbar\":{\"outlinewidth\":0,\"ticks\":\"\"}},\"type\":\"scatterternary\"}],\"surface\":[{\"colorbar\":{\"outlinewidth\":0,\"ticks\":\"\"},\"colorscale\":[[0.0,\"#0d0887\"],[0.1111111111111111,\"#46039f\"],[0.2222222222222222,\"#7201a8\"],[0.3333333333333333,\"#9c179e\"],[0.4444444444444444,\"#bd3786\"],[0.5555555555555556,\"#d8576b\"],[0.6666666666666666,\"#ed7953\"],[0.7777777777777778,\"#fb9f3a\"],[0.8888888888888888,\"#fdca26\"],[1.0,\"#f0f921\"]],\"type\":\"surface\"}],\"table\":[{\"cells\":{\"fill\":{\"color\":\"#EBF0F8\"},\"line\":{\"color\":\"white\"}},\"header\":{\"fill\":{\"color\":\"#C8D4E3\"},\"line\":{\"color\":\"white\"}},\"type\":\"table\"}]},\"layout\":{\"annotationdefaults\":{\"arrowcolor\":\"#2a3f5f\",\"arrowhead\":0,\"arrowwidth\":1},\"autotypenumbers\":\"strict\",\"coloraxis\":{\"colorbar\":{\"outlinewidth\":0,\"ticks\":\"\"}},\"colorscale\":{\"diverging\":[[0,\"#8e0152\"],[0.1,\"#c51b7d\"],[0.2,\"#de77ae\"],[0.3,\"#f1b6da\"],[0.4,\"#fde0ef\"],[0.5,\"#f7f7f7\"],[0.6,\"#e6f5d0\"],[0.7,\"#b8e186\"],[0.8,\"#7fbc41\"],[0.9,\"#4d9221\"],[1,\"#276419\"]],\"sequential\":[[0.0,\"#0d0887\"],[0.1111111111111111,\"#46039f\"],[0.2222222222222222,\"#7201a8\"],[0.3333333333333333,\"#9c179e\"],[0.4444444444444444,\"#bd3786\"],[0.5555555555555556,\"#d8576b\"],[0.6666666666666666,\"#ed7953\"],[0.7777777777777778,\"#fb9f3a\"],[0.8888888888888888,\"#fdca26\"],[1.0,\"#f0f921\"]],\"sequentialminus\":[[0.0,\"#0d0887\"],[0.1111111111111111,\"#46039f\"],[0.2222222222222222,\"#7201a8\"],[0.3333333333333333,\"#9c179e\"],[0.4444444444444444,\"#bd3786\"],[0.5555555555555556,\"#d8576b\"],[0.6666666666666666,\"#ed7953\"],[0.7777777777777778,\"#fb9f3a\"],[0.8888888888888888,\"#fdca26\"],[1.0,\"#f0f921\"]]},\"colorway\":[\"#636efa\",\"#EF553B\",\"#00cc96\",\"#ab63fa\",\"#FFA15A\",\"#19d3f3\",\"#FF6692\",\"#B6E880\",\"#FF97FF\",\"#FECB52\"],\"font\":{\"color\":\"#2a3f5f\"},\"geo\":{\"bgcolor\":\"white\",\"lakecolor\":\"white\",\"landcolor\":\"#E5ECF6\",\"showlakes\":true,\"showland\":true,\"subunitcolor\":\"white\"},\"hoverlabel\":{\"align\":\"left\"},\"hovermode\":\"closest\",\"mapbox\":{\"style\":\"light\"},\"paper_bgcolor\":\"white\",\"plot_bgcolor\":\"#E5ECF6\",\"polar\":{\"angularaxis\":{\"gridcolor\":\"white\",\"linecolor\":\"white\",\"ticks\":\"\"},\"bgcolor\":\"#E5ECF6\",\"radialaxis\":{\"gridcolor\":\"white\",\"linecolor\":\"white\",\"ticks\":\"\"}},\"scene\":{\"xaxis\":{\"backgroundcolor\":\"#E5ECF6\",\"gridcolor\":\"white\",\"gridwidth\":2,\"linecolor\":\"white\",\"showbackground\":true,\"ticks\":\"\",\"zerolinecolor\":\"white\"},\"yaxis\":{\"backgroundcolor\":\"#E5ECF6\",\"gridcolor\":\"white\",\"gridwidth\":2,\"linecolor\":\"white\",\"showbackground\":true,\"ticks\":\"\",\"zerolinecolor\":\"white\"},\"zaxis\":{\"backgroundcolor\":\"#E5ECF6\",\"gridcolor\":\"white\",\"gridwidth\":2,\"linecolor\":\"white\",\"showbackground\":true,\"ticks\":\"\",\"zerolinecolor\":\"white\"}},\"shapedefaults\":{\"line\":{\"color\":\"#2a3f5f\"}},\"ternary\":{\"aaxis\":{\"gridcolor\":\"white\",\"linecolor\":\"white\",\"ticks\":\"\"},\"baxis\":{\"gridcolor\":\"white\",\"linecolor\":\"white\",\"ticks\":\"\"},\"bgcolor\":\"#E5ECF6\",\"caxis\":{\"gridcolor\":\"white\",\"linecolor\":\"white\",\"ticks\":\"\"}},\"title\":{\"x\":0.05},\"xaxis\":{\"automargin\":true,\"gridcolor\":\"white\",\"linecolor\":\"white\",\"ticks\":\"\",\"title\":{\"standoff\":15},\"zerolinecolor\":\"white\",\"zerolinewidth\":2},\"yaxis\":{\"automargin\":true,\"gridcolor\":\"white\",\"linecolor\":\"white\",\"ticks\":\"\",\"title\":{\"standoff\":15},\"zerolinecolor\":\"white\",\"zerolinewidth\":2}}},\"title\":{\"text\":\"Barplot of Feature importances\"},\"width\":600,\"yaxis\":{\"showgrid\":false,\"showline\":false,\"showticklabels\":true}},                        {\"responsive\": true}                    ).then(function(){\n",
       "                            \n",
       "var gd = document.getElementById('fcbf39d0-5c4c-4705-8722-42ff0aa56705');\n",
       "var x = new MutationObserver(function (mutations, observer) {{\n",
       "        var display = window.getComputedStyle(gd).display;\n",
       "        if (!display || display === 'none') {{\n",
       "            console.log([gd, 'removed!']);\n",
       "            Plotly.purge(gd);\n",
       "            observer.disconnect();\n",
       "        }}\n",
       "}});\n",
       "\n",
       "// Listen for the removal of the full notebook cells\n",
       "var notebookContainer = gd.closest('#notebook-container');\n",
       "if (notebookContainer) {{\n",
       "    x.observe(notebookContainer, {childList: true});\n",
       "}}\n",
       "\n",
       "// Listen for the clearing of the current output cell\n",
       "var outputEl = gd.closest('.output');\n",
       "if (outputEl) {{\n",
       "    x.observe(outputEl, {childList: true});\n",
       "}}\n",
       "\n",
       "                        })                };                });            </script>        </div>"
      ]
     },
     "metadata": {},
     "output_type": "display_data"
    }
   ],
   "source": [
    "# plot may not be visible when loaded again.\n",
    "x, y = (list(x) for x in zip(*sorted(zip(rnd_clf.feature_importances_, train.iloc[:,1:10].columns), \n",
    "                                                            reverse = False)))\n",
    "trace2 = go.Bar(\n",
    "    x=x ,\n",
    "    y=y,\n",
    "    marker=dict(\n",
    "        color=x,\n",
    "        colorscale = 'Viridis',\n",
    "        reversescale = True\n",
    "    ),\n",
    "    name='Random Forest Feature importance',\n",
    "    orientation='h',\n",
    ")\n",
    "\n",
    "layout = dict(\n",
    "    title='Barplot of Feature importances',\n",
    "     width = 600, height = 1000,\n",
    "    yaxis=dict(\n",
    "        showgrid=False,\n",
    "        showline=False,\n",
    "        showticklabels=True,\n",
    "#         domain=[0, 0.85],\n",
    "    ),\n",
    "    margin=dict(\n",
    "    l=300,\n",
    "),\n",
    ")\n",
    "\n",
    "fig1 = go.Figure(data=[trace2], layout=layout)\n",
    "iplot(fig1)"
   ]
  },
  {
   "cell_type": "code",
   "execution_count": 94,
   "id": "4413d447",
   "metadata": {},
   "outputs": [],
   "source": [
    "#However it was found during various runs that removing speed gave the best model performance\n",
    "train22.drop(['speed'],inplace=True,axis=1)"
   ]
  },
  {
   "cell_type": "code",
   "execution_count": 95,
   "id": "121613da",
   "metadata": {},
   "outputs": [
    {
     "data": {
      "text/html": [
       "<div>\n",
       "<style scoped>\n",
       "    .dataframe tbody tr th:only-of-type {\n",
       "        vertical-align: middle;\n",
       "    }\n",
       "\n",
       "    .dataframe tbody tr th {\n",
       "        vertical-align: top;\n",
       "    }\n",
       "\n",
       "    .dataframe thead th {\n",
       "        text-align: right;\n",
       "    }\n",
       "</style>\n",
       "<table border=\"1\" class=\"dataframe\">\n",
       "  <thead>\n",
       "    <tr style=\"text-align: right;\">\n",
       "      <th></th>\n",
       "      <th>Current</th>\n",
       "      <th>Humidity</th>\n",
       "      <th>Temperature</th>\n",
       "      <th>Flow</th>\n",
       "      <th>Job Temp</th>\n",
       "      <th>Voltage</th>\n",
       "      <th>Defect</th>\n",
       "      <th>porosityF</th>\n",
       "      <th>HeatInput</th>\n",
       "      <th>power</th>\n",
       "    </tr>\n",
       "  </thead>\n",
       "  <tbody>\n",
       "    <tr>\n",
       "      <th>count</th>\n",
       "      <td>567136.000000</td>\n",
       "      <td>567136.000000</td>\n",
       "      <td>567136.000000</td>\n",
       "      <td>567136.000000</td>\n",
       "      <td>567136.000000</td>\n",
       "      <td>567136.000000</td>\n",
       "      <td>567136.000000</td>\n",
       "      <td>567136.000000</td>\n",
       "      <td>567136.000000</td>\n",
       "      <td>567136.000000</td>\n",
       "    </tr>\n",
       "    <tr>\n",
       "      <th>mean</th>\n",
       "      <td>0.071760</td>\n",
       "      <td>0.238188</td>\n",
       "      <td>0.259644</td>\n",
       "      <td>0.176225</td>\n",
       "      <td>0.051207</td>\n",
       "      <td>0.219171</td>\n",
       "      <td>0.007279</td>\n",
       "      <td>0.026454</td>\n",
       "      <td>0.026923</td>\n",
       "      <td>0.098142</td>\n",
       "    </tr>\n",
       "    <tr>\n",
       "      <th>std</th>\n",
       "      <td>0.085077</td>\n",
       "      <td>0.028689</td>\n",
       "      <td>0.021833</td>\n",
       "      <td>0.106359</td>\n",
       "      <td>0.193493</td>\n",
       "      <td>0.176755</td>\n",
       "      <td>0.085004</td>\n",
       "      <td>0.050561</td>\n",
       "      <td>0.009587</td>\n",
       "      <td>0.063085</td>\n",
       "    </tr>\n",
       "    <tr>\n",
       "      <th>min</th>\n",
       "      <td>0.000000</td>\n",
       "      <td>0.000000</td>\n",
       "      <td>0.000000</td>\n",
       "      <td>0.000000</td>\n",
       "      <td>0.000000</td>\n",
       "      <td>0.000000</td>\n",
       "      <td>0.000000</td>\n",
       "      <td>0.000000</td>\n",
       "      <td>0.000000</td>\n",
       "      <td>0.000000</td>\n",
       "    </tr>\n",
       "    <tr>\n",
       "      <th>25%</th>\n",
       "      <td>0.014077</td>\n",
       "      <td>0.229299</td>\n",
       "      <td>0.260563</td>\n",
       "      <td>0.088520</td>\n",
       "      <td>0.009186</td>\n",
       "      <td>0.095277</td>\n",
       "      <td>0.000000</td>\n",
       "      <td>0.007932</td>\n",
       "      <td>0.025906</td>\n",
       "      <td>0.060745</td>\n",
       "    </tr>\n",
       "    <tr>\n",
       "      <th>50%</th>\n",
       "      <td>0.026783</td>\n",
       "      <td>0.242038</td>\n",
       "      <td>0.260563</td>\n",
       "      <td>0.190180</td>\n",
       "      <td>0.009644</td>\n",
       "      <td>0.095277</td>\n",
       "      <td>0.000000</td>\n",
       "      <td>0.018504</td>\n",
       "      <td>0.025906</td>\n",
       "      <td>0.060745</td>\n",
       "    </tr>\n",
       "    <tr>\n",
       "      <th>75%</th>\n",
       "      <td>0.127998</td>\n",
       "      <td>0.251592</td>\n",
       "      <td>0.267606</td>\n",
       "      <td>0.233057</td>\n",
       "      <td>0.011414</td>\n",
       "      <td>0.427489</td>\n",
       "      <td>0.000000</td>\n",
       "      <td>0.023518</td>\n",
       "      <td>0.026179</td>\n",
       "      <td>0.136002</td>\n",
       "    </tr>\n",
       "    <tr>\n",
       "      <th>max</th>\n",
       "      <td>1.000000</td>\n",
       "      <td>1.000000</td>\n",
       "      <td>1.000000</td>\n",
       "      <td>1.000000</td>\n",
       "      <td>1.000000</td>\n",
       "      <td>1.000000</td>\n",
       "      <td>1.000000</td>\n",
       "      <td>1.000000</td>\n",
       "      <td>1.000000</td>\n",
       "      <td>1.000000</td>\n",
       "    </tr>\n",
       "  </tbody>\n",
       "</table>\n",
       "</div>"
      ],
      "text/plain": [
       "             Current       Humidity    Temperature           Flow  \\\n",
       "count  567136.000000  567136.000000  567136.000000  567136.000000   \n",
       "mean        0.071760       0.238188       0.259644       0.176225   \n",
       "std         0.085077       0.028689       0.021833       0.106359   \n",
       "min         0.000000       0.000000       0.000000       0.000000   \n",
       "25%         0.014077       0.229299       0.260563       0.088520   \n",
       "50%         0.026783       0.242038       0.260563       0.190180   \n",
       "75%         0.127998       0.251592       0.267606       0.233057   \n",
       "max         1.000000       1.000000       1.000000       1.000000   \n",
       "\n",
       "            Job Temp        Voltage         Defect      porosityF  \\\n",
       "count  567136.000000  567136.000000  567136.000000  567136.000000   \n",
       "mean        0.051207       0.219171       0.007279       0.026454   \n",
       "std         0.193493       0.176755       0.085004       0.050561   \n",
       "min         0.000000       0.000000       0.000000       0.000000   \n",
       "25%         0.009186       0.095277       0.000000       0.007932   \n",
       "50%         0.009644       0.095277       0.000000       0.018504   \n",
       "75%         0.011414       0.427489       0.000000       0.023518   \n",
       "max         1.000000       1.000000       1.000000       1.000000   \n",
       "\n",
       "           HeatInput          power  \n",
       "count  567136.000000  567136.000000  \n",
       "mean        0.026923       0.098142  \n",
       "std         0.009587       0.063085  \n",
       "min         0.000000       0.000000  \n",
       "25%         0.025906       0.060745  \n",
       "50%         0.025906       0.060745  \n",
       "75%         0.026179       0.136002  \n",
       "max         1.000000       1.000000  "
      ]
     },
     "execution_count": 95,
     "metadata": {},
     "output_type": "execute_result"
    }
   ],
   "source": [
    "train22.describe()"
   ]
  },
  {
   "cell_type": "markdown",
   "id": "1d493664",
   "metadata": {},
   "source": [
    "## Model Fitting"
   ]
  },
  {
   "cell_type": "code",
   "execution_count": 96,
   "id": "bd9400a3",
   "metadata": {},
   "outputs": [],
   "source": [
    "y= train22['Defect']\n",
    "X=train22.drop(['Defect'],axis=1)"
   ]
  },
  {
   "cell_type": "code",
   "execution_count": 97,
   "id": "deda623f",
   "metadata": {},
   "outputs": [],
   "source": [
    "from sklearn.model_selection import StratifiedKFold\n",
    "\n",
    "skf=StratifiedKFold(n_splits=5, random_state=None, shuffle=True)\n",
    "\n",
    "for train_index, test_index in skf.split(X, y):\n",
    "    X_train, X_test = X.iloc[train_index], X.iloc[test_index]\n",
    "    y_train, y_test = y.iloc[train_index], y.iloc[test_index]"
   ]
  },
  {
   "cell_type": "code",
   "execution_count": 98,
   "id": "dc5555b8",
   "metadata": {},
   "outputs": [],
   "source": [
    "from imblearn.over_sampling import SMOTE\n",
    "sm = SMOTE(random_state = 2)\n",
    "X_train, y_train = sm.fit_sample(X_train, y_train.ravel())"
   ]
  },
  {
   "cell_type": "code",
   "execution_count": 99,
   "id": "54a56673",
   "metadata": {},
   "outputs": [
    {
     "name": "stderr",
     "output_type": "stream",
     "text": [
      "/Users/raunakpandey/tensorflow-test/env/lib/python3.8/site-packages/numpy/core/fromnumeric.py:3723: RuntimeWarning:\n",
      "\n",
      "Degrees of freedom <= 0 for slice\n",
      "\n",
      "/Users/raunakpandey/tensorflow-test/env/lib/python3.8/site-packages/numpy/core/_methods.py:222: RuntimeWarning:\n",
      "\n",
      "invalid value encountered in true_divide\n",
      "\n",
      "/Users/raunakpandey/tensorflow-test/env/lib/python3.8/site-packages/numpy/core/_methods.py:254: RuntimeWarning:\n",
      "\n",
      "invalid value encountered in double_scalars\n",
      "\n"
     ]
    },
    {
     "data": {
      "text/plain": [
       "ABOD(contamination=0.1, method='fast', n_neighbors=5)"
      ]
     },
     "execution_count": 99,
     "metadata": {},
     "output_type": "execute_result"
    }
   ],
   "source": [
    "from pyod.models.abod import ABOD\n",
    "clf = ABOD()\n",
    "clf.fit(X_train)"
   ]
  },
  {
   "cell_type": "code",
   "execution_count": 100,
   "id": "9a4dc45b",
   "metadata": {},
   "outputs": [
    {
     "name": "stderr",
     "output_type": "stream",
     "text": [
      "/Users/raunakpandey/tensorflow-test/env/lib/python3.8/site-packages/numpy/core/fromnumeric.py:3723: RuntimeWarning:\n",
      "\n",
      "Degrees of freedom <= 0 for slice\n",
      "\n",
      "/Users/raunakpandey/tensorflow-test/env/lib/python3.8/site-packages/numpy/core/_methods.py:222: RuntimeWarning:\n",
      "\n",
      "invalid value encountered in true_divide\n",
      "\n",
      "/Users/raunakpandey/tensorflow-test/env/lib/python3.8/site-packages/numpy/core/_methods.py:254: RuntimeWarning:\n",
      "\n",
      "invalid value encountered in double_scalars\n",
      "\n"
     ]
    }
   ],
   "source": [
    "pred = clf.predict(X_test)"
   ]
  },
  {
   "cell_type": "code",
   "execution_count": 101,
   "id": "ea076b47",
   "metadata": {},
   "outputs": [
    {
     "data": {
      "text/plain": [
       "0.989089980985016"
      ]
     },
     "execution_count": 101,
     "metadata": {},
     "output_type": "execute_result"
    }
   ],
   "source": [
    "f1_score(y_test, pred, average='weighted')"
   ]
  },
  {
   "cell_type": "code",
   "execution_count": 102,
   "id": "f69ddc33",
   "metadata": {},
   "outputs": [
    {
     "data": {
      "text/plain": [
       "0.9927177832438485"
      ]
     },
     "execution_count": 102,
     "metadata": {},
     "output_type": "execute_result"
    }
   ],
   "source": [
    "f1_score(y_test, pred, average='micro')"
   ]
  },
  {
   "cell_type": "code",
   "execution_count": 103,
   "id": "375ec391",
   "metadata": {},
   "outputs": [
    {
     "data": {
      "text/plain": [
       "0.4981727927513406"
      ]
     },
     "execution_count": 103,
     "metadata": {},
     "output_type": "execute_result"
    }
   ],
   "source": [
    "f1_score(y_test, pred, average='macro')"
   ]
  },
  {
   "cell_type": "code",
   "execution_count": 104,
   "id": "41e662a6",
   "metadata": {},
   "outputs": [
    {
     "data": {
      "image/png": "[encoded data removed]",
      "text/plain": [
       "<Figure size 432x288 with 2 Axes>"
      ]
     },
     "metadata": {
      "needs_background": "light"
     },
     "output_type": "display_data"
    }
   ],
   "source": [
    "import matplotlib.pyplot as plt\n",
    "from sklearn.metrics import confusion_matrix, ConfusionMatrixDisplay\n",
    "\n",
    "\n",
    "cm = confusion_matrix(y_test, pred)\n",
    "disp = ConfusionMatrixDisplay(confusion_matrix=cm,\n",
    "                              )\n",
    "disp.plot()\n",
    "\n",
    "plt.show()"
   ]
  },
  {
   "cell_type": "code",
   "execution_count": 105,
   "id": "4d67939a",
   "metadata": {},
   "outputs": [],
   "source": [
    "from sklearn.ensemble import RandomForestClassifier\n",
    "\n",
    "clfFinal = RandomForestClassifier(max_depth=2, random_state=0)\n",
    "clfFinal.fit(X_train, y_train)\n",
    "pred=clfFinal.predict(X_test)"
   ]
  },
  {
   "cell_type": "code",
   "execution_count": 106,
   "id": "39b822f1",
   "metadata": {},
   "outputs": [
    {
     "data": {
      "text/plain": [
       "0.7897426326151074"
      ]
     },
     "execution_count": 106,
     "metadata": {},
     "output_type": "execute_result"
    }
   ],
   "source": [
    "from sklearn.metrics import f1_score\n",
    "f1_score(y_test, pred, average='weighted')"
   ]
  },
  {
   "cell_type": "code",
   "execution_count": 107,
   "id": "ef627d85",
   "metadata": {},
   "outputs": [
    {
     "data": {
      "text/plain": [
       "0.6621703827131107"
      ]
     },
     "execution_count": 107,
     "metadata": {},
     "output_type": "execute_result"
    }
   ],
   "source": [
    "f1_score(y_test, pred, average='micro')"
   ]
  },
  {
   "cell_type": "code",
   "execution_count": 108,
   "id": "f5724b71",
   "metadata": {},
   "outputs": [
    {
     "data": {
      "text/plain": [
       "0.4146831036218226"
      ]
     },
     "execution_count": 108,
     "metadata": {},
     "output_type": "execute_result"
    }
   ],
   "source": [
    "f1_score(y_test, pred, average='macro')"
   ]
  },
  {
   "cell_type": "code",
   "execution_count": 109,
   "id": "1fb8d04e",
   "metadata": {},
   "outputs": [
    {
     "data": {
      "image/png": "[encoded data removed]",
      "text/plain": [
       "<Figure size 432x288 with 2 Axes>"
      ]
     },
     "metadata": {
      "needs_background": "light"
     },
     "output_type": "display_data"
    }
   ],
   "source": [
    "import matplotlib.pyplot as plt\n",
    "from sklearn.metrics import confusion_matrix, ConfusionMatrixDisplay\n",
    "\n",
    "\n",
    "cm = confusion_matrix(y_test, pred)\n",
    "disp = ConfusionMatrixDisplay(confusion_matrix=cm,\n",
    "                              )\n",
    "disp.plot()\n",
    "\n",
    "plt.show()"
   ]
  },
  {
   "cell_type": "markdown",
   "id": "3b3be72f",
   "metadata": {},
   "source": [
    "## Conclusion\n",
    "The problem statement has asked us to provide with the weighted F1 score of the model.\n",
    "However it doesn't tell the full story.\n",
    "It is heavily biased due to severity of class imbalance that is present even after successive data cleaning.\n",
    "Although the model ABOD \"performs\" better according to the F1 score(~0.99) but it performs poorly during the actual detection of defects. Hence the model Random Forest Classifier is much better and should be considered.\n",
    "This model is able to **succesfully detect 676 defects** even before they have happened."
   ]
  },
  {
   "cell_type": "markdown",
   "id": "19afdafa",
   "metadata": {},
   "source": [
    "### Saving the model"
   ]
  },
  {
   "cell_type": "code",
   "execution_count": 110,
   "id": "421fe4b2",
   "metadata": {},
   "outputs": [
    {
     "data": {
      "text/plain": [
       "['ABOD.sav']"
      ]
     },
     "execution_count": 110,
     "metadata": {},
     "output_type": "execute_result"
    }
   ],
   "source": [
    "import joblib\n",
    "# save the model to disk\n",
    "filename = 'ABOD.sav'\n",
    "joblib.dump(clf, filename)"
   ]
  },
  {
   "cell_type": "code",
   "execution_count": 111,
   "id": "2341f4c5",
   "metadata": {},
   "outputs": [
    {
     "data": {
      "text/plain": [
       "['Random_Forest.sav']"
      ]
     },
     "execution_count": 111,
     "metadata": {},
     "output_type": "execute_result"
    }
   ],
   "source": [
    "import joblib\n",
    "# save the model to disk\n",
    "filename = 'Random_Forest.sav'\n",
    "joblib.dump(clfFinal, filename)"
   ]
  },
  {
   "cell_type": "code",
   "execution_count": 112,
   "id": "65ec0dd4",
   "metadata": {},
   "outputs": [],
   "source": [
    "# Uncomment this to loead the model\n",
    "# # load the model from disk\n",
    "# loaded_model = joblib.load(filename)\n",
    "# result = loaded_model.score(X_test, y_test)\n",
    "# print(result)"
   ]
  },
  {
   "cell_type": "markdown",
   "id": "a1828127",
   "metadata": {},
   "source": [
    "# Conclusion\n",
    "**The model is able to predict defects about 60% of the time even before they have occured.<br />\n",
    "the f1 score of model is 0.13. The model when applied to practical uses will help in significant reduction of errors and help save companies resources.**"
   ]
  }
 ],
 "metadata": {
  "kernelspec": {
   "display_name": "Python 3 (ipykernel)",
   "language": "python",
   "name": "python3"
  },
  "language_info": {
   "codemirror_mode": {
    "name": "ipython",
    "version": 3
   },
   "file_extension": ".py",
   "mimetype": "text/x-python",
   "name": "python",
   "nbconvert_exporter": "python",
   "pygments_lexer": "ipython3",
   "version": "3.8.13"
  }
 },
 "nbformat": 4,
 "nbformat_minor": 5
}
